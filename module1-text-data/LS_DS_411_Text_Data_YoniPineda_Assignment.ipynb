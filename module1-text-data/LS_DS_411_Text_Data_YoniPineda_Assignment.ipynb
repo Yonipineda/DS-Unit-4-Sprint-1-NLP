{
 "cells": [
  {
   "cell_type": "markdown",
   "metadata": {},
   "source": [
    "<img align=\"left\" src=\"https://lever-client-logos.s3.amazonaws.com/864372b1-534c-480e-acd5-9711f850815c-1524247202159.png\" width=200>\n",
    "<br></br>\n",
    "<br></br>\n",
    "\n",
    "# Natural Language Processing (NLP)\n",
    "## *Data Science Unit 4 Sprint 1 Assignment 1*\n",
    "\n",
    "Your goal in this assignment: find the attributes of the best & worst coffee shops in the dataset. The text is fairly raw: dates in the review, extra words in the `star_rating` column, etc. You'll probably want to clean that stuff up for a better analysis. \n",
    "\n",
    "Analyze the corpus of text using text visualizations of token frequency. Try cleaning the data as much as possible. Try the following techniques: \n",
    "- Lemmatization\n",
    "- Custom stopword removal\n",
    "\n",
    "Keep in mind the attributes of good tokens. Once you have a solid baseline, layer in the star rating in your visualization(s). Key part of this assignment - produce a write-up of the attributes of the best and worst coffee shops. Based on your analysis, what makes the best the best and the worst the worst. Use graphs and numbesr from your analysis to support your conclusions. There should be plenty of markdown cells! :coffee:"
   ]
  },
  {
   "cell_type": "code",
   "execution_count": 1,
   "metadata": {},
   "outputs": [
    {
     "data": {
      "image/jpeg": "[encoded data removed]",
      "text/html": [
       "\n",
       "        <iframe\n",
       "            width=\"400\"\n",
       "            height=\"300\"\n",
       "            src=\"https://www.youtube.com/embed/Jml7NVYm8cs\"\n",
       "            frameborder=\"0\"\n",
       "            allowfullscreen\n",
       "        ></iframe>\n",
       "        "
      ],
      "text/plain": [
       "<IPython.lib.display.YouTubeVideo at 0x1060d32e8>"
      ]
     },
     "execution_count": 1,
     "metadata": {},
     "output_type": "execute_result"
    }
   ],
   "source": [
    "from IPython.display import YouTubeVideo\n",
    "\n",
    "YouTubeVideo('Jml7NVYm8cs')"
   ]
  },
  {
   "cell_type": "code",
   "execution_count": 2,
   "metadata": {},
   "outputs": [
    {
     "data": {
      "text/plain": [
       "'/Users/yonipineda/lambda_folder/DS-Unit-4-Sprint-1-NLP/module1-text-data'"
      ]
     },
     "execution_count": 2,
     "metadata": {},
     "output_type": "execute_result"
    }
   ],
   "source": [
    "%pwd"
   ]
  },
  {
   "cell_type": "code",
   "execution_count": 2,
   "metadata": {},
   "outputs": [
    {
     "data": {
      "text/html": [
       "<div>\n",
       "<style scoped>\n",
       "    .dataframe tbody tr th:only-of-type {\n",
       "        vertical-align: middle;\n",
       "    }\n",
       "\n",
       "    .dataframe tbody tr th {\n",
       "        vertical-align: top;\n",
       "    }\n",
       "\n",
       "    .dataframe thead th {\n",
       "        text-align: right;\n",
       "    }\n",
       "</style>\n",
       "<table border=\"1\" class=\"dataframe\">\n",
       "  <thead>\n",
       "    <tr style=\"text-align: right;\">\n",
       "      <th></th>\n",
       "      <th>coffee_shop_name</th>\n",
       "      <th>full_review_text</th>\n",
       "      <th>star_rating</th>\n",
       "    </tr>\n",
       "  </thead>\n",
       "  <tbody>\n",
       "    <tr>\n",
       "      <th>0</th>\n",
       "      <td>The Factory - Cafe With a Soul</td>\n",
       "      <td>11/25/2016 1 check-in Love love loved the atm...</td>\n",
       "      <td>5.0 star rating</td>\n",
       "    </tr>\n",
       "    <tr>\n",
       "      <th>1</th>\n",
       "      <td>The Factory - Cafe With a Soul</td>\n",
       "      <td>12/2/2016 Listed in Date Night: Austin, Ambia...</td>\n",
       "      <td>4.0 star rating</td>\n",
       "    </tr>\n",
       "    <tr>\n",
       "      <th>2</th>\n",
       "      <td>The Factory - Cafe With a Soul</td>\n",
       "      <td>11/30/2016 1 check-in Listed in Brunch Spots ...</td>\n",
       "      <td>4.0 star rating</td>\n",
       "    </tr>\n",
       "    <tr>\n",
       "      <th>3</th>\n",
       "      <td>The Factory - Cafe With a Soul</td>\n",
       "      <td>11/25/2016 Very cool decor! Good drinks Nice ...</td>\n",
       "      <td>2.0 star rating</td>\n",
       "    </tr>\n",
       "    <tr>\n",
       "      <th>4</th>\n",
       "      <td>The Factory - Cafe With a Soul</td>\n",
       "      <td>12/3/2016 1 check-in They are located within ...</td>\n",
       "      <td>4.0 star rating</td>\n",
       "    </tr>\n",
       "  </tbody>\n",
       "</table>\n",
       "</div>"
      ],
      "text/plain": [
       "                  coffee_shop_name  \\\n",
       "0  The Factory - Cafe With a Soul    \n",
       "1  The Factory - Cafe With a Soul    \n",
       "2  The Factory - Cafe With a Soul    \n",
       "3  The Factory - Cafe With a Soul    \n",
       "4  The Factory - Cafe With a Soul    \n",
       "\n",
       "                                    full_review_text        star_rating  \n",
       "0   11/25/2016 1 check-in Love love loved the atm...   5.0 star rating   \n",
       "1   12/2/2016 Listed in Date Night: Austin, Ambia...   4.0 star rating   \n",
       "2   11/30/2016 1 check-in Listed in Brunch Spots ...   4.0 star rating   \n",
       "3   11/25/2016 Very cool decor! Good drinks Nice ...   2.0 star rating   \n",
       "4   12/3/2016 1 check-in They are located within ...   4.0 star rating   "
      ]
     },
     "execution_count": 2,
     "metadata": {},
     "output_type": "execute_result"
    }
   ],
   "source": [
    "import pandas as pd\n",
    "\n",
    "url = \"https://raw.githubusercontent.com/LambdaSchool/DS-Unit-4-Sprint-1-NLP/master/module1-text-data/data/yelp_coffeeshop_review_data.csv\"\n",
    "\n",
    "shops = pd.read_csv(url)\n",
    "shops.head()"
   ]
  },
  {
   "cell_type": "code",
   "execution_count": 3,
   "metadata": {},
   "outputs": [
    {
     "data": {
      "text/plain": [
       "(7616, 3)"
      ]
     },
     "execution_count": 3,
     "metadata": {},
     "output_type": "execute_result"
    }
   ],
   "source": [
    "# Start here \n",
    "# set shop as df\n",
    "df = shops\n",
    "\n",
    "# check shape\n",
    "df.shape"
   ]
  },
  {
   "cell_type": "code",
   "execution_count": 4,
   "metadata": {},
   "outputs": [
    {
     "data": {
      "text/html": [
       "<div>\n",
       "<style scoped>\n",
       "    .dataframe tbody tr th:only-of-type {\n",
       "        vertical-align: middle;\n",
       "    }\n",
       "\n",
       "    .dataframe tbody tr th {\n",
       "        vertical-align: top;\n",
       "    }\n",
       "\n",
       "    .dataframe thead th {\n",
       "        text-align: right;\n",
       "    }\n",
       "</style>\n",
       "<table border=\"1\" class=\"dataframe\">\n",
       "  <thead>\n",
       "    <tr style=\"text-align: right;\">\n",
       "      <th></th>\n",
       "      <th>coffee_shop_name</th>\n",
       "      <th>full_review_text</th>\n",
       "      <th>star_rating</th>\n",
       "    </tr>\n",
       "  </thead>\n",
       "  <tbody>\n",
       "    <tr>\n",
       "      <th>0</th>\n",
       "      <td>The Factory - Cafe With a Soul</td>\n",
       "      <td>11/25/2016 1 check-in Love love loved the atm...</td>\n",
       "      <td>5.0 star rating</td>\n",
       "    </tr>\n",
       "    <tr>\n",
       "      <th>1</th>\n",
       "      <td>The Factory - Cafe With a Soul</td>\n",
       "      <td>12/2/2016 Listed in Date Night: Austin, Ambia...</td>\n",
       "      <td>4.0 star rating</td>\n",
       "    </tr>\n",
       "    <tr>\n",
       "      <th>2</th>\n",
       "      <td>The Factory - Cafe With a Soul</td>\n",
       "      <td>11/30/2016 1 check-in Listed in Brunch Spots ...</td>\n",
       "      <td>4.0 star rating</td>\n",
       "    </tr>\n",
       "    <tr>\n",
       "      <th>3</th>\n",
       "      <td>The Factory - Cafe With a Soul</td>\n",
       "      <td>11/25/2016 Very cool decor! Good drinks Nice ...</td>\n",
       "      <td>2.0 star rating</td>\n",
       "    </tr>\n",
       "    <tr>\n",
       "      <th>4</th>\n",
       "      <td>The Factory - Cafe With a Soul</td>\n",
       "      <td>12/3/2016 1 check-in They are located within ...</td>\n",
       "      <td>4.0 star rating</td>\n",
       "    </tr>\n",
       "  </tbody>\n",
       "</table>\n",
       "</div>"
      ],
      "text/plain": [
       "                  coffee_shop_name  \\\n",
       "0  The Factory - Cafe With a Soul    \n",
       "1  The Factory - Cafe With a Soul    \n",
       "2  The Factory - Cafe With a Soul    \n",
       "3  The Factory - Cafe With a Soul    \n",
       "4  The Factory - Cafe With a Soul    \n",
       "\n",
       "                                    full_review_text        star_rating  \n",
       "0   11/25/2016 1 check-in Love love loved the atm...   5.0 star rating   \n",
       "1   12/2/2016 Listed in Date Night: Austin, Ambia...   4.0 star rating   \n",
       "2   11/30/2016 1 check-in Listed in Brunch Spots ...   4.0 star rating   \n",
       "3   11/25/2016 Very cool decor! Good drinks Nice ...   2.0 star rating   \n",
       "4   12/3/2016 1 check-in They are located within ...   4.0 star rating   "
      ]
     },
     "execution_count": 4,
     "metadata": {},
     "output_type": "execute_result"
    }
   ],
   "source": [
    "# check df\n",
    "df.head(5)"
   ]
  },
  {
   "cell_type": "markdown",
   "metadata": {},
   "source": [
    "## How do we want to analyze these coffee shop tokens? \n",
    "\n",
    "- Overall Word / Token Count\n",
    "- View Counts by Rating \n",
    "- *Hint:* a 'bad' coffee shops has a rating betweeen 1 & 3 based on the distribution of ratings. A 'good' coffee shop is a 4 or 5. "
   ]
  },
  {
   "cell_type": "markdown",
   "metadata": {},
   "source": [
    "## Token Count Using spacy and nltk\n",
    "    \n",
    "    - Removed the dates using the re package\n",
    "    - Used nltk.corpus stopwords to remove words not useful for our purpose--stopwords(english)\n",
    "    - Lowered strings\n",
    "    - Removed whitespaces\n",
    "    "
   ]
  },
  {
   "cell_type": "code",
   "execution_count": 41,
   "metadata": {},
   "outputs": [],
   "source": [
    "# imports\n",
    "import spacy \n",
    "import seaborn as sns\n",
    "import re \n",
    "import nltk \n",
    "import pandas as pd\n",
    "import numpy as np"
   ]
  },
  {
   "cell_type": "code",
   "execution_count": 6,
   "metadata": {},
   "outputs": [],
   "source": [
    "# load in the model \n",
    "nlp = spacy.load('en_core_web_lg')"
   ]
  },
  {
   "cell_type": "code",
   "execution_count": 7,
   "metadata": {},
   "outputs": [],
   "source": [
    "# tokenization \n",
    "df['doc'] = [nlp(text) for text in df.full_review_text]"
   ]
  },
  {
   "cell_type": "code",
   "execution_count": 8,
   "metadata": {},
   "outputs": [
    {
     "data": {
      "text/html": [
       "<div>\n",
       "<style scoped>\n",
       "    .dataframe tbody tr th:only-of-type {\n",
       "        vertical-align: middle;\n",
       "    }\n",
       "\n",
       "    .dataframe tbody tr th {\n",
       "        vertical-align: top;\n",
       "    }\n",
       "\n",
       "    .dataframe thead th {\n",
       "        text-align: right;\n",
       "    }\n",
       "</style>\n",
       "<table border=\"1\" class=\"dataframe\">\n",
       "  <thead>\n",
       "    <tr style=\"text-align: right;\">\n",
       "      <th></th>\n",
       "      <th>coffee_shop_name</th>\n",
       "      <th>full_review_text</th>\n",
       "      <th>star_rating</th>\n",
       "      <th>doc</th>\n",
       "    </tr>\n",
       "  </thead>\n",
       "  <tbody>\n",
       "    <tr>\n",
       "      <th>0</th>\n",
       "      <td>The Factory - Cafe With a Soul</td>\n",
       "      <td>11/25/2016 1 check-in Love love loved the atm...</td>\n",
       "      <td>5.0 star rating</td>\n",
       "      <td>( , 11/25/2016, 1, check, -, in, Love, love, l...</td>\n",
       "    </tr>\n",
       "    <tr>\n",
       "      <th>1</th>\n",
       "      <td>The Factory - Cafe With a Soul</td>\n",
       "      <td>12/2/2016 Listed in Date Night: Austin, Ambia...</td>\n",
       "      <td>4.0 star rating</td>\n",
       "      <td>( , 12/2/2016, Listed, in, Date, Night, :, Aus...</td>\n",
       "    </tr>\n",
       "    <tr>\n",
       "      <th>2</th>\n",
       "      <td>The Factory - Cafe With a Soul</td>\n",
       "      <td>11/30/2016 1 check-in Listed in Brunch Spots ...</td>\n",
       "      <td>4.0 star rating</td>\n",
       "      <td>( , 11/30/2016, 1, check, -, in, Listed, in, B...</td>\n",
       "    </tr>\n",
       "    <tr>\n",
       "      <th>3</th>\n",
       "      <td>The Factory - Cafe With a Soul</td>\n",
       "      <td>11/25/2016 Very cool decor! Good drinks Nice ...</td>\n",
       "      <td>2.0 star rating</td>\n",
       "      <td>( , 11/25/2016, Very, cool, decor, !, Good, dr...</td>\n",
       "    </tr>\n",
       "    <tr>\n",
       "      <th>4</th>\n",
       "      <td>The Factory - Cafe With a Soul</td>\n",
       "      <td>12/3/2016 1 check-in They are located within ...</td>\n",
       "      <td>4.0 star rating</td>\n",
       "      <td>( , 12/3/2016, 1, check, -, in, They, are, loc...</td>\n",
       "    </tr>\n",
       "  </tbody>\n",
       "</table>\n",
       "</div>"
      ],
      "text/plain": [
       "                  coffee_shop_name  \\\n",
       "0  The Factory - Cafe With a Soul    \n",
       "1  The Factory - Cafe With a Soul    \n",
       "2  The Factory - Cafe With a Soul    \n",
       "3  The Factory - Cafe With a Soul    \n",
       "4  The Factory - Cafe With a Soul    \n",
       "\n",
       "                                    full_review_text        star_rating  \\\n",
       "0   11/25/2016 1 check-in Love love loved the atm...   5.0 star rating    \n",
       "1   12/2/2016 Listed in Date Night: Austin, Ambia...   4.0 star rating    \n",
       "2   11/30/2016 1 check-in Listed in Brunch Spots ...   4.0 star rating    \n",
       "3   11/25/2016 Very cool decor! Good drinks Nice ...   2.0 star rating    \n",
       "4   12/3/2016 1 check-in They are located within ...   4.0 star rating    \n",
       "\n",
       "                                                 doc  \n",
       "0  ( , 11/25/2016, 1, check, -, in, Love, love, l...  \n",
       "1  ( , 12/2/2016, Listed, in, Date, Night, :, Aus...  \n",
       "2  ( , 11/30/2016, 1, check, -, in, Listed, in, B...  \n",
       "3  ( , 11/25/2016, Very, cool, decor, !, Good, dr...  \n",
       "4  ( , 12/3/2016, 1, check, -, in, They, are, loc...  "
      ]
     },
     "execution_count": 8,
     "metadata": {},
     "output_type": "execute_result"
    }
   ],
   "source": [
    "# making sure the doc column was created \n",
    "# asserting that ['df.full_review_text'] was tokenized\n",
    "df.head(5)\n",
    "\n",
    "# nice, the ['df.full_review_text'] was converted into a set"
   ]
  },
  {
   "cell_type": "code",
   "execution_count": 9,
   "metadata": {},
   "outputs": [
    {
     "data": {
      "text/plain": [
       "<matplotlib.axes._subplots.AxesSubplot at 0x12276ecf8>"
      ]
     },
     "execution_count": 9,
     "metadata": {},
     "output_type": "execute_result"
    },
    {
     "data": {
      "image/png": "[encoded data removed]",
      "text/plain": [
       "<Figure size 432x288 with 1 Axes>"
      ]
     },
     "metadata": {
      "needs_background": "light"
     },
     "output_type": "display_data"
    }
   ],
   "source": [
    "# creating the first visualization\n",
    "\n",
    "# total number of tokens in the row \n",
    "df['n_tokens'] = [len(t) for t in df.doc]\n",
    "\n",
    "# plot \n",
    "plot = sns.distplot(df.n_tokens)\n",
    "\n",
    "plot"
   ]
  },
  {
   "cell_type": "code",
   "execution_count": 10,
   "metadata": {},
   "outputs": [
    {
     "data": {
      "text/plain": [
       "56    73\n",
       "49    67\n",
       "40    65\n",
       "68    64\n",
       "37    64\n",
       "71    62\n",
       "34    61\n",
       "50    61\n",
       "29    61\n",
       "65    60\n",
       "45    59\n",
       "33    59\n",
       "75    57\n",
       "30    57\n",
       "41    55\n",
       "96    55\n",
       "26    55\n",
       "35    55\n",
       "44    54\n",
       "43    54\n",
       "Name: n_tokens, dtype: int64"
      ]
     },
     "execution_count": 10,
     "metadata": {},
     "output_type": "execute_result"
    }
   ],
   "source": [
    "# check value counts of df['n_tokens']\n",
    "# top20 token counts\n",
    "df['n_tokens'].value_counts()[:20]"
   ]
  },
  {
   "cell_type": "code",
   "execution_count": 11,
   "metadata": {},
   "outputs": [
    {
     "data": {
      "text/html": [
       "<div>\n",
       "<style scoped>\n",
       "    .dataframe tbody tr th:only-of-type {\n",
       "        vertical-align: middle;\n",
       "    }\n",
       "\n",
       "    .dataframe tbody tr th {\n",
       "        vertical-align: top;\n",
       "    }\n",
       "\n",
       "    .dataframe thead th {\n",
       "        text-align: right;\n",
       "    }\n",
       "</style>\n",
       "<table border=\"1\" class=\"dataframe\">\n",
       "  <thead>\n",
       "    <tr style=\"text-align: right;\">\n",
       "      <th></th>\n",
       "      <th>coffee_shop_name</th>\n",
       "      <th>full_review_text</th>\n",
       "      <th>star_rating</th>\n",
       "      <th>doc</th>\n",
       "      <th>n_tokens</th>\n",
       "    </tr>\n",
       "  </thead>\n",
       "  <tbody>\n",
       "    <tr>\n",
       "      <th>0</th>\n",
       "      <td>The Factory - Cafe With a Soul</td>\n",
       "      <td>11/25/2016 1 check-in Love love loved the atm...</td>\n",
       "      <td>5.0 star rating</td>\n",
       "      <td>( , 11/25/2016, 1, check, -, in, Love, love, l...</td>\n",
       "      <td>118</td>\n",
       "    </tr>\n",
       "    <tr>\n",
       "      <th>1</th>\n",
       "      <td>The Factory - Cafe With a Soul</td>\n",
       "      <td>12/2/2016 Listed in Date Night: Austin, Ambia...</td>\n",
       "      <td>4.0 star rating</td>\n",
       "      <td>( , 12/2/2016, Listed, in, Date, Night, :, Aus...</td>\n",
       "      <td>73</td>\n",
       "    </tr>\n",
       "    <tr>\n",
       "      <th>2</th>\n",
       "      <td>The Factory - Cafe With a Soul</td>\n",
       "      <td>11/30/2016 1 check-in Listed in Brunch Spots ...</td>\n",
       "      <td>4.0 star rating</td>\n",
       "      <td>( , 11/30/2016, 1, check, -, in, Listed, in, B...</td>\n",
       "      <td>279</td>\n",
       "    </tr>\n",
       "    <tr>\n",
       "      <th>3</th>\n",
       "      <td>The Factory - Cafe With a Soul</td>\n",
       "      <td>11/25/2016 Very cool decor! Good drinks Nice ...</td>\n",
       "      <td>2.0 star rating</td>\n",
       "      <td>( , 11/25/2016, Very, cool, decor, !, Good, dr...</td>\n",
       "      <td>83</td>\n",
       "    </tr>\n",
       "    <tr>\n",
       "      <th>4</th>\n",
       "      <td>The Factory - Cafe With a Soul</td>\n",
       "      <td>12/3/2016 1 check-in They are located within ...</td>\n",
       "      <td>4.0 star rating</td>\n",
       "      <td>( , 12/3/2016, 1, check, -, in, They, are, loc...</td>\n",
       "      <td>131</td>\n",
       "    </tr>\n",
       "  </tbody>\n",
       "</table>\n",
       "</div>"
      ],
      "text/plain": [
       "                  coffee_shop_name  \\\n",
       "0  The Factory - Cafe With a Soul    \n",
       "1  The Factory - Cafe With a Soul    \n",
       "2  The Factory - Cafe With a Soul    \n",
       "3  The Factory - Cafe With a Soul    \n",
       "4  The Factory - Cafe With a Soul    \n",
       "\n",
       "                                    full_review_text        star_rating  \\\n",
       "0   11/25/2016 1 check-in Love love loved the atm...   5.0 star rating    \n",
       "1   12/2/2016 Listed in Date Night: Austin, Ambia...   4.0 star rating    \n",
       "2   11/30/2016 1 check-in Listed in Brunch Spots ...   4.0 star rating    \n",
       "3   11/25/2016 Very cool decor! Good drinks Nice ...   2.0 star rating    \n",
       "4   12/3/2016 1 check-in They are located within ...   4.0 star rating    \n",
       "\n",
       "                                                 doc  n_tokens  \n",
       "0  ( , 11/25/2016, 1, check, -, in, Love, love, l...       118  \n",
       "1  ( , 12/2/2016, Listed, in, Date, Night, :, Aus...        73  \n",
       "2  ( , 11/30/2016, 1, check, -, in, Listed, in, B...       279  \n",
       "3  ( , 11/25/2016, Very, cool, decor, !, Good, dr...        83  \n",
       "4  ( , 12/3/2016, 1, check, -, in, They, are, loc...       131  "
      ]
     },
     "execution_count": 11,
     "metadata": {},
     "output_type": "execute_result"
    }
   ],
   "source": [
    "# check df\n",
    "df.head()"
   ]
  },
  {
   "cell_type": "code",
   "execution_count": 12,
   "metadata": {},
   "outputs": [],
   "source": [
    "# lowercase everything\n",
    "df['full_review_text'] = df['full_review_text'].map(lambda x: x.lower())\n",
    "\n",
    "# strip leading whitespaces \n",
    "df['full_review_text'] = df['full_review_text'].map(lambda x: x.strip())"
   ]
  },
  {
   "cell_type": "code",
   "execution_count": 13,
   "metadata": {},
   "outputs": [
    {
     "data": {
      "text/plain": [
       "0       11/25/2016 1 check-in love love loved the atmo...\n",
       "1       12/2/2016 listed in date night: austin, ambian...\n",
       "2       11/30/2016 1 check-in listed in brunch spots i...\n",
       "3       11/25/2016 very cool decor! good drinks nice s...\n",
       "4       12/3/2016 1 check-in they are located within t...\n",
       "                              ...                        \n",
       "7611    2/19/2015 i actually step into this restaurant...\n",
       "7612    1/21/2016 ok, the steeping room is awesome. ho...\n",
       "7613    4/30/2015 loved coming here for tea, and the a...\n",
       "7614    8/2/2015 the food is just average. the booths ...\n",
       "7615    5/23/2015 i finally stopped in for lunch with ...\n",
       "Name: full_review_text, Length: 7616, dtype: object"
      ]
     },
     "execution_count": 13,
     "metadata": {},
     "output_type": "execute_result"
    }
   ],
   "source": [
    "# making sure the changes were properly applied \n",
    "df['full_review_text']"
   ]
  },
  {
   "cell_type": "code",
   "execution_count": 14,
   "metadata": {},
   "outputs": [],
   "source": [
    "# Using re(Regular Expression)\n",
    "# The dates have no significant importance on wether or not a coffee shop is good\n",
    "# Ill remove them using the re package\n",
    "df['full_review_text'] = df['full_review_text'].map(lambda x: re.sub(\"[^a-z\\s]\", \"\", x))"
   ]
  },
  {
   "cell_type": "code",
   "execution_count": 16,
   "metadata": {},
   "outputs": [
    {
     "data": {
      "text/plain": [
       "0         checkin love love loved the atmosphere every...\n",
       "1        listed in date night austin ambiance in austi...\n",
       "2         checkin listed in brunch spots i loved the e...\n",
       "3        very cool decor good drinks nice seating  how...\n",
       "4         checkin they are located within the northcro...\n",
       "                              ...                        \n",
       "7611     i actually step into this restaurant by chanc...\n",
       "7612     ok the steeping room is awesome how do they h...\n",
       "7613     loved coming here for tea and the atmosphere ...\n",
       "7614     the food is just average the booths didnt fee...\n",
       "7615     i finally stopped in for lunch with my collea...\n",
       "Name: full_review_text, Length: 7616, dtype: object"
      ]
     },
     "execution_count": 16,
     "metadata": {},
     "output_type": "execute_result"
    }
   ],
   "source": [
    "# no dates\n",
    "df['full_review_text']"
   ]
  },
  {
   "cell_type": "code",
   "execution_count": 15,
   "metadata": {},
   "outputs": [
    {
     "data": {
      "text/html": [
       "<div>\n",
       "<style scoped>\n",
       "    .dataframe tbody tr th:only-of-type {\n",
       "        vertical-align: middle;\n",
       "    }\n",
       "\n",
       "    .dataframe tbody tr th {\n",
       "        vertical-align: top;\n",
       "    }\n",
       "\n",
       "    .dataframe thead th {\n",
       "        text-align: right;\n",
       "    }\n",
       "</style>\n",
       "<table border=\"1\" class=\"dataframe\">\n",
       "  <thead>\n",
       "    <tr style=\"text-align: right;\">\n",
       "      <th></th>\n",
       "      <th>coffee_shop_name</th>\n",
       "      <th>full_review_text</th>\n",
       "      <th>star_rating</th>\n",
       "      <th>doc</th>\n",
       "      <th>n_tokens</th>\n",
       "    </tr>\n",
       "  </thead>\n",
       "  <tbody>\n",
       "    <tr>\n",
       "      <th>0</th>\n",
       "      <td>The Factory - Cafe With a Soul</td>\n",
       "      <td>checkin love love loved the atmosphere every...</td>\n",
       "      <td>5.0 star rating</td>\n",
       "      <td>( , 11/25/2016, 1, check, -, in, Love, love, l...</td>\n",
       "      <td>118</td>\n",
       "    </tr>\n",
       "    <tr>\n",
       "      <th>1</th>\n",
       "      <td>The Factory - Cafe With a Soul</td>\n",
       "      <td>listed in date night austin ambiance in austi...</td>\n",
       "      <td>4.0 star rating</td>\n",
       "      <td>( , 12/2/2016, Listed, in, Date, Night, :, Aus...</td>\n",
       "      <td>73</td>\n",
       "    </tr>\n",
       "    <tr>\n",
       "      <th>2</th>\n",
       "      <td>The Factory - Cafe With a Soul</td>\n",
       "      <td>checkin listed in brunch spots i loved the e...</td>\n",
       "      <td>4.0 star rating</td>\n",
       "      <td>( , 11/30/2016, 1, check, -, in, Listed, in, B...</td>\n",
       "      <td>279</td>\n",
       "    </tr>\n",
       "    <tr>\n",
       "      <th>3</th>\n",
       "      <td>The Factory - Cafe With a Soul</td>\n",
       "      <td>very cool decor good drinks nice seating  how...</td>\n",
       "      <td>2.0 star rating</td>\n",
       "      <td>( , 11/25/2016, Very, cool, decor, !, Good, dr...</td>\n",
       "      <td>83</td>\n",
       "    </tr>\n",
       "    <tr>\n",
       "      <th>4</th>\n",
       "      <td>The Factory - Cafe With a Soul</td>\n",
       "      <td>checkin they are located within the northcro...</td>\n",
       "      <td>4.0 star rating</td>\n",
       "      <td>( , 12/3/2016, 1, check, -, in, They, are, loc...</td>\n",
       "      <td>131</td>\n",
       "    </tr>\n",
       "  </tbody>\n",
       "</table>\n",
       "</div>"
      ],
      "text/plain": [
       "                  coffee_shop_name  \\\n",
       "0  The Factory - Cafe With a Soul    \n",
       "1  The Factory - Cafe With a Soul    \n",
       "2  The Factory - Cafe With a Soul    \n",
       "3  The Factory - Cafe With a Soul    \n",
       "4  The Factory - Cafe With a Soul    \n",
       "\n",
       "                                    full_review_text        star_rating  \\\n",
       "0    checkin love love loved the atmosphere every...   5.0 star rating    \n",
       "1   listed in date night austin ambiance in austi...   4.0 star rating    \n",
       "2    checkin listed in brunch spots i loved the e...   4.0 star rating    \n",
       "3   very cool decor good drinks nice seating  how...   2.0 star rating    \n",
       "4    checkin they are located within the northcro...   4.0 star rating    \n",
       "\n",
       "                                                 doc  n_tokens  \n",
       "0  ( , 11/25/2016, 1, check, -, in, Love, love, l...       118  \n",
       "1  ( , 12/2/2016, Listed, in, Date, Night, :, Aus...        73  \n",
       "2  ( , 11/30/2016, 1, check, -, in, Listed, in, B...       279  \n",
       "3  ( , 11/25/2016, Very, cool, decor, !, Good, dr...        83  \n",
       "4  ( , 12/3/2016, 1, check, -, in, They, are, loc...       131  "
      ]
     },
     "execution_count": 15,
     "metadata": {},
     "output_type": "execute_result"
    }
   ],
   "source": [
    "# asseriting changes were applied\n",
    "df.head()"
   ]
  },
  {
   "cell_type": "code",
   "execution_count": 17,
   "metadata": {},
   "outputs": [
    {
     "name": "stdout",
     "output_type": "stream",
     "text": [
      "showing info https://raw.githubusercontent.com/nltk/nltk_data/gh-pages/index.xml\n"
     ]
    },
    {
     "data": {
      "text/plain": [
       "True"
      ]
     },
     "execution_count": 17,
     "metadata": {},
     "output_type": "execute_result"
    }
   ],
   "source": [
    "# nltk(Natural Language Tool-Kit)\n",
    "nltk.download()"
   ]
  },
  {
   "cell_type": "code",
   "execution_count": 18,
   "metadata": {},
   "outputs": [],
   "source": [
    "# Using the stopwords stored in the english language to have our data rid of words \n",
    "# that are not useful for finding out wether or not a coffee shop is good or not.\n",
    "from nltk.corpus import stopwords\n",
    "stopwords = set(stopwords.words(\"english\"))\n",
    "df['full_review_text'] = df['full_review_text'].apply(lambda x: \" \".join(w for w in x.split() if w not in stopwords))"
   ]
  },
  {
   "cell_type": "code",
   "execution_count": 20,
   "metadata": {},
   "outputs": [],
   "source": [
    "# re-tokenize doc with all the changes made to df.full_review_text\n",
    "df['doc'] = [nlp(t) for t in df.full_review_text]"
   ]
  },
  {
   "cell_type": "code",
   "execution_count": 22,
   "metadata": {},
   "outputs": [
    {
     "data": {
      "text/html": [
       "<div>\n",
       "<style scoped>\n",
       "    .dataframe tbody tr th:only-of-type {\n",
       "        vertical-align: middle;\n",
       "    }\n",
       "\n",
       "    .dataframe tbody tr th {\n",
       "        vertical-align: top;\n",
       "    }\n",
       "\n",
       "    .dataframe thead th {\n",
       "        text-align: right;\n",
       "    }\n",
       "</style>\n",
       "<table border=\"1\" class=\"dataframe\">\n",
       "  <thead>\n",
       "    <tr style=\"text-align: right;\">\n",
       "      <th></th>\n",
       "      <th>coffee_shop_name</th>\n",
       "      <th>full_review_text</th>\n",
       "      <th>star_rating</th>\n",
       "      <th>doc</th>\n",
       "      <th>n_tokens</th>\n",
       "    </tr>\n",
       "  </thead>\n",
       "  <tbody>\n",
       "    <tr>\n",
       "      <th>0</th>\n",
       "      <td>The Factory - Cafe With a Soul</td>\n",
       "      <td>checkin love love loved atmosphere every corne...</td>\n",
       "      <td>5.0 star rating</td>\n",
       "      <td>(checkin, love, love, loved, atmosphere, every...</td>\n",
       "      <td>118</td>\n",
       "    </tr>\n",
       "    <tr>\n",
       "      <th>1</th>\n",
       "      <td>The Factory - Cafe With a Soul</td>\n",
       "      <td>listed date night austin ambiance austin beaut...</td>\n",
       "      <td>4.0 star rating</td>\n",
       "      <td>(listed, date, night, austin, ambiance, austin...</td>\n",
       "      <td>73</td>\n",
       "    </tr>\n",
       "    <tr>\n",
       "      <th>2</th>\n",
       "      <td>The Factory - Cafe With a Soul</td>\n",
       "      <td>checkin listed brunch spots loved eclectic hom...</td>\n",
       "      <td>4.0 star rating</td>\n",
       "      <td>(checkin, listed, brunch, spots, loved, eclect...</td>\n",
       "      <td>279</td>\n",
       "    </tr>\n",
       "    <tr>\n",
       "      <th>3</th>\n",
       "      <td>The Factory - Cafe With a Soul</td>\n",
       "      <td>cool decor good drinks nice seating however ev...</td>\n",
       "      <td>2.0 star rating</td>\n",
       "      <td>(cool, decor, good, drinks, nice, seating, how...</td>\n",
       "      <td>83</td>\n",
       "    </tr>\n",
       "    <tr>\n",
       "      <th>4</th>\n",
       "      <td>The Factory - Cafe With a Soul</td>\n",
       "      <td>checkin located within northcross mall shoppin...</td>\n",
       "      <td>4.0 star rating</td>\n",
       "      <td>(checkin, located, within, northcross, mall, s...</td>\n",
       "      <td>131</td>\n",
       "    </tr>\n",
       "  </tbody>\n",
       "</table>\n",
       "</div>"
      ],
      "text/plain": [
       "                  coffee_shop_name  \\\n",
       "0  The Factory - Cafe With a Soul    \n",
       "1  The Factory - Cafe With a Soul    \n",
       "2  The Factory - Cafe With a Soul    \n",
       "3  The Factory - Cafe With a Soul    \n",
       "4  The Factory - Cafe With a Soul    \n",
       "\n",
       "                                    full_review_text        star_rating  \\\n",
       "0  checkin love love loved atmosphere every corne...   5.0 star rating    \n",
       "1  listed date night austin ambiance austin beaut...   4.0 star rating    \n",
       "2  checkin listed brunch spots loved eclectic hom...   4.0 star rating    \n",
       "3  cool decor good drinks nice seating however ev...   2.0 star rating    \n",
       "4  checkin located within northcross mall shoppin...   4.0 star rating    \n",
       "\n",
       "                                                 doc  n_tokens  \n",
       "0  (checkin, love, love, loved, atmosphere, every...       118  \n",
       "1  (listed, date, night, austin, ambiance, austin...        73  \n",
       "2  (checkin, listed, brunch, spots, loved, eclect...       279  \n",
       "3  (cool, decor, good, drinks, nice, seating, how...        83  \n",
       "4  (checkin, located, within, northcross, mall, s...       131  "
      ]
     },
     "execution_count": 22,
     "metadata": {},
     "output_type": "execute_result"
    }
   ],
   "source": [
    "# assert changes were made\n",
    "df.head()"
   ]
  },
  {
   "cell_type": "code",
   "execution_count": 23,
   "metadata": {},
   "outputs": [
    {
     "data": {
      "text/plain": [
       "0       (checkin, love, love, loved, atmosphere, every...\n",
       "1       (listed, date, night, austin, ambiance, austin...\n",
       "2       (checkin, listed, brunch, spots, loved, eclect...\n",
       "3       (cool, decor, good, drinks, nice, seating, how...\n",
       "4       (checkin, located, within, northcross, mall, s...\n",
       "                              ...                        \n",
       "7611    (actually, step, restaurant, chance, one, favo...\n",
       "7612    (ok, steeping, room, awesome, many, great, men...\n",
       "7613    (loved, coming, tea, atmosphere, pretty, fresh...\n",
       "7614    (food, average, booths, did, nt, feel, clean, ...\n",
       "7615    (finally, stopped, lunch, colleague, i, m, gla...\n",
       "Name: doc, Length: 7616, dtype: object"
      ]
     },
     "execution_count": 23,
     "metadata": {},
     "output_type": "execute_result"
    }
   ],
   "source": [
    "# doc has all the changes made to df.full_review_text\n",
    "df['doc']"
   ]
  },
  {
   "cell_type": "code",
   "execution_count": 28,
   "metadata": {},
   "outputs": [
    {
     "data": {
      "text/plain": [
       "<matplotlib.axes._subplots.AxesSubplot at 0x186657eb8>"
      ]
     },
     "execution_count": 28,
     "metadata": {},
     "output_type": "execute_result"
    },
    {
     "data": {
      "image/png": "[encoded data removed]",
      "text/plain": [
       "<Figure size 432x288 with 1 Axes>"
      ]
     },
     "metadata": {
      "needs_background": "light"
     },
     "output_type": "display_data"
    }
   ],
   "source": [
    "# visualize number of tokens \n",
    "# update n_tokens and re-graph\n",
    "df['n_tokens'] = [len(t) for t in df.doc]\n",
    "\n",
    "# plot\n",
    "plot = sns.distplot(df.n_tokens)\n",
    "\n",
    "plot"
   ]
  },
  {
   "cell_type": "code",
   "execution_count": 32,
   "metadata": {},
   "outputs": [
    {
     "data": {
      "text/plain": [
       "19    138\n",
       "26    135\n",
       "20    133\n",
       "21    133\n",
       "27    129\n",
       "14    128\n",
       "34    128\n",
       "13    127\n",
       "23    121\n",
       "31    118\n",
       "16    117\n",
       "18    116\n",
       "17    115\n",
       "29    114\n",
       "24    112\n",
       "32    112\n",
       "28    110\n",
       "25    108\n",
       "15    106\n",
       "22    104\n",
       "30    104\n",
       "47    103\n",
       "42     99\n",
       "33     99\n",
       "12     98\n",
       "37     97\n",
       "36     95\n",
       "49     91\n",
       "43     90\n",
       "45     90\n",
       "Name: n_tokens, dtype: int64"
      ]
     },
     "execution_count": 32,
     "metadata": {},
     "output_type": "execute_result"
    }
   ],
   "source": [
    "# token count top30\n",
    "# Most tokens fall with 14-50\n",
    "# defintely different from the previous visualizing/tokenization created without the data cleaning \n",
    "df['n_tokens'].value_counts()[:30]"
   ]
  },
  {
   "cell_type": "markdown",
   "metadata": {},
   "source": [
    "## Cleaning Ratings\n",
    "\n",
    "    - Remove everything but the actual numerical rating(5.0, 4.0, etc) using the .strip() and .split() method.\n",
    "    - Remove whitespace\n",
    "    - Tokenize Ratings "
   ]
  },
  {
   "cell_type": "code",
   "execution_count": 33,
   "metadata": {},
   "outputs": [],
   "source": [
    "# remove whitespace \n",
    "df['star_rating'] = df['star_rating'].map(lambda x: x.strip())"
   ]
  },
  {
   "cell_type": "code",
   "execution_count": 36,
   "metadata": {},
   "outputs": [],
   "source": [
    "# keep only the number and remove the rest \n",
    "df['star_rating'] = df['star_rating'].str.split().str[0].str.strip()"
   ]
  },
  {
   "cell_type": "code",
   "execution_count": 37,
   "metadata": {},
   "outputs": [
    {
     "data": {
      "text/html": [
       "<div>\n",
       "<style scoped>\n",
       "    .dataframe tbody tr th:only-of-type {\n",
       "        vertical-align: middle;\n",
       "    }\n",
       "\n",
       "    .dataframe tbody tr th {\n",
       "        vertical-align: top;\n",
       "    }\n",
       "\n",
       "    .dataframe thead th {\n",
       "        text-align: right;\n",
       "    }\n",
       "</style>\n",
       "<table border=\"1\" class=\"dataframe\">\n",
       "  <thead>\n",
       "    <tr style=\"text-align: right;\">\n",
       "      <th></th>\n",
       "      <th>coffee_shop_name</th>\n",
       "      <th>full_review_text</th>\n",
       "      <th>star_rating</th>\n",
       "      <th>doc</th>\n",
       "      <th>n_tokens</th>\n",
       "    </tr>\n",
       "  </thead>\n",
       "  <tbody>\n",
       "    <tr>\n",
       "      <th>0</th>\n",
       "      <td>The Factory - Cafe With a Soul</td>\n",
       "      <td>checkin love love loved atmosphere every corne...</td>\n",
       "      <td>5.0</td>\n",
       "      <td>(checkin, love, love, loved, atmosphere, every...</td>\n",
       "      <td>49</td>\n",
       "    </tr>\n",
       "    <tr>\n",
       "      <th>1</th>\n",
       "      <td>The Factory - Cafe With a Soul</td>\n",
       "      <td>listed date night austin ambiance austin beaut...</td>\n",
       "      <td>4.0</td>\n",
       "      <td>(listed, date, night, austin, ambiance, austin...</td>\n",
       "      <td>26</td>\n",
       "    </tr>\n",
       "    <tr>\n",
       "      <th>2</th>\n",
       "      <td>The Factory - Cafe With a Soul</td>\n",
       "      <td>checkin listed brunch spots loved eclectic hom...</td>\n",
       "      <td>4.0</td>\n",
       "      <td>(checkin, listed, brunch, spots, loved, eclect...</td>\n",
       "      <td>118</td>\n",
       "    </tr>\n",
       "    <tr>\n",
       "      <th>3</th>\n",
       "      <td>The Factory - Cafe With a Soul</td>\n",
       "      <td>cool decor good drinks nice seating however ev...</td>\n",
       "      <td>2.0</td>\n",
       "      <td>(cool, decor, good, drinks, nice, seating, how...</td>\n",
       "      <td>39</td>\n",
       "    </tr>\n",
       "    <tr>\n",
       "      <th>4</th>\n",
       "      <td>The Factory - Cafe With a Soul</td>\n",
       "      <td>checkin located within northcross mall shoppin...</td>\n",
       "      <td>4.0</td>\n",
       "      <td>(checkin, located, within, northcross, mall, s...</td>\n",
       "      <td>68</td>\n",
       "    </tr>\n",
       "  </tbody>\n",
       "</table>\n",
       "</div>"
      ],
      "text/plain": [
       "                  coffee_shop_name  \\\n",
       "0  The Factory - Cafe With a Soul    \n",
       "1  The Factory - Cafe With a Soul    \n",
       "2  The Factory - Cafe With a Soul    \n",
       "3  The Factory - Cafe With a Soul    \n",
       "4  The Factory - Cafe With a Soul    \n",
       "\n",
       "                                    full_review_text star_rating  \\\n",
       "0  checkin love love loved atmosphere every corne...         5.0   \n",
       "1  listed date night austin ambiance austin beaut...         4.0   \n",
       "2  checkin listed brunch spots loved eclectic hom...         4.0   \n",
       "3  cool decor good drinks nice seating however ev...         2.0   \n",
       "4  checkin located within northcross mall shoppin...         4.0   \n",
       "\n",
       "                                                 doc  n_tokens  \n",
       "0  (checkin, love, love, loved, atmosphere, every...        49  \n",
       "1  (listed, date, night, austin, ambiance, austin...        26  \n",
       "2  (checkin, listed, brunch, spots, loved, eclect...       118  \n",
       "3  (cool, decor, good, drinks, nice, seating, how...        39  \n",
       "4  (checkin, located, within, northcross, mall, s...        68  "
      ]
     },
     "execution_count": 37,
     "metadata": {},
     "output_type": "execute_result"
    }
   ],
   "source": [
    "# assert changes \n",
    "df.head()"
   ]
  },
  {
   "cell_type": "code",
   "execution_count": 38,
   "metadata": {},
   "outputs": [
    {
     "data": {
      "text/plain": [
       "0       5.0\n",
       "1       4.0\n",
       "2       4.0\n",
       "3       2.0\n",
       "4       4.0\n",
       "       ... \n",
       "7611    4.0\n",
       "7612    5.0\n",
       "7613    4.0\n",
       "7614    3.0\n",
       "7615    4.0\n",
       "Name: star_rating, Length: 7616, dtype: object"
      ]
     },
     "execution_count": 38,
     "metadata": {},
     "output_type": "execute_result"
    }
   ],
   "source": [
    "# Only the number remains\n",
    "df['star_rating']"
   ]
  },
  {
   "cell_type": "code",
   "execution_count": 39,
   "metadata": {},
   "outputs": [],
   "source": [
    "# tokenize ratings\n",
    "df['ratings_tokenized'] = [nlp(t) for t in df.star_rating]"
   ]
  },
  {
   "cell_type": "code",
   "execution_count": 40,
   "metadata": {},
   "outputs": [
    {
     "data": {
      "text/html": [
       "<div>\n",
       "<style scoped>\n",
       "    .dataframe tbody tr th:only-of-type {\n",
       "        vertical-align: middle;\n",
       "    }\n",
       "\n",
       "    .dataframe tbody tr th {\n",
       "        vertical-align: top;\n",
       "    }\n",
       "\n",
       "    .dataframe thead th {\n",
       "        text-align: right;\n",
       "    }\n",
       "</style>\n",
       "<table border=\"1\" class=\"dataframe\">\n",
       "  <thead>\n",
       "    <tr style=\"text-align: right;\">\n",
       "      <th></th>\n",
       "      <th>coffee_shop_name</th>\n",
       "      <th>full_review_text</th>\n",
       "      <th>star_rating</th>\n",
       "      <th>doc</th>\n",
       "      <th>n_tokens</th>\n",
       "      <th>ratings_tokenized</th>\n",
       "    </tr>\n",
       "  </thead>\n",
       "  <tbody>\n",
       "    <tr>\n",
       "      <th>0</th>\n",
       "      <td>The Factory - Cafe With a Soul</td>\n",
       "      <td>checkin love love loved atmosphere every corne...</td>\n",
       "      <td>5.0</td>\n",
       "      <td>(checkin, love, love, loved, atmosphere, every...</td>\n",
       "      <td>49</td>\n",
       "      <td>(5.0)</td>\n",
       "    </tr>\n",
       "    <tr>\n",
       "      <th>1</th>\n",
       "      <td>The Factory - Cafe With a Soul</td>\n",
       "      <td>listed date night austin ambiance austin beaut...</td>\n",
       "      <td>4.0</td>\n",
       "      <td>(listed, date, night, austin, ambiance, austin...</td>\n",
       "      <td>26</td>\n",
       "      <td>(4.0)</td>\n",
       "    </tr>\n",
       "    <tr>\n",
       "      <th>2</th>\n",
       "      <td>The Factory - Cafe With a Soul</td>\n",
       "      <td>checkin listed brunch spots loved eclectic hom...</td>\n",
       "      <td>4.0</td>\n",
       "      <td>(checkin, listed, brunch, spots, loved, eclect...</td>\n",
       "      <td>118</td>\n",
       "      <td>(4.0)</td>\n",
       "    </tr>\n",
       "    <tr>\n",
       "      <th>3</th>\n",
       "      <td>The Factory - Cafe With a Soul</td>\n",
       "      <td>cool decor good drinks nice seating however ev...</td>\n",
       "      <td>2.0</td>\n",
       "      <td>(cool, decor, good, drinks, nice, seating, how...</td>\n",
       "      <td>39</td>\n",
       "      <td>(2.0)</td>\n",
       "    </tr>\n",
       "    <tr>\n",
       "      <th>4</th>\n",
       "      <td>The Factory - Cafe With a Soul</td>\n",
       "      <td>checkin located within northcross mall shoppin...</td>\n",
       "      <td>4.0</td>\n",
       "      <td>(checkin, located, within, northcross, mall, s...</td>\n",
       "      <td>68</td>\n",
       "      <td>(4.0)</td>\n",
       "    </tr>\n",
       "  </tbody>\n",
       "</table>\n",
       "</div>"
      ],
      "text/plain": [
       "                  coffee_shop_name  \\\n",
       "0  The Factory - Cafe With a Soul    \n",
       "1  The Factory - Cafe With a Soul    \n",
       "2  The Factory - Cafe With a Soul    \n",
       "3  The Factory - Cafe With a Soul    \n",
       "4  The Factory - Cafe With a Soul    \n",
       "\n",
       "                                    full_review_text star_rating  \\\n",
       "0  checkin love love loved atmosphere every corne...         5.0   \n",
       "1  listed date night austin ambiance austin beaut...         4.0   \n",
       "2  checkin listed brunch spots loved eclectic hom...         4.0   \n",
       "3  cool decor good drinks nice seating however ev...         2.0   \n",
       "4  checkin located within northcross mall shoppin...         4.0   \n",
       "\n",
       "                                                 doc  n_tokens  \\\n",
       "0  (checkin, love, love, loved, atmosphere, every...        49   \n",
       "1  (listed, date, night, austin, ambiance, austin...        26   \n",
       "2  (checkin, listed, brunch, spots, loved, eclect...       118   \n",
       "3  (cool, decor, good, drinks, nice, seating, how...        39   \n",
       "4  (checkin, located, within, northcross, mall, s...        68   \n",
       "\n",
       "  ratings_tokenized  \n",
       "0             (5.0)  \n",
       "1             (4.0)  \n",
       "2             (4.0)  \n",
       "3             (2.0)  \n",
       "4             (4.0)  "
      ]
     },
     "execution_count": 40,
     "metadata": {},
     "output_type": "execute_result"
    }
   ],
   "source": [
    "# asssert ratings is tokenized\n",
    "df.head()"
   ]
  },
  {
   "cell_type": "code",
   "execution_count": 42,
   "metadata": {},
   "outputs": [
    {
     "data": {
      "text/html": [
       "<div>\n",
       "<style scoped>\n",
       "    .dataframe tbody tr th:only-of-type {\n",
       "        vertical-align: middle;\n",
       "    }\n",
       "\n",
       "    .dataframe tbody tr th {\n",
       "        vertical-align: top;\n",
       "    }\n",
       "\n",
       "    .dataframe thead th {\n",
       "        text-align: right;\n",
       "    }\n",
       "</style>\n",
       "<table border=\"1\" class=\"dataframe\">\n",
       "  <thead>\n",
       "    <tr style=\"text-align: right;\">\n",
       "      <th></th>\n",
       "      <th>coffee_shop_name</th>\n",
       "      <th>full_review_text</th>\n",
       "      <th>star_rating</th>\n",
       "      <th>doc</th>\n",
       "      <th>n_tokens</th>\n",
       "      <th>ratings_tokenized</th>\n",
       "      <th>numeric_ratings</th>\n",
       "    </tr>\n",
       "  </thead>\n",
       "  <tbody>\n",
       "    <tr>\n",
       "      <th>0</th>\n",
       "      <td>The Factory - Cafe With a Soul</td>\n",
       "      <td>checkin love love loved atmosphere every corne...</td>\n",
       "      <td>5.0</td>\n",
       "      <td>(checkin, love, love, loved, atmosphere, every...</td>\n",
       "      <td>49</td>\n",
       "      <td>(5.0)</td>\n",
       "      <td>5.0</td>\n",
       "    </tr>\n",
       "    <tr>\n",
       "      <th>1</th>\n",
       "      <td>The Factory - Cafe With a Soul</td>\n",
       "      <td>listed date night austin ambiance austin beaut...</td>\n",
       "      <td>4.0</td>\n",
       "      <td>(listed, date, night, austin, ambiance, austin...</td>\n",
       "      <td>26</td>\n",
       "      <td>(4.0)</td>\n",
       "      <td>4.0</td>\n",
       "    </tr>\n",
       "    <tr>\n",
       "      <th>2</th>\n",
       "      <td>The Factory - Cafe With a Soul</td>\n",
       "      <td>checkin listed brunch spots loved eclectic hom...</td>\n",
       "      <td>4.0</td>\n",
       "      <td>(checkin, listed, brunch, spots, loved, eclect...</td>\n",
       "      <td>118</td>\n",
       "      <td>(4.0)</td>\n",
       "      <td>4.0</td>\n",
       "    </tr>\n",
       "    <tr>\n",
       "      <th>3</th>\n",
       "      <td>The Factory - Cafe With a Soul</td>\n",
       "      <td>cool decor good drinks nice seating however ev...</td>\n",
       "      <td>2.0</td>\n",
       "      <td>(cool, decor, good, drinks, nice, seating, how...</td>\n",
       "      <td>39</td>\n",
       "      <td>(2.0)</td>\n",
       "      <td>2.0</td>\n",
       "    </tr>\n",
       "    <tr>\n",
       "      <th>4</th>\n",
       "      <td>The Factory - Cafe With a Soul</td>\n",
       "      <td>checkin located within northcross mall shoppin...</td>\n",
       "      <td>4.0</td>\n",
       "      <td>(checkin, located, within, northcross, mall, s...</td>\n",
       "      <td>68</td>\n",
       "      <td>(4.0)</td>\n",
       "      <td>4.0</td>\n",
       "    </tr>\n",
       "  </tbody>\n",
       "</table>\n",
       "</div>"
      ],
      "text/plain": [
       "                  coffee_shop_name  \\\n",
       "0  The Factory - Cafe With a Soul    \n",
       "1  The Factory - Cafe With a Soul    \n",
       "2  The Factory - Cafe With a Soul    \n",
       "3  The Factory - Cafe With a Soul    \n",
       "4  The Factory - Cafe With a Soul    \n",
       "\n",
       "                                    full_review_text star_rating  \\\n",
       "0  checkin love love loved atmosphere every corne...         5.0   \n",
       "1  listed date night austin ambiance austin beaut...         4.0   \n",
       "2  checkin listed brunch spots loved eclectic hom...         4.0   \n",
       "3  cool decor good drinks nice seating however ev...         2.0   \n",
       "4  checkin located within northcross mall shoppin...         4.0   \n",
       "\n",
       "                                                 doc  n_tokens  \\\n",
       "0  (checkin, love, love, loved, atmosphere, every...        49   \n",
       "1  (listed, date, night, austin, ambiance, austin...        26   \n",
       "2  (checkin, listed, brunch, spots, loved, eclect...       118   \n",
       "3  (cool, decor, good, drinks, nice, seating, how...        39   \n",
       "4  (checkin, located, within, northcross, mall, s...        68   \n",
       "\n",
       "  ratings_tokenized  numeric_ratings  \n",
       "0             (5.0)              5.0  \n",
       "1             (4.0)              4.0  \n",
       "2             (4.0)              4.0  \n",
       "3             (2.0)              2.0  \n",
       "4             (4.0)              4.0  "
      ]
     },
     "execution_count": 42,
     "metadata": {},
     "output_type": "execute_result"
    }
   ],
   "source": [
    "# convert star_ratings to numeric for plotting\n",
    "df['numeric_ratings'] = pd.to_numeric(df['star_rating'], errors='coerce')\n",
    "\n",
    "# check\n",
    "df.head()"
   ]
  },
  {
   "cell_type": "code",
   "execution_count": 47,
   "metadata": {},
   "outputs": [
    {
     "data": {
      "text/plain": [
       "<matplotlib.axes._subplots.AxesSubplot at 0x18825e198>"
      ]
     },
     "execution_count": 47,
     "metadata": {},
     "output_type": "execute_result"
    },
    {
     "data": {
      "image/png": "[encoded data removed]",
      "text/plain": [
       "<Figure size 432x288 with 1 Axes>"
      ]
     },
     "metadata": {
      "needs_background": "light"
     },
     "output_type": "display_data"
    }
   ],
   "source": [
    "# visualize distribution of ratings\n",
    "# most ratings fall between 4-5, pretty common.\n",
    "sns.distplot(df.numeric_ratings)"
   ]
  },
  {
   "cell_type": "code",
   "execution_count": 48,
   "metadata": {},
   "outputs": [
    {
     "data": {
      "text/plain": [
       "5.0    3780\n",
       "4.0    2360\n",
       "3.0     738\n",
       "2.0     460\n",
       "1.0     278\n",
       "Name: star_rating, dtype: int64"
      ]
     },
     "execution_count": 48,
     "metadata": {},
     "output_type": "execute_result"
    }
   ],
   "source": [
    "# further visualization of the distribution of ratings for this coffee shop.\n",
    "df['star_rating'].value_counts()"
   ]
  },
  {
   "cell_type": "code",
   "execution_count": 49,
   "metadata": {},
   "outputs": [
    {
     "data": {
      "text/plain": [
       "5.0    0.496324\n",
       "4.0    0.309874\n",
       "3.0    0.096901\n",
       "2.0    0.060399\n",
       "1.0    0.036502\n",
       "Name: star_rating, dtype: float64"
      ]
     },
     "execution_count": 49,
     "metadata": {},
     "output_type": "execute_result"
    }
   ],
   "source": [
    "# percentage/normalized\n",
    "# 4-5 is ~80% of ratings given from the users in this dataset.\n",
    "df['star_rating'].value_counts(normalize=True)"
   ]
  },
  {
   "cell_type": "code",
   "execution_count": 50,
   "metadata": {},
   "outputs": [
    {
     "data": {
      "text/plain": [
       "(7616, 7)"
      ]
     },
     "execution_count": 50,
     "metadata": {},
     "output_type": "execute_result"
    }
   ],
   "source": [
    "# check shape\n",
    "df.shape"
   ]
  },
  {
   "cell_type": "markdown",
   "metadata": {},
   "source": [
    "## Can visualize the words with the greatest difference in counts between 'good' & 'bad'?\n",
    "\n",
    "Couple Notes: \n",
    "- Rel. freq. instead of absolute counts b/c of different numbers of reviews\n",
    "- Only look at the top 5-10 words with the greatest differences\n"
   ]
  },
  {
   "cell_type": "markdown",
   "metadata": {},
   "source": [
    "## Good = 4-5, Bad = 1-3"
   ]
  },
  {
   "cell_type": "code",
   "execution_count": 99,
   "metadata": {},
   "outputs": [],
   "source": [
    "# set good rating\n",
    "good = df[df['numeric_ratings'] >= 4]\n",
    "\n",
    "# set okay rating\n",
    "okay = df[df['numeric_ratings'] == 3]\n",
    "\n",
    "# set bad rating\n",
    "bad = df[df['numeric_ratings'] <3]"
   ]
  },
  {
   "cell_type": "code",
   "execution_count": 100,
   "metadata": {},
   "outputs": [
    {
     "name": "stdout",
     "output_type": "stream",
     "text": [
      "(6140, 7) (738, 7) (738, 7)\n"
     ]
    }
   ],
   "source": [
    "# check shapes\n",
    "print(good.shape, okay.shape, bad.shape)"
   ]
  },
  {
   "cell_type": "code",
   "execution_count": 101,
   "metadata": {},
   "outputs": [
    {
     "data": {
      "text/plain": [
       "True"
      ]
     },
     "execution_count": 101,
     "metadata": {},
     "output_type": "execute_result"
    }
   ],
   "source": [
    "738 + 738 == 1476"
   ]
  },
  {
   "cell_type": "code",
   "execution_count": 88,
   "metadata": {},
   "outputs": [
    {
     "data": {
      "text/plain": [
       "True"
      ]
     },
     "execution_count": 88,
     "metadata": {},
     "output_type": "execute_result"
    }
   ],
   "source": [
    "# making sure nothing was lost\n",
    "6140 + 1476 == 7616"
   ]
  },
  {
   "cell_type": "code",
   "execution_count": 102,
   "metadata": {},
   "outputs": [
    {
     "data": {
      "text/html": [
       "<div>\n",
       "<style scoped>\n",
       "    .dataframe tbody tr th:only-of-type {\n",
       "        vertical-align: middle;\n",
       "    }\n",
       "\n",
       "    .dataframe tbody tr th {\n",
       "        vertical-align: top;\n",
       "    }\n",
       "\n",
       "    .dataframe thead th {\n",
       "        text-align: right;\n",
       "    }\n",
       "</style>\n",
       "<table border=\"1\" class=\"dataframe\">\n",
       "  <thead>\n",
       "    <tr style=\"text-align: right;\">\n",
       "      <th></th>\n",
       "      <th>coffee_shop_name</th>\n",
       "      <th>full_review_text</th>\n",
       "      <th>star_rating</th>\n",
       "      <th>doc</th>\n",
       "      <th>n_tokens</th>\n",
       "      <th>ratings_tokenized</th>\n",
       "      <th>numeric_ratings</th>\n",
       "    </tr>\n",
       "  </thead>\n",
       "  <tbody>\n",
       "    <tr>\n",
       "      <th>0</th>\n",
       "      <td>The Factory - Cafe With a Soul</td>\n",
       "      <td>checkin love love loved atmosphere every corne...</td>\n",
       "      <td>5.0</td>\n",
       "      <td>(checkin, love, love, loved, atmosphere, every...</td>\n",
       "      <td>49</td>\n",
       "      <td>(5.0)</td>\n",
       "      <td>5.0</td>\n",
       "    </tr>\n",
       "    <tr>\n",
       "      <th>1</th>\n",
       "      <td>The Factory - Cafe With a Soul</td>\n",
       "      <td>listed date night austin ambiance austin beaut...</td>\n",
       "      <td>4.0</td>\n",
       "      <td>(listed, date, night, austin, ambiance, austin...</td>\n",
       "      <td>26</td>\n",
       "      <td>(4.0)</td>\n",
       "      <td>4.0</td>\n",
       "    </tr>\n",
       "    <tr>\n",
       "      <th>2</th>\n",
       "      <td>The Factory - Cafe With a Soul</td>\n",
       "      <td>checkin listed brunch spots loved eclectic hom...</td>\n",
       "      <td>4.0</td>\n",
       "      <td>(checkin, listed, brunch, spots, loved, eclect...</td>\n",
       "      <td>118</td>\n",
       "      <td>(4.0)</td>\n",
       "      <td>4.0</td>\n",
       "    </tr>\n",
       "    <tr>\n",
       "      <th>4</th>\n",
       "      <td>The Factory - Cafe With a Soul</td>\n",
       "      <td>checkin located within northcross mall shoppin...</td>\n",
       "      <td>4.0</td>\n",
       "      <td>(checkin, located, within, northcross, mall, s...</td>\n",
       "      <td>68</td>\n",
       "      <td>(4.0)</td>\n",
       "      <td>4.0</td>\n",
       "    </tr>\n",
       "    <tr>\n",
       "      <th>5</th>\n",
       "      <td>The Factory - Cafe With a Soul</td>\n",
       "      <td>checkin cute cafe think moment stepped really ...</td>\n",
       "      <td>4.0</td>\n",
       "      <td>(checkin, cute, cafe, think, moment, stepped, ...</td>\n",
       "      <td>99</td>\n",
       "      <td>(4.0)</td>\n",
       "      <td>4.0</td>\n",
       "    </tr>\n",
       "  </tbody>\n",
       "</table>\n",
       "</div>"
      ],
      "text/plain": [
       "                  coffee_shop_name  \\\n",
       "0  The Factory - Cafe With a Soul    \n",
       "1  The Factory - Cafe With a Soul    \n",
       "2  The Factory - Cafe With a Soul    \n",
       "4  The Factory - Cafe With a Soul    \n",
       "5  The Factory - Cafe With a Soul    \n",
       "\n",
       "                                    full_review_text star_rating  \\\n",
       "0  checkin love love loved atmosphere every corne...         5.0   \n",
       "1  listed date night austin ambiance austin beaut...         4.0   \n",
       "2  checkin listed brunch spots loved eclectic hom...         4.0   \n",
       "4  checkin located within northcross mall shoppin...         4.0   \n",
       "5  checkin cute cafe think moment stepped really ...         4.0   \n",
       "\n",
       "                                                 doc  n_tokens  \\\n",
       "0  (checkin, love, love, loved, atmosphere, every...        49   \n",
       "1  (listed, date, night, austin, ambiance, austin...        26   \n",
       "2  (checkin, listed, brunch, spots, loved, eclect...       118   \n",
       "4  (checkin, located, within, northcross, mall, s...        68   \n",
       "5  (checkin, cute, cafe, think, moment, stepped, ...        99   \n",
       "\n",
       "  ratings_tokenized  numeric_ratings  \n",
       "0             (5.0)              5.0  \n",
       "1             (4.0)              4.0  \n",
       "2             (4.0)              4.0  \n",
       "4             (4.0)              4.0  \n",
       "5             (4.0)              4.0  "
      ]
     },
     "execution_count": 102,
     "metadata": {},
     "output_type": "execute_result"
    }
   ],
   "source": [
    "# checking good\n",
    "good.head(5)"
   ]
  },
  {
   "cell_type": "code",
   "execution_count": 105,
   "metadata": {},
   "outputs": [
    {
     "data": {
      "text/html": [
       "<div>\n",
       "<style scoped>\n",
       "    .dataframe tbody tr th:only-of-type {\n",
       "        vertical-align: middle;\n",
       "    }\n",
       "\n",
       "    .dataframe tbody tr th {\n",
       "        vertical-align: top;\n",
       "    }\n",
       "\n",
       "    .dataframe thead th {\n",
       "        text-align: right;\n",
       "    }\n",
       "</style>\n",
       "<table border=\"1\" class=\"dataframe\">\n",
       "  <thead>\n",
       "    <tr style=\"text-align: right;\">\n",
       "      <th></th>\n",
       "      <th>coffee_shop_name</th>\n",
       "      <th>full_review_text</th>\n",
       "      <th>star_rating</th>\n",
       "      <th>doc</th>\n",
       "      <th>n_tokens</th>\n",
       "      <th>ratings_tokenized</th>\n",
       "      <th>numeric_ratings</th>\n",
       "    </tr>\n",
       "  </thead>\n",
       "  <tbody>\n",
       "    <tr>\n",
       "      <th>8</th>\n",
       "      <td>The Factory - Cafe With a Soul</td>\n",
       "      <td>checkin ok lets try approach pros music seatin...</td>\n",
       "      <td>3.0</td>\n",
       "      <td>(checkin, ok, lets, try, approach, pros, music...</td>\n",
       "      <td>184</td>\n",
       "      <td>(3.0)</td>\n",
       "      <td>3.0</td>\n",
       "    </tr>\n",
       "    <tr>\n",
       "      <th>11</th>\n",
       "      <td>The Factory - Cafe With a Soul</td>\n",
       "      <td>store decoration honestly coffee made good cof...</td>\n",
       "      <td>3.0</td>\n",
       "      <td>(store, decoration, honestly, coffee, made, go...</td>\n",
       "      <td>49</td>\n",
       "      <td>(3.0)</td>\n",
       "      <td>3.0</td>\n",
       "    </tr>\n",
       "    <tr>\n",
       "      <th>12</th>\n",
       "      <td>The Factory - Cafe With a Soul</td>\n",
       "      <td>checkin listed third time charm factory decor ...</td>\n",
       "      <td>3.0</td>\n",
       "      <td>(checkin, listed, third, time, charm, factory,...</td>\n",
       "      <td>73</td>\n",
       "      <td>(3.0)</td>\n",
       "      <td>3.0</td>\n",
       "    </tr>\n",
       "    <tr>\n",
       "      <th>33</th>\n",
       "      <td>The Factory - Cafe With a Soul</td>\n",
       "      <td>checkin best friend came factory seeing couple...</td>\n",
       "      <td>3.0</td>\n",
       "      <td>(checkin, best, friend, came, factory, seeing,...</td>\n",
       "      <td>80</td>\n",
       "      <td>(3.0)</td>\n",
       "      <td>3.0</td>\n",
       "    </tr>\n",
       "    <tr>\n",
       "      <th>48</th>\n",
       "      <td>The Factory - Cafe With a Soul</td>\n",
       "      <td>checkin love deco lot really good place chill ...</td>\n",
       "      <td>3.0</td>\n",
       "      <td>(checkin, love, deco, lot, really, good, place...</td>\n",
       "      <td>35</td>\n",
       "      <td>(3.0)</td>\n",
       "      <td>3.0</td>\n",
       "    </tr>\n",
       "  </tbody>\n",
       "</table>\n",
       "</div>"
      ],
      "text/plain": [
       "                   coffee_shop_name  \\\n",
       "8   The Factory - Cafe With a Soul    \n",
       "11  The Factory - Cafe With a Soul    \n",
       "12  The Factory - Cafe With a Soul    \n",
       "33  The Factory - Cafe With a Soul    \n",
       "48  The Factory - Cafe With a Soul    \n",
       "\n",
       "                                     full_review_text star_rating  \\\n",
       "8   checkin ok lets try approach pros music seatin...         3.0   \n",
       "11  store decoration honestly coffee made good cof...         3.0   \n",
       "12  checkin listed third time charm factory decor ...         3.0   \n",
       "33  checkin best friend came factory seeing couple...         3.0   \n",
       "48  checkin love deco lot really good place chill ...         3.0   \n",
       "\n",
       "                                                  doc  n_tokens  \\\n",
       "8   (checkin, ok, lets, try, approach, pros, music...       184   \n",
       "11  (store, decoration, honestly, coffee, made, go...        49   \n",
       "12  (checkin, listed, third, time, charm, factory,...        73   \n",
       "33  (checkin, best, friend, came, factory, seeing,...        80   \n",
       "48  (checkin, love, deco, lot, really, good, place...        35   \n",
       "\n",
       "   ratings_tokenized  numeric_ratings  \n",
       "8              (3.0)              3.0  \n",
       "11             (3.0)              3.0  \n",
       "12             (3.0)              3.0  \n",
       "33             (3.0)              3.0  \n",
       "48             (3.0)              3.0  "
      ]
     },
     "execution_count": 105,
     "metadata": {},
     "output_type": "execute_result"
    }
   ],
   "source": [
    "okay.head(5)"
   ]
  },
  {
   "cell_type": "code",
   "execution_count": 103,
   "metadata": {},
   "outputs": [
    {
     "data": {
      "text/html": [
       "<div>\n",
       "<style scoped>\n",
       "    .dataframe tbody tr th:only-of-type {\n",
       "        vertical-align: middle;\n",
       "    }\n",
       "\n",
       "    .dataframe tbody tr th {\n",
       "        vertical-align: top;\n",
       "    }\n",
       "\n",
       "    .dataframe thead th {\n",
       "        text-align: right;\n",
       "    }\n",
       "</style>\n",
       "<table border=\"1\" class=\"dataframe\">\n",
       "  <thead>\n",
       "    <tr style=\"text-align: right;\">\n",
       "      <th></th>\n",
       "      <th>coffee_shop_name</th>\n",
       "      <th>full_review_text</th>\n",
       "      <th>star_rating</th>\n",
       "      <th>doc</th>\n",
       "      <th>n_tokens</th>\n",
       "      <th>ratings_tokenized</th>\n",
       "      <th>numeric_ratings</th>\n",
       "    </tr>\n",
       "  </thead>\n",
       "  <tbody>\n",
       "    <tr>\n",
       "      <th>3</th>\n",
       "      <td>The Factory - Cafe With a Soul</td>\n",
       "      <td>cool decor good drinks nice seating however ev...</td>\n",
       "      <td>2.0</td>\n",
       "      <td>(cool, decor, good, drinks, nice, seating, how...</td>\n",
       "      <td>39</td>\n",
       "      <td>(2.0)</td>\n",
       "      <td>2.0</td>\n",
       "    </tr>\n",
       "    <tr>\n",
       "      <th>25</th>\n",
       "      <td>The Factory - Cafe With a Soul</td>\n",
       "      <td>okay visiting friends la trying mint mojito ic...</td>\n",
       "      <td>1.0</td>\n",
       "      <td>(okay, visiting, friends, la, trying, mint, mo...</td>\n",
       "      <td>91</td>\n",
       "      <td>(1.0)</td>\n",
       "      <td>1.0</td>\n",
       "    </tr>\n",
       "    <tr>\n",
       "      <th>39</th>\n",
       "      <td>The Factory - Cafe With a Soul</td>\n",
       "      <td>cafe doesnt wifi makes order ipad seriously ex...</td>\n",
       "      <td>1.0</td>\n",
       "      <td>(cafe, does, nt, wifi, makes, order, ipad, ser...</td>\n",
       "      <td>58</td>\n",
       "      <td>(1.0)</td>\n",
       "      <td>1.0</td>\n",
       "    </tr>\n",
       "    <tr>\n",
       "      <th>40</th>\n",
       "      <td>The Factory - Cafe With a Soul</td>\n",
       "      <td>honestly place identity crisis great place dat...</td>\n",
       "      <td>2.0</td>\n",
       "      <td>(honestly, place, identity, crisis, great, pla...</td>\n",
       "      <td>94</td>\n",
       "      <td>(2.0)</td>\n",
       "      <td>2.0</td>\n",
       "    </tr>\n",
       "    <tr>\n",
       "      <th>58</th>\n",
       "      <td>The Factory - Cafe With a Soul</td>\n",
       "      <td>tough one took children treat one afternoon fi...</td>\n",
       "      <td>2.0</td>\n",
       "      <td>(tough, one, took, children, treat, one, after...</td>\n",
       "      <td>121</td>\n",
       "      <td>(2.0)</td>\n",
       "      <td>2.0</td>\n",
       "    </tr>\n",
       "  </tbody>\n",
       "</table>\n",
       "</div>"
      ],
      "text/plain": [
       "                   coffee_shop_name  \\\n",
       "3   The Factory - Cafe With a Soul    \n",
       "25  The Factory - Cafe With a Soul    \n",
       "39  The Factory - Cafe With a Soul    \n",
       "40  The Factory - Cafe With a Soul    \n",
       "58  The Factory - Cafe With a Soul    \n",
       "\n",
       "                                     full_review_text star_rating  \\\n",
       "3   cool decor good drinks nice seating however ev...         2.0   \n",
       "25  okay visiting friends la trying mint mojito ic...         1.0   \n",
       "39  cafe doesnt wifi makes order ipad seriously ex...         1.0   \n",
       "40  honestly place identity crisis great place dat...         2.0   \n",
       "58  tough one took children treat one afternoon fi...         2.0   \n",
       "\n",
       "                                                  doc  n_tokens  \\\n",
       "3   (cool, decor, good, drinks, nice, seating, how...        39   \n",
       "25  (okay, visiting, friends, la, trying, mint, mo...        91   \n",
       "39  (cafe, does, nt, wifi, makes, order, ipad, ser...        58   \n",
       "40  (honestly, place, identity, crisis, great, pla...        94   \n",
       "58  (tough, one, took, children, treat, one, after...       121   \n",
       "\n",
       "   ratings_tokenized  numeric_ratings  \n",
       "3              (2.0)              2.0  \n",
       "25             (1.0)              1.0  \n",
       "39             (1.0)              1.0  \n",
       "40             (2.0)              2.0  \n",
       "58             (2.0)              2.0  "
      ]
     },
     "execution_count": 103,
     "metadata": {},
     "output_type": "execute_result"
    }
   ],
   "source": [
    "# checking bad\n",
    "bad.head(5)"
   ]
  },
  {
   "cell_type": "markdown",
   "metadata": {},
   "source": [
    "## Viualize words used between 'good' and 'bad'"
   ]
  },
  {
   "cell_type": "code",
   "execution_count": 106,
   "metadata": {},
   "outputs": [],
   "source": [
    "# good words go first\n",
    "good_token = ''\n",
    "for i in good['doc']:\n",
    "    good_token += str(i)"
   ]
  },
  {
   "cell_type": "code",
   "execution_count": 107,
   "metadata": {},
   "outputs": [
    {
     "data": {
      "text/plain": [
       "[('coffee', 8013),\n",
       " ('place', 4036),\n",
       " ('great', 3195),\n",
       " ('good', 2962),\n",
       " ('like', 2166),\n",
       " ('austin', 1863),\n",
       " ('get', 1832),\n",
       " ('really', 1742),\n",
       " ('also', 1697),\n",
       " ('one', 1652)]"
      ]
     },
     "execution_count": 107,
     "metadata": {},
     "output_type": "execute_result"
    }
   ],
   "source": [
    "# check top10 most common words used in good ratings\n",
    "from collections import Counter\n",
    "split_good = good_token.split()\n",
    "Counter = Counter(split_good)\n",
    "top10_good = Counter.most_common(10)\n",
    "top10_good"
   ]
  },
  {
   "cell_type": "code",
   "execution_count": 109,
   "metadata": {},
   "outputs": [
    {
     "data": {
      "text/plain": [
       "[('coffee', 1108),\n",
       " ('place', 525),\n",
       " ('good', 497),\n",
       " ('like', 410),\n",
       " ('really', 287),\n",
       " ('get', 261),\n",
       " ('great', 247),\n",
       " ('would', 235),\n",
       " ('food', 233),\n",
       " ('pretty', 229)]"
      ]
     },
     "execution_count": 109,
     "metadata": {},
     "output_type": "execute_result"
    }
   ],
   "source": [
    "# okay words go whenever\n",
    "okay_token = ''\n",
    "for i in okay['doc']:\n",
    "    okay_token += str(i)\n",
    "    \n",
    "from collections import Counter \n",
    "split_okay = okay_token.split()\n",
    "Counter = Counter(split_okay)\n",
    "top10_okay = Counter.most_common(10)\n",
    "top10_okay"
   ]
  },
  {
   "cell_type": "code",
   "execution_count": 110,
   "metadata": {},
   "outputs": [
    {
     "data": {
      "text/plain": [
       "[('coffee', 930),\n",
       " ('place', 516),\n",
       " ('like', 452),\n",
       " ('good', 338),\n",
       " ('one', 336),\n",
       " ('get', 298),\n",
       " ('service', 260),\n",
       " ('time', 249),\n",
       " ('would', 240),\n",
       " ('food', 229)]"
      ]
     },
     "execution_count": 110,
     "metadata": {},
     "output_type": "execute_result"
    }
   ],
   "source": [
    "# bad words go last \n",
    "bad_token = ''\n",
    "for i in bad['doc']:\n",
    "    bad_token += str(i)\n",
    "    \n",
    "# check top10 most common words used in bad ratings\n",
    "from collections import Counter\n",
    "split_bad = bad_token.split()\n",
    "Counter = Counter(split_bad)\n",
    "top10_bad = Counter.most_common(10)\n",
    "top10_bad"
   ]
  },
  {
   "cell_type": "markdown",
   "metadata": {},
   "source": [
    "## Using lectore notebook code"
   ]
  },
  {
   "cell_type": "code",
   "execution_count": 119,
   "metadata": {},
   "outputs": [],
   "source": [
    "# Tokenizer\n",
    "from spacy.tokenizer import Tokenizer\n",
    "tokenizer = Tokenizer(nlp.vocab)"
   ]
  },
  {
   "cell_type": "code",
   "execution_count": 134,
   "metadata": {},
   "outputs": [
    {
     "name": "stdout",
     "output_type": "stream",
     "text": [
      "The   the\n",
      "barbarians   barbarian\n",
      "are   be\n",
      "at   at\n",
      "our   -PRON-\n",
      "gate   gate\n",
      ".   .\n",
      "Rome   Rome\n",
      "will   will\n",
      "fall   fall\n",
      "as   as\n",
      "it   -PRON-\n",
      "stands   stand\n",
      ",   ,\n",
      "she   -PRON-\n",
      "can   can\n",
      "not   not\n",
      "take   take\n",
      "no   no\n",
      "more   more\n",
      "for   for\n",
      "us   -PRON-\n",
      ".   .\n",
      "We   -PRON-\n",
      "must   must\n",
      "act   act\n"
     ]
    }
   ],
   "source": [
    "# hmm, I tried passing in df['doc'] but i recieved an error saying: it was expecting a string not a series\n",
    "# hmhmhmhmhmhm\n",
    "words = 'The barbarians are at our gate. Rome will fall as it stands, she cannot take no more for us. We must act'\n",
    "dos = nlp(words)\n",
    "\n",
    "# lemma\n",
    "for d in dos:\n",
    "    print(d.text, \" \", d.lemma_)"
   ]
  },
  {
   "cell_type": "code",
   "execution_count": 2,
   "metadata": {},
   "outputs": [],
   "source": [
    "# a function to retrieve the lemmas\n",
    "import spacy\n",
    "from spacy.tokenizer import Tokenizer\n",
    "\n",
    "def get_lemmas(text):\n",
    "\n",
    "\n",
    "    tokenizer = Tokenizer(nlp.vocab)\n",
    "\n",
    "    STOP_WORDS = nlp.Defaults.stop_words.union(['  ', 'coffee', '-', 'like', 'get', 'would', '-pron-',\n",
    "                                                '', \"'\", ' ', '-PRON-'])\n",
    "\n",
    "    lemmas = []\n",
    "\n",
    "    doc = nlp(text)\n",
    "\n",
    "\n",
    "    for token in doc:\n",
    "        lemmas.append(token.lemma_)\n",
    "\n",
    "    lemma_summary = []\n",
    "\n",
    "\n",
    "    working_set = \"\"\n",
    "    for lemma in lemmas:\n",
    "        working_set += lemma + ' '\n",
    "    lemma_summary.append(working_set)\n",
    "\n",
    "\n",
    "    description = [lemma_summary[0]]\n",
    "\n",
    "    tokens = []\n",
    "\n",
    "    for doc in tokenizer.pipe(description, batch_size=500):\n",
    "\n",
    "        doc_tokens = []\n",
    "\n",
    "        for token in doc:\n",
    "            if ((token.is_stop == False) and (token.is_punct == False)) and (token.pos_!= 'PRON'):\n",
    "                if token.text.lower() not in STOP_WORDS:\n",
    "                    doc_tokens.append(token.text.lower())\n",
    "\n",
    "        tokens.append(doc_tokens)\n",
    "\n",
    "    token_summary = []\n",
    "\n",
    "    for set_of_tokens in tokens:\n",
    "        working_set = \"\"\n",
    "        for variable in set_of_tokens:\n",
    "            working_set += variable + ' '\n",
    "        token_summary.append(working_set)\n",
    "\n",
    "    return token_summary[0]\n"
   ]
  },
  {
   "cell_type": "code",
   "execution_count": 145,
   "metadata": {},
   "outputs": [
    {
     "data": {
      "text/plain": [
       "'barbarian gate rome fall stand act '"
      ]
     },
     "execution_count": 145,
     "metadata": {},
     "output_type": "execute_result"
    }
   ],
   "source": [
    "# still can only pass strings.\n",
    "get_lemmas('The barbarians are at our gate. Rome will fall as it stands, she cannot take no more for us. We must act')"
   ]
  },
  {
   "cell_type": "code",
   "execution_count": 147,
   "metadata": {},
   "outputs": [],
   "source": [
    "# column with df.doc as a str type\n",
    "df['doc_str'] = df['doc'].astype(str)"
   ]
  },
  {
   "cell_type": "code",
   "execution_count": 151,
   "metadata": {},
   "outputs": [],
   "source": [
    "# copy of the of df\n",
    "df1 = pd.DataFrame(df)"
   ]
  },
  {
   "cell_type": "code",
   "execution_count": 156,
   "metadata": {},
   "outputs": [
    {
     "data": {
      "text/html": [
       "<div>\n",
       "<style scoped>\n",
       "    .dataframe tbody tr th:only-of-type {\n",
       "        vertical-align: middle;\n",
       "    }\n",
       "\n",
       "    .dataframe tbody tr th {\n",
       "        vertical-align: top;\n",
       "    }\n",
       "\n",
       "    .dataframe thead th {\n",
       "        text-align: right;\n",
       "    }\n",
       "</style>\n",
       "<table border=\"1\" class=\"dataframe\">\n",
       "  <thead>\n",
       "    <tr style=\"text-align: right;\">\n",
       "      <th></th>\n",
       "      <th>coffee_shop_name</th>\n",
       "      <th>full_review_text</th>\n",
       "      <th>star_rating</th>\n",
       "      <th>doc</th>\n",
       "      <th>n_tokens</th>\n",
       "      <th>ratings_tokenized</th>\n",
       "      <th>numeric_ratings</th>\n",
       "      <th>doc_str</th>\n",
       "    </tr>\n",
       "  </thead>\n",
       "  <tbody>\n",
       "    <tr>\n",
       "      <th>0</th>\n",
       "      <td>The Factory - Cafe With a Soul</td>\n",
       "      <td>checkin love love loved atmosphere every corne...</td>\n",
       "      <td>5.0</td>\n",
       "      <td>(checkin, love, love, loved, atmosphere, every...</td>\n",
       "      <td>49</td>\n",
       "      <td>(5.0)</td>\n",
       "      <td>5.0</td>\n",
       "      <td>checkin love love loved atmosphere every corne...</td>\n",
       "    </tr>\n",
       "    <tr>\n",
       "      <th>1</th>\n",
       "      <td>The Factory - Cafe With a Soul</td>\n",
       "      <td>listed date night austin ambiance austin beaut...</td>\n",
       "      <td>4.0</td>\n",
       "      <td>(listed, date, night, austin, ambiance, austin...</td>\n",
       "      <td>26</td>\n",
       "      <td>(4.0)</td>\n",
       "      <td>4.0</td>\n",
       "      <td>listed date night austin ambiance austin beaut...</td>\n",
       "    </tr>\n",
       "    <tr>\n",
       "      <th>2</th>\n",
       "      <td>The Factory - Cafe With a Soul</td>\n",
       "      <td>checkin listed brunch spots loved eclectic hom...</td>\n",
       "      <td>4.0</td>\n",
       "      <td>(checkin, listed, brunch, spots, loved, eclect...</td>\n",
       "      <td>118</td>\n",
       "      <td>(4.0)</td>\n",
       "      <td>4.0</td>\n",
       "      <td>checkin listed brunch spots loved eclectic hom...</td>\n",
       "    </tr>\n",
       "    <tr>\n",
       "      <th>3</th>\n",
       "      <td>The Factory - Cafe With a Soul</td>\n",
       "      <td>cool decor good drinks nice seating however ev...</td>\n",
       "      <td>2.0</td>\n",
       "      <td>(cool, decor, good, drinks, nice, seating, how...</td>\n",
       "      <td>39</td>\n",
       "      <td>(2.0)</td>\n",
       "      <td>2.0</td>\n",
       "      <td>cool decor good drinks nice seating however ev...</td>\n",
       "    </tr>\n",
       "    <tr>\n",
       "      <th>4</th>\n",
       "      <td>The Factory - Cafe With a Soul</td>\n",
       "      <td>checkin located within northcross mall shoppin...</td>\n",
       "      <td>4.0</td>\n",
       "      <td>(checkin, located, within, northcross, mall, s...</td>\n",
       "      <td>68</td>\n",
       "      <td>(4.0)</td>\n",
       "      <td>4.0</td>\n",
       "      <td>checkin located within northcross mall shoppin...</td>\n",
       "    </tr>\n",
       "  </tbody>\n",
       "</table>\n",
       "</div>"
      ],
      "text/plain": [
       "                  coffee_shop_name  \\\n",
       "0  The Factory - Cafe With a Soul    \n",
       "1  The Factory - Cafe With a Soul    \n",
       "2  The Factory - Cafe With a Soul    \n",
       "3  The Factory - Cafe With a Soul    \n",
       "4  The Factory - Cafe With a Soul    \n",
       "\n",
       "                                    full_review_text star_rating  \\\n",
       "0  checkin love love loved atmosphere every corne...         5.0   \n",
       "1  listed date night austin ambiance austin beaut...         4.0   \n",
       "2  checkin listed brunch spots loved eclectic hom...         4.0   \n",
       "3  cool decor good drinks nice seating however ev...         2.0   \n",
       "4  checkin located within northcross mall shoppin...         4.0   \n",
       "\n",
       "                                                 doc  n_tokens  \\\n",
       "0  (checkin, love, love, loved, atmosphere, every...        49   \n",
       "1  (listed, date, night, austin, ambiance, austin...        26   \n",
       "2  (checkin, listed, brunch, spots, loved, eclect...       118   \n",
       "3  (cool, decor, good, drinks, nice, seating, how...        39   \n",
       "4  (checkin, located, within, northcross, mall, s...        68   \n",
       "\n",
       "  ratings_tokenized  numeric_ratings  \\\n",
       "0             (5.0)              5.0   \n",
       "1             (4.0)              4.0   \n",
       "2             (4.0)              4.0   \n",
       "3             (2.0)              2.0   \n",
       "4             (4.0)              4.0   \n",
       "\n",
       "                                             doc_str  \n",
       "0  checkin love love loved atmosphere every corne...  \n",
       "1  listed date night austin ambiance austin beaut...  \n",
       "2  checkin listed brunch spots loved eclectic hom...  \n",
       "3  cool decor good drinks nice seating however ev...  \n",
       "4  checkin located within northcross mall shoppin...  "
      ]
     },
     "execution_count": 156,
     "metadata": {},
     "output_type": "execute_result"
    }
   ],
   "source": [
    "# check\n",
    "df1.head()"
   ]
  },
  {
   "cell_type": "code",
   "execution_count": 155,
   "metadata": {},
   "outputs": [
    {
     "data": {
      "text/plain": [
       "'checkin love love love atmosphere corner shop style swing order matcha latte muy fantastico order drink pretty streamlined order ipad include beverage selection range wine desire level sweetness checkout system latte minute hope typical heart feather latte find list possibility art idea '"
      ]
     },
     "execution_count": 155,
     "metadata": {},
     "output_type": "execute_result"
    }
   ],
   "source": [
    "# this is something\n",
    "get_lemmas(df1.doc_str.iloc[0])"
   ]
  },
  {
   "cell_type": "code",
   "execution_count": null,
   "metadata": {},
   "outputs": [],
   "source": [
    "# a for loop that applies the get_lemmas function to all the rows in df1.doc_str\n",
    "# if you dont specify llist as llist[0], it will continue to loop through the column infinitely... i think.\n",
    "llist = []\n",
    "for i in df1.doc_str:\n",
    "    get_lemmas = llist\n",
    "    llist.append(df1.doc_str)\n",
    "    print(llist[0])"
   ]
  },
  {
   "cell_type": "markdown",
   "metadata": {
    "colab_type": "text",
    "id": "1dCb1q8XphcP",
    "toc-hr-collapsed": true
   },
   "source": [
    "## Stretch Goals\n",
    "\n",
    "* Analyze another corpus of documents - such as Indeed.com job listings ;).\n",
    "* Play with the Spacy API to\n",
    " - Extract Named Entities\n",
    " - Extracting 'noun chunks'\n",
    " - Attempt Document Classification with just Spacy\n",
    " - *Note:* This [course](https://course.spacy.io/) will be of interesting in helping you with these stretch goals. \n",
    "* Try to build a plotly dash app with your text data \n",
    "\n"
   ]
  }
 ],
 "metadata": {
  "colab": {
   "collapsed_sections": [],
   "name": "LS_DS_421_Text_Data_Assignment.ipynb",
   "provenance": [],
   "version": "0.3.2"
  },
  "kernelspec": {
   "display_name": "U4-S1-NLP (Python3)",
   "language": "python",
   "name": "u4-s1-nlp"
  },
  "language_info": {
   "codemirror_mode": {
    "name": "ipython",
    "version": 3
   },
   "file_extension": ".py",
   "mimetype": "text/x-python",
   "name": "python",
   "nbconvert_exporter": "python",
   "pygments_lexer": "ipython3",
   "version": "3.7.0"
  },
  "toc-autonumbering": false
 },
 "nbformat": 4,
 "nbformat_minor": 4
}
