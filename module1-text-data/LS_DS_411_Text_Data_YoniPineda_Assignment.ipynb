{
 "cells": [
  {
   "cell_type": "markdown",
   "metadata": {},
   "source": [
    "<img align=\"left\" src=\"https://lever-client-logos.s3.amazonaws.com/864372b1-534c-480e-acd5-9711f850815c-1524247202159.png\" width=200>\n",
    "<br></br>\n",
    "<br></br>\n",
    "\n",
    "# Natural Language Processing (NLP)\n",
    "## *Data Science Unit 4 Sprint 1 Assignment 1*\n",
    "\n",
    "Your goal in this assignment: find the attributes of the best & worst coffee shops in the dataset. The text is fairly raw: dates in the review, extra words in the `star_rating` column, etc. You'll probably want to clean that stuff up for a better analysis. \n",
    "\n",
    "Analyze the corpus of text using text visualizations of token frequency. Try cleaning the data as much as possible. Try the following techniques: \n",
    "- Lemmatization\n",
    "- Custom stopword removal\n",
    "\n",
    "Keep in mind the attributes of good tokens. Once you have a solid baseline, layer in the star rating in your visualization(s). Key part of this assignment - produce a write-up of the attributes of the best and worst coffee shops. Based on your analysis, what makes the best the best and the worst the worst. Use graphs and numbesr from your analysis to support your conclusions. There should be plenty of markdown cells! :coffee:"
   ]
  },
  {
   "cell_type": "code",
   "execution_count": 1,
   "metadata": {},
   "outputs": [
    {
     "data": {
      "image/jpeg": "[encoded data removed]",
      "text/html": [
       "\n",
       "        <iframe\n",
       "            width=\"400\"\n",
       "            height=\"300\"\n",
       "            src=\"https://www.youtube.com/embed/Jml7NVYm8cs\"\n",
       "            frameborder=\"0\"\n",
       "            allowfullscreen\n",
       "        ></iframe>\n",
       "        "
      ],
      "text/plain": [
       "<IPython.lib.display.YouTubeVideo at 0x1060d32e8>"
      ]
     },
     "execution_count": 1,
     "metadata": {},
     "output_type": "execute_result"
    }
   ],
   "source": [
    "from IPython.display import YouTubeVideo\n",
    "\n",
    "YouTubeVideo('Jml7NVYm8cs')"
   ]
  },
  {
   "cell_type": "code",
   "execution_count": 2,
   "metadata": {},
   "outputs": [
    {
     "data": {
      "text/plain": [
       "'/Users/yonipineda/lambda_folder/DS-Unit-4-Sprint-1-NLP/module1-text-data'"
      ]
     },
     "execution_count": 2,
     "metadata": {},
     "output_type": "execute_result"
    }
   ],
   "source": [
    "%pwd"
   ]
  },
  {
   "cell_type": "code",
   "execution_count": 1,
   "metadata": {},
   "outputs": [
    {
     "data": {
      "text/html": [
       "<div>\n",
       "<style scoped>\n",
       "    .dataframe tbody tr th:only-of-type {\n",
       "        vertical-align: middle;\n",
       "    }\n",
       "\n",
       "    .dataframe tbody tr th {\n",
       "        vertical-align: top;\n",
       "    }\n",
       "\n",
       "    .dataframe thead th {\n",
       "        text-align: right;\n",
       "    }\n",
       "</style>\n",
       "<table border=\"1\" class=\"dataframe\">\n",
       "  <thead>\n",
       "    <tr style=\"text-align: right;\">\n",
       "      <th></th>\n",
       "      <th>coffee_shop_name</th>\n",
       "      <th>full_review_text</th>\n",
       "      <th>star_rating</th>\n",
       "    </tr>\n",
       "  </thead>\n",
       "  <tbody>\n",
       "    <tr>\n",
       "      <th>0</th>\n",
       "      <td>The Factory - Cafe With a Soul</td>\n",
       "      <td>11/25/2016 1 check-in Love love loved the atm...</td>\n",
       "      <td>5.0 star rating</td>\n",
       "    </tr>\n",
       "    <tr>\n",
       "      <th>1</th>\n",
       "      <td>The Factory - Cafe With a Soul</td>\n",
       "      <td>12/2/2016 Listed in Date Night: Austin, Ambia...</td>\n",
       "      <td>4.0 star rating</td>\n",
       "    </tr>\n",
       "    <tr>\n",
       "      <th>2</th>\n",
       "      <td>The Factory - Cafe With a Soul</td>\n",
       "      <td>11/30/2016 1 check-in Listed in Brunch Spots ...</td>\n",
       "      <td>4.0 star rating</td>\n",
       "    </tr>\n",
       "    <tr>\n",
       "      <th>3</th>\n",
       "      <td>The Factory - Cafe With a Soul</td>\n",
       "      <td>11/25/2016 Very cool decor! Good drinks Nice ...</td>\n",
       "      <td>2.0 star rating</td>\n",
       "    </tr>\n",
       "    <tr>\n",
       "      <th>4</th>\n",
       "      <td>The Factory - Cafe With a Soul</td>\n",
       "      <td>12/3/2016 1 check-in They are located within ...</td>\n",
       "      <td>4.0 star rating</td>\n",
       "    </tr>\n",
       "  </tbody>\n",
       "</table>\n",
       "</div>"
      ],
      "text/plain": [
       "                  coffee_shop_name  \\\n",
       "0  The Factory - Cafe With a Soul    \n",
       "1  The Factory - Cafe With a Soul    \n",
       "2  The Factory - Cafe With a Soul    \n",
       "3  The Factory - Cafe With a Soul    \n",
       "4  The Factory - Cafe With a Soul    \n",
       "\n",
       "                                    full_review_text        star_rating  \n",
       "0   11/25/2016 1 check-in Love love loved the atm...   5.0 star rating   \n",
       "1   12/2/2016 Listed in Date Night: Austin, Ambia...   4.0 star rating   \n",
       "2   11/30/2016 1 check-in Listed in Brunch Spots ...   4.0 star rating   \n",
       "3   11/25/2016 Very cool decor! Good drinks Nice ...   2.0 star rating   \n",
       "4   12/3/2016 1 check-in They are located within ...   4.0 star rating   "
      ]
     },
     "execution_count": 1,
     "metadata": {},
     "output_type": "execute_result"
    }
   ],
   "source": [
    "import pandas as pd\n",
    "\n",
    "url = \"https://raw.githubusercontent.com/LambdaSchool/DS-Unit-4-Sprint-1-NLP/master/module1-text-data/data/yelp_coffeeshop_review_data.csv\"\n",
    "\n",
    "shops = pd.read_csv(url)\n",
    "shops.head()"
   ]
  },
  {
   "cell_type": "code",
   "execution_count": 5,
   "metadata": {},
   "outputs": [
    {
     "data": {
      "text/plain": [
       "(7616, 3)"
      ]
     },
     "execution_count": 5,
     "metadata": {},
     "output_type": "execute_result"
    }
   ],
   "source": [
    "# Start here \n",
    "# set shop as df\n",
    "df = shops\n",
    "\n",
    "# create another copy of df\n",
    "df2 = df\n",
    "\n",
    "# check shape\n",
    "df.shape"
   ]
  },
  {
   "cell_type": "code",
   "execution_count": 3,
   "metadata": {},
   "outputs": [
    {
     "data": {
      "text/html": [
       "<div>\n",
       "<style scoped>\n",
       "    .dataframe tbody tr th:only-of-type {\n",
       "        vertical-align: middle;\n",
       "    }\n",
       "\n",
       "    .dataframe tbody tr th {\n",
       "        vertical-align: top;\n",
       "    }\n",
       "\n",
       "    .dataframe thead th {\n",
       "        text-align: right;\n",
       "    }\n",
       "</style>\n",
       "<table border=\"1\" class=\"dataframe\">\n",
       "  <thead>\n",
       "    <tr style=\"text-align: right;\">\n",
       "      <th></th>\n",
       "      <th>coffee_shop_name</th>\n",
       "      <th>full_review_text</th>\n",
       "      <th>star_rating</th>\n",
       "    </tr>\n",
       "  </thead>\n",
       "  <tbody>\n",
       "    <tr>\n",
       "      <th>0</th>\n",
       "      <td>The Factory - Cafe With a Soul</td>\n",
       "      <td>11/25/2016 1 check-in Love love loved the atm...</td>\n",
       "      <td>5.0 star rating</td>\n",
       "    </tr>\n",
       "    <tr>\n",
       "      <th>1</th>\n",
       "      <td>The Factory - Cafe With a Soul</td>\n",
       "      <td>12/2/2016 Listed in Date Night: Austin, Ambia...</td>\n",
       "      <td>4.0 star rating</td>\n",
       "    </tr>\n",
       "    <tr>\n",
       "      <th>2</th>\n",
       "      <td>The Factory - Cafe With a Soul</td>\n",
       "      <td>11/30/2016 1 check-in Listed in Brunch Spots ...</td>\n",
       "      <td>4.0 star rating</td>\n",
       "    </tr>\n",
       "    <tr>\n",
       "      <th>3</th>\n",
       "      <td>The Factory - Cafe With a Soul</td>\n",
       "      <td>11/25/2016 Very cool decor! Good drinks Nice ...</td>\n",
       "      <td>2.0 star rating</td>\n",
       "    </tr>\n",
       "    <tr>\n",
       "      <th>4</th>\n",
       "      <td>The Factory - Cafe With a Soul</td>\n",
       "      <td>12/3/2016 1 check-in They are located within ...</td>\n",
       "      <td>4.0 star rating</td>\n",
       "    </tr>\n",
       "  </tbody>\n",
       "</table>\n",
       "</div>"
      ],
      "text/plain": [
       "                  coffee_shop_name  \\\n",
       "0  The Factory - Cafe With a Soul    \n",
       "1  The Factory - Cafe With a Soul    \n",
       "2  The Factory - Cafe With a Soul    \n",
       "3  The Factory - Cafe With a Soul    \n",
       "4  The Factory - Cafe With a Soul    \n",
       "\n",
       "                                    full_review_text        star_rating  \n",
       "0   11/25/2016 1 check-in Love love loved the atm...   5.0 star rating   \n",
       "1   12/2/2016 Listed in Date Night: Austin, Ambia...   4.0 star rating   \n",
       "2   11/30/2016 1 check-in Listed in Brunch Spots ...   4.0 star rating   \n",
       "3   11/25/2016 Very cool decor! Good drinks Nice ...   2.0 star rating   \n",
       "4   12/3/2016 1 check-in They are located within ...   4.0 star rating   "
      ]
     },
     "execution_count": 3,
     "metadata": {},
     "output_type": "execute_result"
    }
   ],
   "source": [
    "# check df\n",
    "df.head(5)"
   ]
  },
  {
   "cell_type": "markdown",
   "metadata": {},
   "source": [
    "## How do we want to analyze these coffee shop tokens? \n",
    "\n",
    "- Overall Word / Token Count\n",
    "- View Counts by Rating \n",
    "- *Hint:* a 'bad' coffee shops has a rating betweeen 1 & 3 based on the distribution of ratings. A 'good' coffee shop is a 4 or 5. "
   ]
  },
  {
   "cell_type": "markdown",
   "metadata": {},
   "source": [
    "## Token Count Using spacy and nltk\n",
    "    \n",
    "    - Removed the dates using the re package\n",
    "    - Used nltk.corpus stopwords to remove words not useful for our purpose--stopwords(english)\n",
    "    - Lowered strings\n",
    "    - Removed whitespaces\n",
    "    "
   ]
  },
  {
   "cell_type": "code",
   "execution_count": 18,
   "metadata": {},
   "outputs": [],
   "source": [
    "# imports\n",
    "import spacy \n",
    "import seaborn as sns\n",
    "import re \n",
    "import nltk \n",
    "import pandas as pd\n",
    "import numpy as np\n",
    "import squarify\n",
    "import matplotlib.pyplot as plt\n",
    "import seaborn as sns"
   ]
  },
  {
   "cell_type": "code",
   "execution_count": 6,
   "metadata": {},
   "outputs": [],
   "source": [
    "# load in the model \n",
    "nlp = spacy.load('en_core_web_lg')"
   ]
  },
  {
   "cell_type": "code",
   "execution_count": 7,
   "metadata": {},
   "outputs": [],
   "source": [
    "# tokenization \n",
    "df['doc'] = [nlp(text) for text in df.full_review_text]"
   ]
  },
  {
   "cell_type": "code",
   "execution_count": 8,
   "metadata": {},
   "outputs": [
    {
     "data": {
      "text/html": [
       "<div>\n",
       "<style scoped>\n",
       "    .dataframe tbody tr th:only-of-type {\n",
       "        vertical-align: middle;\n",
       "    }\n",
       "\n",
       "    .dataframe tbody tr th {\n",
       "        vertical-align: top;\n",
       "    }\n",
       "\n",
       "    .dataframe thead th {\n",
       "        text-align: right;\n",
       "    }\n",
       "</style>\n",
       "<table border=\"1\" class=\"dataframe\">\n",
       "  <thead>\n",
       "    <tr style=\"text-align: right;\">\n",
       "      <th></th>\n",
       "      <th>coffee_shop_name</th>\n",
       "      <th>full_review_text</th>\n",
       "      <th>star_rating</th>\n",
       "      <th>doc</th>\n",
       "    </tr>\n",
       "  </thead>\n",
       "  <tbody>\n",
       "    <tr>\n",
       "      <th>0</th>\n",
       "      <td>The Factory - Cafe With a Soul</td>\n",
       "      <td>11/25/2016 1 check-in Love love loved the atm...</td>\n",
       "      <td>5.0 star rating</td>\n",
       "      <td>( , 11/25/2016, 1, check, -, in, Love, love, l...</td>\n",
       "    </tr>\n",
       "    <tr>\n",
       "      <th>1</th>\n",
       "      <td>The Factory - Cafe With a Soul</td>\n",
       "      <td>12/2/2016 Listed in Date Night: Austin, Ambia...</td>\n",
       "      <td>4.0 star rating</td>\n",
       "      <td>( , 12/2/2016, Listed, in, Date, Night, :, Aus...</td>\n",
       "    </tr>\n",
       "    <tr>\n",
       "      <th>2</th>\n",
       "      <td>The Factory - Cafe With a Soul</td>\n",
       "      <td>11/30/2016 1 check-in Listed in Brunch Spots ...</td>\n",
       "      <td>4.0 star rating</td>\n",
       "      <td>( , 11/30/2016, 1, check, -, in, Listed, in, B...</td>\n",
       "    </tr>\n",
       "    <tr>\n",
       "      <th>3</th>\n",
       "      <td>The Factory - Cafe With a Soul</td>\n",
       "      <td>11/25/2016 Very cool decor! Good drinks Nice ...</td>\n",
       "      <td>2.0 star rating</td>\n",
       "      <td>( , 11/25/2016, Very, cool, decor, !, Good, dr...</td>\n",
       "    </tr>\n",
       "    <tr>\n",
       "      <th>4</th>\n",
       "      <td>The Factory - Cafe With a Soul</td>\n",
       "      <td>12/3/2016 1 check-in They are located within ...</td>\n",
       "      <td>4.0 star rating</td>\n",
       "      <td>( , 12/3/2016, 1, check, -, in, They, are, loc...</td>\n",
       "    </tr>\n",
       "  </tbody>\n",
       "</table>\n",
       "</div>"
      ],
      "text/plain": [
       "                  coffee_shop_name  \\\n",
       "0  The Factory - Cafe With a Soul    \n",
       "1  The Factory - Cafe With a Soul    \n",
       "2  The Factory - Cafe With a Soul    \n",
       "3  The Factory - Cafe With a Soul    \n",
       "4  The Factory - Cafe With a Soul    \n",
       "\n",
       "                                    full_review_text        star_rating  \\\n",
       "0   11/25/2016 1 check-in Love love loved the atm...   5.0 star rating    \n",
       "1   12/2/2016 Listed in Date Night: Austin, Ambia...   4.0 star rating    \n",
       "2   11/30/2016 1 check-in Listed in Brunch Spots ...   4.0 star rating    \n",
       "3   11/25/2016 Very cool decor! Good drinks Nice ...   2.0 star rating    \n",
       "4   12/3/2016 1 check-in They are located within ...   4.0 star rating    \n",
       "\n",
       "                                                 doc  \n",
       "0  ( , 11/25/2016, 1, check, -, in, Love, love, l...  \n",
       "1  ( , 12/2/2016, Listed, in, Date, Night, :, Aus...  \n",
       "2  ( , 11/30/2016, 1, check, -, in, Listed, in, B...  \n",
       "3  ( , 11/25/2016, Very, cool, decor, !, Good, dr...  \n",
       "4  ( , 12/3/2016, 1, check, -, in, They, are, loc...  "
      ]
     },
     "execution_count": 8,
     "metadata": {},
     "output_type": "execute_result"
    }
   ],
   "source": [
    "# making sure the doc column was created \n",
    "# asserting that ['df.full_review_text'] was tokenized\n",
    "df.head(5)\n",
    "\n",
    "# nice, the ['df.full_review_text'] was converted into a set"
   ]
  },
  {
   "cell_type": "code",
   "execution_count": 9,
   "metadata": {},
   "outputs": [
    {
     "data": {
      "text/plain": [
       "<matplotlib.axes._subplots.AxesSubplot at 0x12276ecf8>"
      ]
     },
     "execution_count": 9,
     "metadata": {},
     "output_type": "execute_result"
    },
    {
     "data": {
      "image/png": "[encoded data removed]",
      "text/plain": [
       "<Figure size 432x288 with 1 Axes>"
      ]
     },
     "metadata": {
      "needs_background": "light"
     },
     "output_type": "display_data"
    }
   ],
   "source": [
    "# creating the first visualization\n",
    "\n",
    "# total number of tokens in the row \n",
    "df['n_tokens'] = [len(t) for t in df.doc]\n",
    "\n",
    "# plot \n",
    "plot = sns.distplot(df.n_tokens)\n",
    "\n",
    "plot"
   ]
  },
  {
   "cell_type": "code",
   "execution_count": 10,
   "metadata": {},
   "outputs": [
    {
     "data": {
      "text/plain": [
       "56    73\n",
       "49    67\n",
       "40    65\n",
       "68    64\n",
       "37    64\n",
       "71    62\n",
       "34    61\n",
       "50    61\n",
       "29    61\n",
       "65    60\n",
       "45    59\n",
       "33    59\n",
       "75    57\n",
       "30    57\n",
       "41    55\n",
       "96    55\n",
       "26    55\n",
       "35    55\n",
       "44    54\n",
       "43    54\n",
       "Name: n_tokens, dtype: int64"
      ]
     },
     "execution_count": 10,
     "metadata": {},
     "output_type": "execute_result"
    }
   ],
   "source": [
    "# check value counts of df['n_tokens']\n",
    "# top20 token counts\n",
    "df['n_tokens'].value_counts()[:20]"
   ]
  },
  {
   "cell_type": "code",
   "execution_count": 11,
   "metadata": {},
   "outputs": [
    {
     "data": {
      "text/html": [
       "<div>\n",
       "<style scoped>\n",
       "    .dataframe tbody tr th:only-of-type {\n",
       "        vertical-align: middle;\n",
       "    }\n",
       "\n",
       "    .dataframe tbody tr th {\n",
       "        vertical-align: top;\n",
       "    }\n",
       "\n",
       "    .dataframe thead th {\n",
       "        text-align: right;\n",
       "    }\n",
       "</style>\n",
       "<table border=\"1\" class=\"dataframe\">\n",
       "  <thead>\n",
       "    <tr style=\"text-align: right;\">\n",
       "      <th></th>\n",
       "      <th>coffee_shop_name</th>\n",
       "      <th>full_review_text</th>\n",
       "      <th>star_rating</th>\n",
       "      <th>doc</th>\n",
       "      <th>n_tokens</th>\n",
       "    </tr>\n",
       "  </thead>\n",
       "  <tbody>\n",
       "    <tr>\n",
       "      <th>0</th>\n",
       "      <td>The Factory - Cafe With a Soul</td>\n",
       "      <td>11/25/2016 1 check-in Love love loved the atm...</td>\n",
       "      <td>5.0 star rating</td>\n",
       "      <td>( , 11/25/2016, 1, check, -, in, Love, love, l...</td>\n",
       "      <td>118</td>\n",
       "    </tr>\n",
       "    <tr>\n",
       "      <th>1</th>\n",
       "      <td>The Factory - Cafe With a Soul</td>\n",
       "      <td>12/2/2016 Listed in Date Night: Austin, Ambia...</td>\n",
       "      <td>4.0 star rating</td>\n",
       "      <td>( , 12/2/2016, Listed, in, Date, Night, :, Aus...</td>\n",
       "      <td>73</td>\n",
       "    </tr>\n",
       "    <tr>\n",
       "      <th>2</th>\n",
       "      <td>The Factory - Cafe With a Soul</td>\n",
       "      <td>11/30/2016 1 check-in Listed in Brunch Spots ...</td>\n",
       "      <td>4.0 star rating</td>\n",
       "      <td>( , 11/30/2016, 1, check, -, in, Listed, in, B...</td>\n",
       "      <td>279</td>\n",
       "    </tr>\n",
       "    <tr>\n",
       "      <th>3</th>\n",
       "      <td>The Factory - Cafe With a Soul</td>\n",
       "      <td>11/25/2016 Very cool decor! Good drinks Nice ...</td>\n",
       "      <td>2.0 star rating</td>\n",
       "      <td>( , 11/25/2016, Very, cool, decor, !, Good, dr...</td>\n",
       "      <td>83</td>\n",
       "    </tr>\n",
       "    <tr>\n",
       "      <th>4</th>\n",
       "      <td>The Factory - Cafe With a Soul</td>\n",
       "      <td>12/3/2016 1 check-in They are located within ...</td>\n",
       "      <td>4.0 star rating</td>\n",
       "      <td>( , 12/3/2016, 1, check, -, in, They, are, loc...</td>\n",
       "      <td>131</td>\n",
       "    </tr>\n",
       "  </tbody>\n",
       "</table>\n",
       "</div>"
      ],
      "text/plain": [
       "                  coffee_shop_name  \\\n",
       "0  The Factory - Cafe With a Soul    \n",
       "1  The Factory - Cafe With a Soul    \n",
       "2  The Factory - Cafe With a Soul    \n",
       "3  The Factory - Cafe With a Soul    \n",
       "4  The Factory - Cafe With a Soul    \n",
       "\n",
       "                                    full_review_text        star_rating  \\\n",
       "0   11/25/2016 1 check-in Love love loved the atm...   5.0 star rating    \n",
       "1   12/2/2016 Listed in Date Night: Austin, Ambia...   4.0 star rating    \n",
       "2   11/30/2016 1 check-in Listed in Brunch Spots ...   4.0 star rating    \n",
       "3   11/25/2016 Very cool decor! Good drinks Nice ...   2.0 star rating    \n",
       "4   12/3/2016 1 check-in They are located within ...   4.0 star rating    \n",
       "\n",
       "                                                 doc  n_tokens  \n",
       "0  ( , 11/25/2016, 1, check, -, in, Love, love, l...       118  \n",
       "1  ( , 12/2/2016, Listed, in, Date, Night, :, Aus...        73  \n",
       "2  ( , 11/30/2016, 1, check, -, in, Listed, in, B...       279  \n",
       "3  ( , 11/25/2016, Very, cool, decor, !, Good, dr...        83  \n",
       "4  ( , 12/3/2016, 1, check, -, in, They, are, loc...       131  "
      ]
     },
     "execution_count": 11,
     "metadata": {},
     "output_type": "execute_result"
    }
   ],
   "source": [
    "# check df\n",
    "df.head()"
   ]
  },
  {
   "cell_type": "code",
   "execution_count": 12,
   "metadata": {},
   "outputs": [],
   "source": [
    "# lowercase everything\n",
    "df['full_review_text'] = df['full_review_text'].map(lambda x: x.lower())\n",
    "\n",
    "# strip leading whitespaces \n",
    "df['full_review_text'] = df['full_review_text'].map(lambda x: x.strip())"
   ]
  },
  {
   "cell_type": "code",
   "execution_count": 13,
   "metadata": {},
   "outputs": [
    {
     "data": {
      "text/plain": [
       "0       11/25/2016 1 check-in love love loved the atmo...\n",
       "1       12/2/2016 listed in date night: austin, ambian...\n",
       "2       11/30/2016 1 check-in listed in brunch spots i...\n",
       "3       11/25/2016 very cool decor! good drinks nice s...\n",
       "4       12/3/2016 1 check-in they are located within t...\n",
       "                              ...                        \n",
       "7611    2/19/2015 i actually step into this restaurant...\n",
       "7612    1/21/2016 ok, the steeping room is awesome. ho...\n",
       "7613    4/30/2015 loved coming here for tea, and the a...\n",
       "7614    8/2/2015 the food is just average. the booths ...\n",
       "7615    5/23/2015 i finally stopped in for lunch with ...\n",
       "Name: full_review_text, Length: 7616, dtype: object"
      ]
     },
     "execution_count": 13,
     "metadata": {},
     "output_type": "execute_result"
    }
   ],
   "source": [
    "# making sure the changes were properly applied \n",
    "df['full_review_text']"
   ]
  },
  {
   "cell_type": "code",
   "execution_count": 14,
   "metadata": {},
   "outputs": [],
   "source": [
    "# Using re(Regular Expression)\n",
    "# The dates have no significant importance on wether or not a coffee shop is good\n",
    "# Ill remove them using the re package\n",
    "df['full_review_text'] = df['full_review_text'].map(lambda x: re.sub(\"[^a-z\\s]\", \"\", x))"
   ]
  },
  {
   "cell_type": "code",
   "execution_count": 16,
   "metadata": {},
   "outputs": [
    {
     "data": {
      "text/plain": [
       "0         checkin love love loved the atmosphere every...\n",
       "1        listed in date night austin ambiance in austi...\n",
       "2         checkin listed in brunch spots i loved the e...\n",
       "3        very cool decor good drinks nice seating  how...\n",
       "4         checkin they are located within the northcro...\n",
       "                              ...                        \n",
       "7611     i actually step into this restaurant by chanc...\n",
       "7612     ok the steeping room is awesome how do they h...\n",
       "7613     loved coming here for tea and the atmosphere ...\n",
       "7614     the food is just average the booths didnt fee...\n",
       "7615     i finally stopped in for lunch with my collea...\n",
       "Name: full_review_text, Length: 7616, dtype: object"
      ]
     },
     "execution_count": 16,
     "metadata": {},
     "output_type": "execute_result"
    }
   ],
   "source": [
    "# no dates\n",
    "df['full_review_text']"
   ]
  },
  {
   "cell_type": "code",
   "execution_count": 15,
   "metadata": {},
   "outputs": [
    {
     "data": {
      "text/html": [
       "<div>\n",
       "<style scoped>\n",
       "    .dataframe tbody tr th:only-of-type {\n",
       "        vertical-align: middle;\n",
       "    }\n",
       "\n",
       "    .dataframe tbody tr th {\n",
       "        vertical-align: top;\n",
       "    }\n",
       "\n",
       "    .dataframe thead th {\n",
       "        text-align: right;\n",
       "    }\n",
       "</style>\n",
       "<table border=\"1\" class=\"dataframe\">\n",
       "  <thead>\n",
       "    <tr style=\"text-align: right;\">\n",
       "      <th></th>\n",
       "      <th>coffee_shop_name</th>\n",
       "      <th>full_review_text</th>\n",
       "      <th>star_rating</th>\n",
       "      <th>doc</th>\n",
       "      <th>n_tokens</th>\n",
       "    </tr>\n",
       "  </thead>\n",
       "  <tbody>\n",
       "    <tr>\n",
       "      <th>0</th>\n",
       "      <td>The Factory - Cafe With a Soul</td>\n",
       "      <td>checkin love love loved the atmosphere every...</td>\n",
       "      <td>5.0 star rating</td>\n",
       "      <td>( , 11/25/2016, 1, check, -, in, Love, love, l...</td>\n",
       "      <td>118</td>\n",
       "    </tr>\n",
       "    <tr>\n",
       "      <th>1</th>\n",
       "      <td>The Factory - Cafe With a Soul</td>\n",
       "      <td>listed in date night austin ambiance in austi...</td>\n",
       "      <td>4.0 star rating</td>\n",
       "      <td>( , 12/2/2016, Listed, in, Date, Night, :, Aus...</td>\n",
       "      <td>73</td>\n",
       "    </tr>\n",
       "    <tr>\n",
       "      <th>2</th>\n",
       "      <td>The Factory - Cafe With a Soul</td>\n",
       "      <td>checkin listed in brunch spots i loved the e...</td>\n",
       "      <td>4.0 star rating</td>\n",
       "      <td>( , 11/30/2016, 1, check, -, in, Listed, in, B...</td>\n",
       "      <td>279</td>\n",
       "    </tr>\n",
       "    <tr>\n",
       "      <th>3</th>\n",
       "      <td>The Factory - Cafe With a Soul</td>\n",
       "      <td>very cool decor good drinks nice seating  how...</td>\n",
       "      <td>2.0 star rating</td>\n",
       "      <td>( , 11/25/2016, Very, cool, decor, !, Good, dr...</td>\n",
       "      <td>83</td>\n",
       "    </tr>\n",
       "    <tr>\n",
       "      <th>4</th>\n",
       "      <td>The Factory - Cafe With a Soul</td>\n",
       "      <td>checkin they are located within the northcro...</td>\n",
       "      <td>4.0 star rating</td>\n",
       "      <td>( , 12/3/2016, 1, check, -, in, They, are, loc...</td>\n",
       "      <td>131</td>\n",
       "    </tr>\n",
       "  </tbody>\n",
       "</table>\n",
       "</div>"
      ],
      "text/plain": [
       "                  coffee_shop_name  \\\n",
       "0  The Factory - Cafe With a Soul    \n",
       "1  The Factory - Cafe With a Soul    \n",
       "2  The Factory - Cafe With a Soul    \n",
       "3  The Factory - Cafe With a Soul    \n",
       "4  The Factory - Cafe With a Soul    \n",
       "\n",
       "                                    full_review_text        star_rating  \\\n",
       "0    checkin love love loved the atmosphere every...   5.0 star rating    \n",
       "1   listed in date night austin ambiance in austi...   4.0 star rating    \n",
       "2    checkin listed in brunch spots i loved the e...   4.0 star rating    \n",
       "3   very cool decor good drinks nice seating  how...   2.0 star rating    \n",
       "4    checkin they are located within the northcro...   4.0 star rating    \n",
       "\n",
       "                                                 doc  n_tokens  \n",
       "0  ( , 11/25/2016, 1, check, -, in, Love, love, l...       118  \n",
       "1  ( , 12/2/2016, Listed, in, Date, Night, :, Aus...        73  \n",
       "2  ( , 11/30/2016, 1, check, -, in, Listed, in, B...       279  \n",
       "3  ( , 11/25/2016, Very, cool, decor, !, Good, dr...        83  \n",
       "4  ( , 12/3/2016, 1, check, -, in, They, are, loc...       131  "
      ]
     },
     "execution_count": 15,
     "metadata": {},
     "output_type": "execute_result"
    }
   ],
   "source": [
    "# asseriting changes were applied\n",
    "df.head()"
   ]
  },
  {
   "cell_type": "code",
   "execution_count": 17,
   "metadata": {},
   "outputs": [
    {
     "name": "stdout",
     "output_type": "stream",
     "text": [
      "showing info https://raw.githubusercontent.com/nltk/nltk_data/gh-pages/index.xml\n"
     ]
    },
    {
     "data": {
      "text/plain": [
       "True"
      ]
     },
     "execution_count": 17,
     "metadata": {},
     "output_type": "execute_result"
    }
   ],
   "source": [
    "# nltk(Natural Language Tool-Kit)\n",
    "nltk.download()"
   ]
  },
  {
   "cell_type": "code",
   "execution_count": 18,
   "metadata": {},
   "outputs": [],
   "source": [
    "# Using the stopwords stored in the english language to have our data rid of words \n",
    "# that are not useful for finding out wether or not a coffee shop is good or not.\n",
    "from nltk.corpus import stopwords\n",
    "stopwords = set(stopwords.words(\"english\"))\n",
    "df['full_review_text'] = df['full_review_text'].apply(lambda x: \" \".join(w for w in x.split() if w not in stopwords))"
   ]
  },
  {
   "cell_type": "code",
   "execution_count": 20,
   "metadata": {},
   "outputs": [],
   "source": [
    "# re-tokenize doc with all the changes made to df.full_review_text\n",
    "df['doc'] = [nlp(t) for t in df.full_review_text]"
   ]
  },
  {
   "cell_type": "code",
   "execution_count": 22,
   "metadata": {},
   "outputs": [
    {
     "data": {
      "text/html": [
       "<div>\n",
       "<style scoped>\n",
       "    .dataframe tbody tr th:only-of-type {\n",
       "        vertical-align: middle;\n",
       "    }\n",
       "\n",
       "    .dataframe tbody tr th {\n",
       "        vertical-align: top;\n",
       "    }\n",
       "\n",
       "    .dataframe thead th {\n",
       "        text-align: right;\n",
       "    }\n",
       "</style>\n",
       "<table border=\"1\" class=\"dataframe\">\n",
       "  <thead>\n",
       "    <tr style=\"text-align: right;\">\n",
       "      <th></th>\n",
       "      <th>coffee_shop_name</th>\n",
       "      <th>full_review_text</th>\n",
       "      <th>star_rating</th>\n",
       "      <th>doc</th>\n",
       "      <th>n_tokens</th>\n",
       "    </tr>\n",
       "  </thead>\n",
       "  <tbody>\n",
       "    <tr>\n",
       "      <th>0</th>\n",
       "      <td>The Factory - Cafe With a Soul</td>\n",
       "      <td>checkin love love loved atmosphere every corne...</td>\n",
       "      <td>5.0 star rating</td>\n",
       "      <td>(checkin, love, love, loved, atmosphere, every...</td>\n",
       "      <td>118</td>\n",
       "    </tr>\n",
       "    <tr>\n",
       "      <th>1</th>\n",
       "      <td>The Factory - Cafe With a Soul</td>\n",
       "      <td>listed date night austin ambiance austin beaut...</td>\n",
       "      <td>4.0 star rating</td>\n",
       "      <td>(listed, date, night, austin, ambiance, austin...</td>\n",
       "      <td>73</td>\n",
       "    </tr>\n",
       "    <tr>\n",
       "      <th>2</th>\n",
       "      <td>The Factory - Cafe With a Soul</td>\n",
       "      <td>checkin listed brunch spots loved eclectic hom...</td>\n",
       "      <td>4.0 star rating</td>\n",
       "      <td>(checkin, listed, brunch, spots, loved, eclect...</td>\n",
       "      <td>279</td>\n",
       "    </tr>\n",
       "    <tr>\n",
       "      <th>3</th>\n",
       "      <td>The Factory - Cafe With a Soul</td>\n",
       "      <td>cool decor good drinks nice seating however ev...</td>\n",
       "      <td>2.0 star rating</td>\n",
       "      <td>(cool, decor, good, drinks, nice, seating, how...</td>\n",
       "      <td>83</td>\n",
       "    </tr>\n",
       "    <tr>\n",
       "      <th>4</th>\n",
       "      <td>The Factory - Cafe With a Soul</td>\n",
       "      <td>checkin located within northcross mall shoppin...</td>\n",
       "      <td>4.0 star rating</td>\n",
       "      <td>(checkin, located, within, northcross, mall, s...</td>\n",
       "      <td>131</td>\n",
       "    </tr>\n",
       "  </tbody>\n",
       "</table>\n",
       "</div>"
      ],
      "text/plain": [
       "                  coffee_shop_name  \\\n",
       "0  The Factory - Cafe With a Soul    \n",
       "1  The Factory - Cafe With a Soul    \n",
       "2  The Factory - Cafe With a Soul    \n",
       "3  The Factory - Cafe With a Soul    \n",
       "4  The Factory - Cafe With a Soul    \n",
       "\n",
       "                                    full_review_text        star_rating  \\\n",
       "0  checkin love love loved atmosphere every corne...   5.0 star rating    \n",
       "1  listed date night austin ambiance austin beaut...   4.0 star rating    \n",
       "2  checkin listed brunch spots loved eclectic hom...   4.0 star rating    \n",
       "3  cool decor good drinks nice seating however ev...   2.0 star rating    \n",
       "4  checkin located within northcross mall shoppin...   4.0 star rating    \n",
       "\n",
       "                                                 doc  n_tokens  \n",
       "0  (checkin, love, love, loved, atmosphere, every...       118  \n",
       "1  (listed, date, night, austin, ambiance, austin...        73  \n",
       "2  (checkin, listed, brunch, spots, loved, eclect...       279  \n",
       "3  (cool, decor, good, drinks, nice, seating, how...        83  \n",
       "4  (checkin, located, within, northcross, mall, s...       131  "
      ]
     },
     "execution_count": 22,
     "metadata": {},
     "output_type": "execute_result"
    }
   ],
   "source": [
    "# assert changes were made\n",
    "df.head()"
   ]
  },
  {
   "cell_type": "code",
   "execution_count": 23,
   "metadata": {},
   "outputs": [
    {
     "data": {
      "text/plain": [
       "0       (checkin, love, love, loved, atmosphere, every...\n",
       "1       (listed, date, night, austin, ambiance, austin...\n",
       "2       (checkin, listed, brunch, spots, loved, eclect...\n",
       "3       (cool, decor, good, drinks, nice, seating, how...\n",
       "4       (checkin, located, within, northcross, mall, s...\n",
       "                              ...                        \n",
       "7611    (actually, step, restaurant, chance, one, favo...\n",
       "7612    (ok, steeping, room, awesome, many, great, men...\n",
       "7613    (loved, coming, tea, atmosphere, pretty, fresh...\n",
       "7614    (food, average, booths, did, nt, feel, clean, ...\n",
       "7615    (finally, stopped, lunch, colleague, i, m, gla...\n",
       "Name: doc, Length: 7616, dtype: object"
      ]
     },
     "execution_count": 23,
     "metadata": {},
     "output_type": "execute_result"
    }
   ],
   "source": [
    "# doc has all the changes made to df.full_review_text\n",
    "df['doc']"
   ]
  },
  {
   "cell_type": "code",
   "execution_count": 28,
   "metadata": {},
   "outputs": [
    {
     "data": {
      "text/plain": [
       "<matplotlib.axes._subplots.AxesSubplot at 0x186657eb8>"
      ]
     },
     "execution_count": 28,
     "metadata": {},
     "output_type": "execute_result"
    },
    {
     "data": {
      "image/png": "[encoded data removed]",
      "text/plain": [
       "<Figure size 432x288 with 1 Axes>"
      ]
     },
     "metadata": {
      "needs_background": "light"
     },
     "output_type": "display_data"
    }
   ],
   "source": [
    "# visualize number of tokens \n",
    "# update n_tokens and re-graph\n",
    "df['n_tokens'] = [len(t) for t in df.doc]\n",
    "\n",
    "# plot\n",
    "plot = sns.distplot(df.n_tokens)\n",
    "\n",
    "plot"
   ]
  },
  {
   "cell_type": "code",
   "execution_count": 32,
   "metadata": {},
   "outputs": [
    {
     "data": {
      "text/plain": [
       "19    138\n",
       "26    135\n",
       "20    133\n",
       "21    133\n",
       "27    129\n",
       "14    128\n",
       "34    128\n",
       "13    127\n",
       "23    121\n",
       "31    118\n",
       "16    117\n",
       "18    116\n",
       "17    115\n",
       "29    114\n",
       "24    112\n",
       "32    112\n",
       "28    110\n",
       "25    108\n",
       "15    106\n",
       "22    104\n",
       "30    104\n",
       "47    103\n",
       "42     99\n",
       "33     99\n",
       "12     98\n",
       "37     97\n",
       "36     95\n",
       "49     91\n",
       "43     90\n",
       "45     90\n",
       "Name: n_tokens, dtype: int64"
      ]
     },
     "execution_count": 32,
     "metadata": {},
     "output_type": "execute_result"
    }
   ],
   "source": [
    "# token count top30\n",
    "# Most tokens fall with 14-50\n",
    "# defintely different from the previous visualizing/tokenization created without the data cleaning \n",
    "df['n_tokens'].value_counts()[:30]"
   ]
  },
  {
   "cell_type": "markdown",
   "metadata": {},
   "source": [
    "## Cleaning Ratings\n",
    "\n",
    "    - Remove everything but the actual numerical rating(5.0, 4.0, etc) using the .strip() and .split() method.\n",
    "    - Remove whitespace\n",
    "    - Tokenize Ratings "
   ]
  },
  {
   "cell_type": "code",
   "execution_count": 33,
   "metadata": {},
   "outputs": [],
   "source": [
    "# remove whitespace \n",
    "df['star_rating'] = df['star_rating'].map(lambda x: x.strip())"
   ]
  },
  {
   "cell_type": "code",
   "execution_count": 36,
   "metadata": {},
   "outputs": [],
   "source": [
    "# keep only the number and remove the rest \n",
    "df['star_rating'] = df['star_rating'].str.split().str[0].str.strip()"
   ]
  },
  {
   "cell_type": "code",
   "execution_count": 37,
   "metadata": {},
   "outputs": [
    {
     "data": {
      "text/html": [
       "<div>\n",
       "<style scoped>\n",
       "    .dataframe tbody tr th:only-of-type {\n",
       "        vertical-align: middle;\n",
       "    }\n",
       "\n",
       "    .dataframe tbody tr th {\n",
       "        vertical-align: top;\n",
       "    }\n",
       "\n",
       "    .dataframe thead th {\n",
       "        text-align: right;\n",
       "    }\n",
       "</style>\n",
       "<table border=\"1\" class=\"dataframe\">\n",
       "  <thead>\n",
       "    <tr style=\"text-align: right;\">\n",
       "      <th></th>\n",
       "      <th>coffee_shop_name</th>\n",
       "      <th>full_review_text</th>\n",
       "      <th>star_rating</th>\n",
       "      <th>doc</th>\n",
       "      <th>n_tokens</th>\n",
       "    </tr>\n",
       "  </thead>\n",
       "  <tbody>\n",
       "    <tr>\n",
       "      <th>0</th>\n",
       "      <td>The Factory - Cafe With a Soul</td>\n",
       "      <td>checkin love love loved atmosphere every corne...</td>\n",
       "      <td>5.0</td>\n",
       "      <td>(checkin, love, love, loved, atmosphere, every...</td>\n",
       "      <td>49</td>\n",
       "    </tr>\n",
       "    <tr>\n",
       "      <th>1</th>\n",
       "      <td>The Factory - Cafe With a Soul</td>\n",
       "      <td>listed date night austin ambiance austin beaut...</td>\n",
       "      <td>4.0</td>\n",
       "      <td>(listed, date, night, austin, ambiance, austin...</td>\n",
       "      <td>26</td>\n",
       "    </tr>\n",
       "    <tr>\n",
       "      <th>2</th>\n",
       "      <td>The Factory - Cafe With a Soul</td>\n",
       "      <td>checkin listed brunch spots loved eclectic hom...</td>\n",
       "      <td>4.0</td>\n",
       "      <td>(checkin, listed, brunch, spots, loved, eclect...</td>\n",
       "      <td>118</td>\n",
       "    </tr>\n",
       "    <tr>\n",
       "      <th>3</th>\n",
       "      <td>The Factory - Cafe With a Soul</td>\n",
       "      <td>cool decor good drinks nice seating however ev...</td>\n",
       "      <td>2.0</td>\n",
       "      <td>(cool, decor, good, drinks, nice, seating, how...</td>\n",
       "      <td>39</td>\n",
       "    </tr>\n",
       "    <tr>\n",
       "      <th>4</th>\n",
       "      <td>The Factory - Cafe With a Soul</td>\n",
       "      <td>checkin located within northcross mall shoppin...</td>\n",
       "      <td>4.0</td>\n",
       "      <td>(checkin, located, within, northcross, mall, s...</td>\n",
       "      <td>68</td>\n",
       "    </tr>\n",
       "  </tbody>\n",
       "</table>\n",
       "</div>"
      ],
      "text/plain": [
       "                  coffee_shop_name  \\\n",
       "0  The Factory - Cafe With a Soul    \n",
       "1  The Factory - Cafe With a Soul    \n",
       "2  The Factory - Cafe With a Soul    \n",
       "3  The Factory - Cafe With a Soul    \n",
       "4  The Factory - Cafe With a Soul    \n",
       "\n",
       "                                    full_review_text star_rating  \\\n",
       "0  checkin love love loved atmosphere every corne...         5.0   \n",
       "1  listed date night austin ambiance austin beaut...         4.0   \n",
       "2  checkin listed brunch spots loved eclectic hom...         4.0   \n",
       "3  cool decor good drinks nice seating however ev...         2.0   \n",
       "4  checkin located within northcross mall shoppin...         4.0   \n",
       "\n",
       "                                                 doc  n_tokens  \n",
       "0  (checkin, love, love, loved, atmosphere, every...        49  \n",
       "1  (listed, date, night, austin, ambiance, austin...        26  \n",
       "2  (checkin, listed, brunch, spots, loved, eclect...       118  \n",
       "3  (cool, decor, good, drinks, nice, seating, how...        39  \n",
       "4  (checkin, located, within, northcross, mall, s...        68  "
      ]
     },
     "execution_count": 37,
     "metadata": {},
     "output_type": "execute_result"
    }
   ],
   "source": [
    "# assert changes \n",
    "df.head()"
   ]
  },
  {
   "cell_type": "code",
   "execution_count": 38,
   "metadata": {},
   "outputs": [
    {
     "data": {
      "text/plain": [
       "0       5.0\n",
       "1       4.0\n",
       "2       4.0\n",
       "3       2.0\n",
       "4       4.0\n",
       "       ... \n",
       "7611    4.0\n",
       "7612    5.0\n",
       "7613    4.0\n",
       "7614    3.0\n",
       "7615    4.0\n",
       "Name: star_rating, Length: 7616, dtype: object"
      ]
     },
     "execution_count": 38,
     "metadata": {},
     "output_type": "execute_result"
    }
   ],
   "source": [
    "# Only the number remains\n",
    "df['star_rating']"
   ]
  },
  {
   "cell_type": "code",
   "execution_count": 39,
   "metadata": {},
   "outputs": [],
   "source": [
    "# tokenize ratings\n",
    "df['ratings_tokenized'] = [nlp(t) for t in df.star_rating]"
   ]
  },
  {
   "cell_type": "code",
   "execution_count": 40,
   "metadata": {},
   "outputs": [
    {
     "data": {
      "text/html": [
       "<div>\n",
       "<style scoped>\n",
       "    .dataframe tbody tr th:only-of-type {\n",
       "        vertical-align: middle;\n",
       "    }\n",
       "\n",
       "    .dataframe tbody tr th {\n",
       "        vertical-align: top;\n",
       "    }\n",
       "\n",
       "    .dataframe thead th {\n",
       "        text-align: right;\n",
       "    }\n",
       "</style>\n",
       "<table border=\"1\" class=\"dataframe\">\n",
       "  <thead>\n",
       "    <tr style=\"text-align: right;\">\n",
       "      <th></th>\n",
       "      <th>coffee_shop_name</th>\n",
       "      <th>full_review_text</th>\n",
       "      <th>star_rating</th>\n",
       "      <th>doc</th>\n",
       "      <th>n_tokens</th>\n",
       "      <th>ratings_tokenized</th>\n",
       "    </tr>\n",
       "  </thead>\n",
       "  <tbody>\n",
       "    <tr>\n",
       "      <th>0</th>\n",
       "      <td>The Factory - Cafe With a Soul</td>\n",
       "      <td>checkin love love loved atmosphere every corne...</td>\n",
       "      <td>5.0</td>\n",
       "      <td>(checkin, love, love, loved, atmosphere, every...</td>\n",
       "      <td>49</td>\n",
       "      <td>(5.0)</td>\n",
       "    </tr>\n",
       "    <tr>\n",
       "      <th>1</th>\n",
       "      <td>The Factory - Cafe With a Soul</td>\n",
       "      <td>listed date night austin ambiance austin beaut...</td>\n",
       "      <td>4.0</td>\n",
       "      <td>(listed, date, night, austin, ambiance, austin...</td>\n",
       "      <td>26</td>\n",
       "      <td>(4.0)</td>\n",
       "    </tr>\n",
       "    <tr>\n",
       "      <th>2</th>\n",
       "      <td>The Factory - Cafe With a Soul</td>\n",
       "      <td>checkin listed brunch spots loved eclectic hom...</td>\n",
       "      <td>4.0</td>\n",
       "      <td>(checkin, listed, brunch, spots, loved, eclect...</td>\n",
       "      <td>118</td>\n",
       "      <td>(4.0)</td>\n",
       "    </tr>\n",
       "    <tr>\n",
       "      <th>3</th>\n",
       "      <td>The Factory - Cafe With a Soul</td>\n",
       "      <td>cool decor good drinks nice seating however ev...</td>\n",
       "      <td>2.0</td>\n",
       "      <td>(cool, decor, good, drinks, nice, seating, how...</td>\n",
       "      <td>39</td>\n",
       "      <td>(2.0)</td>\n",
       "    </tr>\n",
       "    <tr>\n",
       "      <th>4</th>\n",
       "      <td>The Factory - Cafe With a Soul</td>\n",
       "      <td>checkin located within northcross mall shoppin...</td>\n",
       "      <td>4.0</td>\n",
       "      <td>(checkin, located, within, northcross, mall, s...</td>\n",
       "      <td>68</td>\n",
       "      <td>(4.0)</td>\n",
       "    </tr>\n",
       "  </tbody>\n",
       "</table>\n",
       "</div>"
      ],
      "text/plain": [
       "                  coffee_shop_name  \\\n",
       "0  The Factory - Cafe With a Soul    \n",
       "1  The Factory - Cafe With a Soul    \n",
       "2  The Factory - Cafe With a Soul    \n",
       "3  The Factory - Cafe With a Soul    \n",
       "4  The Factory - Cafe With a Soul    \n",
       "\n",
       "                                    full_review_text star_rating  \\\n",
       "0  checkin love love loved atmosphere every corne...         5.0   \n",
       "1  listed date night austin ambiance austin beaut...         4.0   \n",
       "2  checkin listed brunch spots loved eclectic hom...         4.0   \n",
       "3  cool decor good drinks nice seating however ev...         2.0   \n",
       "4  checkin located within northcross mall shoppin...         4.0   \n",
       "\n",
       "                                                 doc  n_tokens  \\\n",
       "0  (checkin, love, love, loved, atmosphere, every...        49   \n",
       "1  (listed, date, night, austin, ambiance, austin...        26   \n",
       "2  (checkin, listed, brunch, spots, loved, eclect...       118   \n",
       "3  (cool, decor, good, drinks, nice, seating, how...        39   \n",
       "4  (checkin, located, within, northcross, mall, s...        68   \n",
       "\n",
       "  ratings_tokenized  \n",
       "0             (5.0)  \n",
       "1             (4.0)  \n",
       "2             (4.0)  \n",
       "3             (2.0)  \n",
       "4             (4.0)  "
      ]
     },
     "execution_count": 40,
     "metadata": {},
     "output_type": "execute_result"
    }
   ],
   "source": [
    "# asssert ratings is tokenized\n",
    "df.head()"
   ]
  },
  {
   "cell_type": "code",
   "execution_count": 42,
   "metadata": {},
   "outputs": [
    {
     "data": {
      "text/html": [
       "<div>\n",
       "<style scoped>\n",
       "    .dataframe tbody tr th:only-of-type {\n",
       "        vertical-align: middle;\n",
       "    }\n",
       "\n",
       "    .dataframe tbody tr th {\n",
       "        vertical-align: top;\n",
       "    }\n",
       "\n",
       "    .dataframe thead th {\n",
       "        text-align: right;\n",
       "    }\n",
       "</style>\n",
       "<table border=\"1\" class=\"dataframe\">\n",
       "  <thead>\n",
       "    <tr style=\"text-align: right;\">\n",
       "      <th></th>\n",
       "      <th>coffee_shop_name</th>\n",
       "      <th>full_review_text</th>\n",
       "      <th>star_rating</th>\n",
       "      <th>doc</th>\n",
       "      <th>n_tokens</th>\n",
       "      <th>ratings_tokenized</th>\n",
       "      <th>numeric_ratings</th>\n",
       "    </tr>\n",
       "  </thead>\n",
       "  <tbody>\n",
       "    <tr>\n",
       "      <th>0</th>\n",
       "      <td>The Factory - Cafe With a Soul</td>\n",
       "      <td>checkin love love loved atmosphere every corne...</td>\n",
       "      <td>5.0</td>\n",
       "      <td>(checkin, love, love, loved, atmosphere, every...</td>\n",
       "      <td>49</td>\n",
       "      <td>(5.0)</td>\n",
       "      <td>5.0</td>\n",
       "    </tr>\n",
       "    <tr>\n",
       "      <th>1</th>\n",
       "      <td>The Factory - Cafe With a Soul</td>\n",
       "      <td>listed date night austin ambiance austin beaut...</td>\n",
       "      <td>4.0</td>\n",
       "      <td>(listed, date, night, austin, ambiance, austin...</td>\n",
       "      <td>26</td>\n",
       "      <td>(4.0)</td>\n",
       "      <td>4.0</td>\n",
       "    </tr>\n",
       "    <tr>\n",
       "      <th>2</th>\n",
       "      <td>The Factory - Cafe With a Soul</td>\n",
       "      <td>checkin listed brunch spots loved eclectic hom...</td>\n",
       "      <td>4.0</td>\n",
       "      <td>(checkin, listed, brunch, spots, loved, eclect...</td>\n",
       "      <td>118</td>\n",
       "      <td>(4.0)</td>\n",
       "      <td>4.0</td>\n",
       "    </tr>\n",
       "    <tr>\n",
       "      <th>3</th>\n",
       "      <td>The Factory - Cafe With a Soul</td>\n",
       "      <td>cool decor good drinks nice seating however ev...</td>\n",
       "      <td>2.0</td>\n",
       "      <td>(cool, decor, good, drinks, nice, seating, how...</td>\n",
       "      <td>39</td>\n",
       "      <td>(2.0)</td>\n",
       "      <td>2.0</td>\n",
       "    </tr>\n",
       "    <tr>\n",
       "      <th>4</th>\n",
       "      <td>The Factory - Cafe With a Soul</td>\n",
       "      <td>checkin located within northcross mall shoppin...</td>\n",
       "      <td>4.0</td>\n",
       "      <td>(checkin, located, within, northcross, mall, s...</td>\n",
       "      <td>68</td>\n",
       "      <td>(4.0)</td>\n",
       "      <td>4.0</td>\n",
       "    </tr>\n",
       "  </tbody>\n",
       "</table>\n",
       "</div>"
      ],
      "text/plain": [
       "                  coffee_shop_name  \\\n",
       "0  The Factory - Cafe With a Soul    \n",
       "1  The Factory - Cafe With a Soul    \n",
       "2  The Factory - Cafe With a Soul    \n",
       "3  The Factory - Cafe With a Soul    \n",
       "4  The Factory - Cafe With a Soul    \n",
       "\n",
       "                                    full_review_text star_rating  \\\n",
       "0  checkin love love loved atmosphere every corne...         5.0   \n",
       "1  listed date night austin ambiance austin beaut...         4.0   \n",
       "2  checkin listed brunch spots loved eclectic hom...         4.0   \n",
       "3  cool decor good drinks nice seating however ev...         2.0   \n",
       "4  checkin located within northcross mall shoppin...         4.0   \n",
       "\n",
       "                                                 doc  n_tokens  \\\n",
       "0  (checkin, love, love, loved, atmosphere, every...        49   \n",
       "1  (listed, date, night, austin, ambiance, austin...        26   \n",
       "2  (checkin, listed, brunch, spots, loved, eclect...       118   \n",
       "3  (cool, decor, good, drinks, nice, seating, how...        39   \n",
       "4  (checkin, located, within, northcross, mall, s...        68   \n",
       "\n",
       "  ratings_tokenized  numeric_ratings  \n",
       "0             (5.0)              5.0  \n",
       "1             (4.0)              4.0  \n",
       "2             (4.0)              4.0  \n",
       "3             (2.0)              2.0  \n",
       "4             (4.0)              4.0  "
      ]
     },
     "execution_count": 42,
     "metadata": {},
     "output_type": "execute_result"
    }
   ],
   "source": [
    "# convert star_ratings to numeric for plotting\n",
    "df['numeric_ratings'] = pd.to_numeric(df['star_rating'], errors='coerce')\n",
    "\n",
    "# check\n",
    "df.head()"
   ]
  },
  {
   "cell_type": "code",
   "execution_count": 47,
   "metadata": {},
   "outputs": [
    {
     "data": {
      "text/plain": [
       "<matplotlib.axes._subplots.AxesSubplot at 0x18825e198>"
      ]
     },
     "execution_count": 47,
     "metadata": {},
     "output_type": "execute_result"
    },
    {
     "data": {
      "image/png": "[encoded data removed]",
      "text/plain": [
       "<Figure size 432x288 with 1 Axes>"
      ]
     },
     "metadata": {
      "needs_background": "light"
     },
     "output_type": "display_data"
    }
   ],
   "source": [
    "# visualize distribution of ratings\n",
    "# most ratings fall between 4-5, pretty common.\n",
    "sns.distplot(df.numeric_ratings)"
   ]
  },
  {
   "cell_type": "code",
   "execution_count": 48,
   "metadata": {},
   "outputs": [
    {
     "data": {
      "text/plain": [
       "5.0    3780\n",
       "4.0    2360\n",
       "3.0     738\n",
       "2.0     460\n",
       "1.0     278\n",
       "Name: star_rating, dtype: int64"
      ]
     },
     "execution_count": 48,
     "metadata": {},
     "output_type": "execute_result"
    }
   ],
   "source": [
    "# further visualization of the distribution of ratings for this coffee shop.\n",
    "df['star_rating'].value_counts()"
   ]
  },
  {
   "cell_type": "code",
   "execution_count": 49,
   "metadata": {},
   "outputs": [
    {
     "data": {
      "text/plain": [
       "5.0    0.496324\n",
       "4.0    0.309874\n",
       "3.0    0.096901\n",
       "2.0    0.060399\n",
       "1.0    0.036502\n",
       "Name: star_rating, dtype: float64"
      ]
     },
     "execution_count": 49,
     "metadata": {},
     "output_type": "execute_result"
    }
   ],
   "source": [
    "# percentage/normalized\n",
    "# 4-5 is ~80% of ratings given from the users in this dataset.\n",
    "df['star_rating'].value_counts(normalize=True)"
   ]
  },
  {
   "cell_type": "code",
   "execution_count": 50,
   "metadata": {},
   "outputs": [
    {
     "data": {
      "text/plain": [
       "(7616, 7)"
      ]
     },
     "execution_count": 50,
     "metadata": {},
     "output_type": "execute_result"
    }
   ],
   "source": [
    "# check shape\n",
    "df.shape"
   ]
  },
  {
   "cell_type": "markdown",
   "metadata": {},
   "source": [
    "## Can visualize the words with the greatest difference in counts between 'good' & 'bad'?\n",
    "\n",
    "Couple Notes: \n",
    "- Rel. freq. instead of absolute counts b/c of different numbers of reviews\n",
    "- Only look at the top 5-10 words with the greatest differences\n"
   ]
  },
  {
   "cell_type": "markdown",
   "metadata": {},
   "source": [
    "## Good = 4-5, Bad = 1-3"
   ]
  },
  {
   "cell_type": "code",
   "execution_count": 99,
   "metadata": {},
   "outputs": [],
   "source": [
    "# set good rating\n",
    "good = df[df['numeric_ratings'] >= 4]\n",
    "\n",
    "# set okay rating\n",
    "okay = df[df['numeric_ratings'] == 3]\n",
    "\n",
    "# set bad rating\n",
    "bad = df[df['numeric_ratings'] <3]"
   ]
  },
  {
   "cell_type": "code",
   "execution_count": 100,
   "metadata": {},
   "outputs": [
    {
     "name": "stdout",
     "output_type": "stream",
     "text": [
      "(6140, 7) (738, 7) (738, 7)\n"
     ]
    }
   ],
   "source": [
    "# check shapes\n",
    "print(good.shape, okay.shape, bad.shape)"
   ]
  },
  {
   "cell_type": "code",
   "execution_count": 101,
   "metadata": {},
   "outputs": [
    {
     "data": {
      "text/plain": [
       "True"
      ]
     },
     "execution_count": 101,
     "metadata": {},
     "output_type": "execute_result"
    }
   ],
   "source": [
    "738 + 738 == 1476"
   ]
  },
  {
   "cell_type": "code",
   "execution_count": 88,
   "metadata": {},
   "outputs": [
    {
     "data": {
      "text/plain": [
       "True"
      ]
     },
     "execution_count": 88,
     "metadata": {},
     "output_type": "execute_result"
    }
   ],
   "source": [
    "# making sure nothing was lost\n",
    "6140 + 1476 == 7616"
   ]
  },
  {
   "cell_type": "code",
   "execution_count": 102,
   "metadata": {},
   "outputs": [
    {
     "data": {
      "text/html": [
       "<div>\n",
       "<style scoped>\n",
       "    .dataframe tbody tr th:only-of-type {\n",
       "        vertical-align: middle;\n",
       "    }\n",
       "\n",
       "    .dataframe tbody tr th {\n",
       "        vertical-align: top;\n",
       "    }\n",
       "\n",
       "    .dataframe thead th {\n",
       "        text-align: right;\n",
       "    }\n",
       "</style>\n",
       "<table border=\"1\" class=\"dataframe\">\n",
       "  <thead>\n",
       "    <tr style=\"text-align: right;\">\n",
       "      <th></th>\n",
       "      <th>coffee_shop_name</th>\n",
       "      <th>full_review_text</th>\n",
       "      <th>star_rating</th>\n",
       "      <th>doc</th>\n",
       "      <th>n_tokens</th>\n",
       "      <th>ratings_tokenized</th>\n",
       "      <th>numeric_ratings</th>\n",
       "    </tr>\n",
       "  </thead>\n",
       "  <tbody>\n",
       "    <tr>\n",
       "      <th>0</th>\n",
       "      <td>The Factory - Cafe With a Soul</td>\n",
       "      <td>checkin love love loved atmosphere every corne...</td>\n",
       "      <td>5.0</td>\n",
       "      <td>(checkin, love, love, loved, atmosphere, every...</td>\n",
       "      <td>49</td>\n",
       "      <td>(5.0)</td>\n",
       "      <td>5.0</td>\n",
       "    </tr>\n",
       "    <tr>\n",
       "      <th>1</th>\n",
       "      <td>The Factory - Cafe With a Soul</td>\n",
       "      <td>listed date night austin ambiance austin beaut...</td>\n",
       "      <td>4.0</td>\n",
       "      <td>(listed, date, night, austin, ambiance, austin...</td>\n",
       "      <td>26</td>\n",
       "      <td>(4.0)</td>\n",
       "      <td>4.0</td>\n",
       "    </tr>\n",
       "    <tr>\n",
       "      <th>2</th>\n",
       "      <td>The Factory - Cafe With a Soul</td>\n",
       "      <td>checkin listed brunch spots loved eclectic hom...</td>\n",
       "      <td>4.0</td>\n",
       "      <td>(checkin, listed, brunch, spots, loved, eclect...</td>\n",
       "      <td>118</td>\n",
       "      <td>(4.0)</td>\n",
       "      <td>4.0</td>\n",
       "    </tr>\n",
       "    <tr>\n",
       "      <th>4</th>\n",
       "      <td>The Factory - Cafe With a Soul</td>\n",
       "      <td>checkin located within northcross mall shoppin...</td>\n",
       "      <td>4.0</td>\n",
       "      <td>(checkin, located, within, northcross, mall, s...</td>\n",
       "      <td>68</td>\n",
       "      <td>(4.0)</td>\n",
       "      <td>4.0</td>\n",
       "    </tr>\n",
       "    <tr>\n",
       "      <th>5</th>\n",
       "      <td>The Factory - Cafe With a Soul</td>\n",
       "      <td>checkin cute cafe think moment stepped really ...</td>\n",
       "      <td>4.0</td>\n",
       "      <td>(checkin, cute, cafe, think, moment, stepped, ...</td>\n",
       "      <td>99</td>\n",
       "      <td>(4.0)</td>\n",
       "      <td>4.0</td>\n",
       "    </tr>\n",
       "  </tbody>\n",
       "</table>\n",
       "</div>"
      ],
      "text/plain": [
       "                  coffee_shop_name  \\\n",
       "0  The Factory - Cafe With a Soul    \n",
       "1  The Factory - Cafe With a Soul    \n",
       "2  The Factory - Cafe With a Soul    \n",
       "4  The Factory - Cafe With a Soul    \n",
       "5  The Factory - Cafe With a Soul    \n",
       "\n",
       "                                    full_review_text star_rating  \\\n",
       "0  checkin love love loved atmosphere every corne...         5.0   \n",
       "1  listed date night austin ambiance austin beaut...         4.0   \n",
       "2  checkin listed brunch spots loved eclectic hom...         4.0   \n",
       "4  checkin located within northcross mall shoppin...         4.0   \n",
       "5  checkin cute cafe think moment stepped really ...         4.0   \n",
       "\n",
       "                                                 doc  n_tokens  \\\n",
       "0  (checkin, love, love, loved, atmosphere, every...        49   \n",
       "1  (listed, date, night, austin, ambiance, austin...        26   \n",
       "2  (checkin, listed, brunch, spots, loved, eclect...       118   \n",
       "4  (checkin, located, within, northcross, mall, s...        68   \n",
       "5  (checkin, cute, cafe, think, moment, stepped, ...        99   \n",
       "\n",
       "  ratings_tokenized  numeric_ratings  \n",
       "0             (5.0)              5.0  \n",
       "1             (4.0)              4.0  \n",
       "2             (4.0)              4.0  \n",
       "4             (4.0)              4.0  \n",
       "5             (4.0)              4.0  "
      ]
     },
     "execution_count": 102,
     "metadata": {},
     "output_type": "execute_result"
    }
   ],
   "source": [
    "# checking good\n",
    "good.head(5)"
   ]
  },
  {
   "cell_type": "code",
   "execution_count": 105,
   "metadata": {},
   "outputs": [
    {
     "data": {
      "text/html": [
       "<div>\n",
       "<style scoped>\n",
       "    .dataframe tbody tr th:only-of-type {\n",
       "        vertical-align: middle;\n",
       "    }\n",
       "\n",
       "    .dataframe tbody tr th {\n",
       "        vertical-align: top;\n",
       "    }\n",
       "\n",
       "    .dataframe thead th {\n",
       "        text-align: right;\n",
       "    }\n",
       "</style>\n",
       "<table border=\"1\" class=\"dataframe\">\n",
       "  <thead>\n",
       "    <tr style=\"text-align: right;\">\n",
       "      <th></th>\n",
       "      <th>coffee_shop_name</th>\n",
       "      <th>full_review_text</th>\n",
       "      <th>star_rating</th>\n",
       "      <th>doc</th>\n",
       "      <th>n_tokens</th>\n",
       "      <th>ratings_tokenized</th>\n",
       "      <th>numeric_ratings</th>\n",
       "    </tr>\n",
       "  </thead>\n",
       "  <tbody>\n",
       "    <tr>\n",
       "      <th>8</th>\n",
       "      <td>The Factory - Cafe With a Soul</td>\n",
       "      <td>checkin ok lets try approach pros music seatin...</td>\n",
       "      <td>3.0</td>\n",
       "      <td>(checkin, ok, lets, try, approach, pros, music...</td>\n",
       "      <td>184</td>\n",
       "      <td>(3.0)</td>\n",
       "      <td>3.0</td>\n",
       "    </tr>\n",
       "    <tr>\n",
       "      <th>11</th>\n",
       "      <td>The Factory - Cafe With a Soul</td>\n",
       "      <td>store decoration honestly coffee made good cof...</td>\n",
       "      <td>3.0</td>\n",
       "      <td>(store, decoration, honestly, coffee, made, go...</td>\n",
       "      <td>49</td>\n",
       "      <td>(3.0)</td>\n",
       "      <td>3.0</td>\n",
       "    </tr>\n",
       "    <tr>\n",
       "      <th>12</th>\n",
       "      <td>The Factory - Cafe With a Soul</td>\n",
       "      <td>checkin listed third time charm factory decor ...</td>\n",
       "      <td>3.0</td>\n",
       "      <td>(checkin, listed, third, time, charm, factory,...</td>\n",
       "      <td>73</td>\n",
       "      <td>(3.0)</td>\n",
       "      <td>3.0</td>\n",
       "    </tr>\n",
       "    <tr>\n",
       "      <th>33</th>\n",
       "      <td>The Factory - Cafe With a Soul</td>\n",
       "      <td>checkin best friend came factory seeing couple...</td>\n",
       "      <td>3.0</td>\n",
       "      <td>(checkin, best, friend, came, factory, seeing,...</td>\n",
       "      <td>80</td>\n",
       "      <td>(3.0)</td>\n",
       "      <td>3.0</td>\n",
       "    </tr>\n",
       "    <tr>\n",
       "      <th>48</th>\n",
       "      <td>The Factory - Cafe With a Soul</td>\n",
       "      <td>checkin love deco lot really good place chill ...</td>\n",
       "      <td>3.0</td>\n",
       "      <td>(checkin, love, deco, lot, really, good, place...</td>\n",
       "      <td>35</td>\n",
       "      <td>(3.0)</td>\n",
       "      <td>3.0</td>\n",
       "    </tr>\n",
       "  </tbody>\n",
       "</table>\n",
       "</div>"
      ],
      "text/plain": [
       "                   coffee_shop_name  \\\n",
       "8   The Factory - Cafe With a Soul    \n",
       "11  The Factory - Cafe With a Soul    \n",
       "12  The Factory - Cafe With a Soul    \n",
       "33  The Factory - Cafe With a Soul    \n",
       "48  The Factory - Cafe With a Soul    \n",
       "\n",
       "                                     full_review_text star_rating  \\\n",
       "8   checkin ok lets try approach pros music seatin...         3.0   \n",
       "11  store decoration honestly coffee made good cof...         3.0   \n",
       "12  checkin listed third time charm factory decor ...         3.0   \n",
       "33  checkin best friend came factory seeing couple...         3.0   \n",
       "48  checkin love deco lot really good place chill ...         3.0   \n",
       "\n",
       "                                                  doc  n_tokens  \\\n",
       "8   (checkin, ok, lets, try, approach, pros, music...       184   \n",
       "11  (store, decoration, honestly, coffee, made, go...        49   \n",
       "12  (checkin, listed, third, time, charm, factory,...        73   \n",
       "33  (checkin, best, friend, came, factory, seeing,...        80   \n",
       "48  (checkin, love, deco, lot, really, good, place...        35   \n",
       "\n",
       "   ratings_tokenized  numeric_ratings  \n",
       "8              (3.0)              3.0  \n",
       "11             (3.0)              3.0  \n",
       "12             (3.0)              3.0  \n",
       "33             (3.0)              3.0  \n",
       "48             (3.0)              3.0  "
      ]
     },
     "execution_count": 105,
     "metadata": {},
     "output_type": "execute_result"
    }
   ],
   "source": [
    "okay.head(5)"
   ]
  },
  {
   "cell_type": "code",
   "execution_count": 103,
   "metadata": {},
   "outputs": [
    {
     "data": {
      "text/html": [
       "<div>\n",
       "<style scoped>\n",
       "    .dataframe tbody tr th:only-of-type {\n",
       "        vertical-align: middle;\n",
       "    }\n",
       "\n",
       "    .dataframe tbody tr th {\n",
       "        vertical-align: top;\n",
       "    }\n",
       "\n",
       "    .dataframe thead th {\n",
       "        text-align: right;\n",
       "    }\n",
       "</style>\n",
       "<table border=\"1\" class=\"dataframe\">\n",
       "  <thead>\n",
       "    <tr style=\"text-align: right;\">\n",
       "      <th></th>\n",
       "      <th>coffee_shop_name</th>\n",
       "      <th>full_review_text</th>\n",
       "      <th>star_rating</th>\n",
       "      <th>doc</th>\n",
       "      <th>n_tokens</th>\n",
       "      <th>ratings_tokenized</th>\n",
       "      <th>numeric_ratings</th>\n",
       "    </tr>\n",
       "  </thead>\n",
       "  <tbody>\n",
       "    <tr>\n",
       "      <th>3</th>\n",
       "      <td>The Factory - Cafe With a Soul</td>\n",
       "      <td>cool decor good drinks nice seating however ev...</td>\n",
       "      <td>2.0</td>\n",
       "      <td>(cool, decor, good, drinks, nice, seating, how...</td>\n",
       "      <td>39</td>\n",
       "      <td>(2.0)</td>\n",
       "      <td>2.0</td>\n",
       "    </tr>\n",
       "    <tr>\n",
       "      <th>25</th>\n",
       "      <td>The Factory - Cafe With a Soul</td>\n",
       "      <td>okay visiting friends la trying mint mojito ic...</td>\n",
       "      <td>1.0</td>\n",
       "      <td>(okay, visiting, friends, la, trying, mint, mo...</td>\n",
       "      <td>91</td>\n",
       "      <td>(1.0)</td>\n",
       "      <td>1.0</td>\n",
       "    </tr>\n",
       "    <tr>\n",
       "      <th>39</th>\n",
       "      <td>The Factory - Cafe With a Soul</td>\n",
       "      <td>cafe doesnt wifi makes order ipad seriously ex...</td>\n",
       "      <td>1.0</td>\n",
       "      <td>(cafe, does, nt, wifi, makes, order, ipad, ser...</td>\n",
       "      <td>58</td>\n",
       "      <td>(1.0)</td>\n",
       "      <td>1.0</td>\n",
       "    </tr>\n",
       "    <tr>\n",
       "      <th>40</th>\n",
       "      <td>The Factory - Cafe With a Soul</td>\n",
       "      <td>honestly place identity crisis great place dat...</td>\n",
       "      <td>2.0</td>\n",
       "      <td>(honestly, place, identity, crisis, great, pla...</td>\n",
       "      <td>94</td>\n",
       "      <td>(2.0)</td>\n",
       "      <td>2.0</td>\n",
       "    </tr>\n",
       "    <tr>\n",
       "      <th>58</th>\n",
       "      <td>The Factory - Cafe With a Soul</td>\n",
       "      <td>tough one took children treat one afternoon fi...</td>\n",
       "      <td>2.0</td>\n",
       "      <td>(tough, one, took, children, treat, one, after...</td>\n",
       "      <td>121</td>\n",
       "      <td>(2.0)</td>\n",
       "      <td>2.0</td>\n",
       "    </tr>\n",
       "  </tbody>\n",
       "</table>\n",
       "</div>"
      ],
      "text/plain": [
       "                   coffee_shop_name  \\\n",
       "3   The Factory - Cafe With a Soul    \n",
       "25  The Factory - Cafe With a Soul    \n",
       "39  The Factory - Cafe With a Soul    \n",
       "40  The Factory - Cafe With a Soul    \n",
       "58  The Factory - Cafe With a Soul    \n",
       "\n",
       "                                     full_review_text star_rating  \\\n",
       "3   cool decor good drinks nice seating however ev...         2.0   \n",
       "25  okay visiting friends la trying mint mojito ic...         1.0   \n",
       "39  cafe doesnt wifi makes order ipad seriously ex...         1.0   \n",
       "40  honestly place identity crisis great place dat...         2.0   \n",
       "58  tough one took children treat one afternoon fi...         2.0   \n",
       "\n",
       "                                                  doc  n_tokens  \\\n",
       "3   (cool, decor, good, drinks, nice, seating, how...        39   \n",
       "25  (okay, visiting, friends, la, trying, mint, mo...        91   \n",
       "39  (cafe, does, nt, wifi, makes, order, ipad, ser...        58   \n",
       "40  (honestly, place, identity, crisis, great, pla...        94   \n",
       "58  (tough, one, took, children, treat, one, after...       121   \n",
       "\n",
       "   ratings_tokenized  numeric_ratings  \n",
       "3              (2.0)              2.0  \n",
       "25             (1.0)              1.0  \n",
       "39             (1.0)              1.0  \n",
       "40             (2.0)              2.0  \n",
       "58             (2.0)              2.0  "
      ]
     },
     "execution_count": 103,
     "metadata": {},
     "output_type": "execute_result"
    }
   ],
   "source": [
    "# checking bad\n",
    "bad.head(5)"
   ]
  },
  {
   "cell_type": "markdown",
   "metadata": {},
   "source": [
    "## Viualize words used between 'good' and 'bad'"
   ]
  },
  {
   "cell_type": "code",
   "execution_count": 106,
   "metadata": {},
   "outputs": [],
   "source": [
    "# good words go first\n",
    "good_token = ''\n",
    "for i in good['doc']:\n",
    "    good_token += str(i)"
   ]
  },
  {
   "cell_type": "code",
   "execution_count": 107,
   "metadata": {},
   "outputs": [
    {
     "data": {
      "text/plain": [
       "[('coffee', 8013),\n",
       " ('place', 4036),\n",
       " ('great', 3195),\n",
       " ('good', 2962),\n",
       " ('like', 2166),\n",
       " ('austin', 1863),\n",
       " ('get', 1832),\n",
       " ('really', 1742),\n",
       " ('also', 1697),\n",
       " ('one', 1652)]"
      ]
     },
     "execution_count": 107,
     "metadata": {},
     "output_type": "execute_result"
    }
   ],
   "source": [
    "# check top10 most common words used in good ratings\n",
    "from collections import Counter\n",
    "split_good = good_token.split()\n",
    "Counter = Counter(split_good)\n",
    "top10_good = Counter.most_common(10)\n",
    "top10_good"
   ]
  },
  {
   "cell_type": "code",
   "execution_count": 109,
   "metadata": {},
   "outputs": [
    {
     "data": {
      "text/plain": [
       "[('coffee', 1108),\n",
       " ('place', 525),\n",
       " ('good', 497),\n",
       " ('like', 410),\n",
       " ('really', 287),\n",
       " ('get', 261),\n",
       " ('great', 247),\n",
       " ('would', 235),\n",
       " ('food', 233),\n",
       " ('pretty', 229)]"
      ]
     },
     "execution_count": 109,
     "metadata": {},
     "output_type": "execute_result"
    }
   ],
   "source": [
    "# okay words go whenever\n",
    "okay_token = ''\n",
    "for i in okay['doc']:\n",
    "    okay_token += str(i)\n",
    "    \n",
    "from collections import Counter \n",
    "split_okay = okay_token.split()\n",
    "Counter = Counter(split_okay)\n",
    "top10_okay = Counter.most_common(10)\n",
    "top10_okay"
   ]
  },
  {
   "cell_type": "code",
   "execution_count": 110,
   "metadata": {},
   "outputs": [
    {
     "data": {
      "text/plain": [
       "[('coffee', 930),\n",
       " ('place', 516),\n",
       " ('like', 452),\n",
       " ('good', 338),\n",
       " ('one', 336),\n",
       " ('get', 298),\n",
       " ('service', 260),\n",
       " ('time', 249),\n",
       " ('would', 240),\n",
       " ('food', 229)]"
      ]
     },
     "execution_count": 110,
     "metadata": {},
     "output_type": "execute_result"
    }
   ],
   "source": [
    "# bad words go last \n",
    "bad_token = ''\n",
    "for i in bad['doc']:\n",
    "    bad_token += str(i)\n",
    "    \n",
    "# check top10 most common words used in bad ratings\n",
    "from collections import Counter\n",
    "split_bad = bad_token.split()\n",
    "Counter = Counter(split_bad)\n",
    "top10_bad = Counter.most_common(10)\n",
    "top10_bad"
   ]
  },
  {
   "cell_type": "markdown",
   "metadata": {},
   "source": [
    "## Trying something different"
   ]
  },
  {
   "cell_type": "code",
   "execution_count": 119,
   "metadata": {},
   "outputs": [],
   "source": [
    "# Tokenizer\n",
    "from spacy.tokenizer import Tokenizer\n",
    "tokenizer = Tokenizer(nlp.vocab)"
   ]
  },
  {
   "cell_type": "code",
   "execution_count": 134,
   "metadata": {},
   "outputs": [
    {
     "name": "stdout",
     "output_type": "stream",
     "text": [
      "The   the\n",
      "barbarians   barbarian\n",
      "are   be\n",
      "at   at\n",
      "our   -PRON-\n",
      "gate   gate\n",
      ".   .\n",
      "Rome   Rome\n",
      "will   will\n",
      "fall   fall\n",
      "as   as\n",
      "it   -PRON-\n",
      "stands   stand\n",
      ",   ,\n",
      "she   -PRON-\n",
      "can   can\n",
      "not   not\n",
      "take   take\n",
      "no   no\n",
      "more   more\n",
      "for   for\n",
      "us   -PRON-\n",
      ".   .\n",
      "We   -PRON-\n",
      "must   must\n",
      "act   act\n"
     ]
    }
   ],
   "source": [
    "# hmm, I tried passing in df['doc'] but i recieved an error saying: it was expecting a string not a series\n",
    "# hmhmhmhmhmhm\n",
    "words = 'The barbarians are at our gate. Rome will fall as it stands, she cannot take no more for us. We must act'\n",
    "dos = nlp(words)\n",
    "\n",
    "# lemma\n",
    "for d in dos:\n",
    "    print(d.text, \" \", d.lemma_)"
   ]
  },
  {
   "cell_type": "code",
   "execution_count": 2,
   "metadata": {},
   "outputs": [],
   "source": [
    "# a function to retrieve the lemmas\n",
    "import spacy\n",
    "from spacy.tokenizer import Tokenizer\n",
    "\n",
    "def get_lemmas(text):\n",
    "\n",
    "\n",
    "    tokenizer = Tokenizer(nlp.vocab)\n",
    "\n",
    "    STOP_WORDS = nlp.Defaults.stop_words.union(['  ', 'coffee', '-', 'like', 'get', 'would', '-pron-',\n",
    "                                                '', \"'\", ' ', '-PRON-'])\n",
    "\n",
    "    lemmas = []\n",
    "\n",
    "    doc = nlp(text)\n",
    "\n",
    "\n",
    "    for token in doc:\n",
    "        lemmas.append(token.lemma_)\n",
    "\n",
    "    lemma_summary = []\n",
    "\n",
    "\n",
    "    working_set = \"\"\n",
    "    for lemma in lemmas:\n",
    "        working_set += lemma + ' '\n",
    "    lemma_summary.append(working_set)\n",
    "\n",
    "\n",
    "    description = [lemma_summary[0]]\n",
    "\n",
    "    tokens = []\n",
    "\n",
    "    for doc in tokenizer.pipe(description, batch_size=500):\n",
    "\n",
    "        doc_tokens = []\n",
    "\n",
    "        for token in doc:\n",
    "            if ((token.is_stop == False) and (token.is_punct == False)) and (token.pos_!= 'PRON'):\n",
    "                if token.text.lower() not in STOP_WORDS:\n",
    "                    doc_tokens.append(token.text.lower())\n",
    "\n",
    "        tokens.append(doc_tokens)\n",
    "\n",
    "    token_summary = []\n",
    "\n",
    "    for set_of_tokens in tokens:\n",
    "        working_set = \"\"\n",
    "        for variable in set_of_tokens:\n",
    "            working_set += variable + ' '\n",
    "        token_summary.append(working_set)\n",
    "\n",
    "    return token_summary[0]\n"
   ]
  },
  {
   "cell_type": "code",
   "execution_count": 145,
   "metadata": {},
   "outputs": [
    {
     "data": {
      "text/plain": [
       "'barbarian gate rome fall stand act '"
      ]
     },
     "execution_count": 145,
     "metadata": {},
     "output_type": "execute_result"
    }
   ],
   "source": [
    "# still can only pass strings.\n",
    "get_lemmas('The barbarians are at our gate. Rome will fall as it stands, she cannot take no more for us. We must act')"
   ]
  },
  {
   "cell_type": "code",
   "execution_count": 147,
   "metadata": {},
   "outputs": [],
   "source": [
    "# column with df.doc as a str type\n",
    "df['doc_str'] = df['doc'].astype(str)"
   ]
  },
  {
   "cell_type": "code",
   "execution_count": 151,
   "metadata": {},
   "outputs": [],
   "source": [
    "# copy of the of df\n",
    "df1 = pd.DataFrame(df)"
   ]
  },
  {
   "cell_type": "code",
   "execution_count": 156,
   "metadata": {},
   "outputs": [
    {
     "data": {
      "text/html": [
       "<div>\n",
       "<style scoped>\n",
       "    .dataframe tbody tr th:only-of-type {\n",
       "        vertical-align: middle;\n",
       "    }\n",
       "\n",
       "    .dataframe tbody tr th {\n",
       "        vertical-align: top;\n",
       "    }\n",
       "\n",
       "    .dataframe thead th {\n",
       "        text-align: right;\n",
       "    }\n",
       "</style>\n",
       "<table border=\"1\" class=\"dataframe\">\n",
       "  <thead>\n",
       "    <tr style=\"text-align: right;\">\n",
       "      <th></th>\n",
       "      <th>coffee_shop_name</th>\n",
       "      <th>full_review_text</th>\n",
       "      <th>star_rating</th>\n",
       "      <th>doc</th>\n",
       "      <th>n_tokens</th>\n",
       "      <th>ratings_tokenized</th>\n",
       "      <th>numeric_ratings</th>\n",
       "      <th>doc_str</th>\n",
       "    </tr>\n",
       "  </thead>\n",
       "  <tbody>\n",
       "    <tr>\n",
       "      <th>0</th>\n",
       "      <td>The Factory - Cafe With a Soul</td>\n",
       "      <td>checkin love love loved atmosphere every corne...</td>\n",
       "      <td>5.0</td>\n",
       "      <td>(checkin, love, love, loved, atmosphere, every...</td>\n",
       "      <td>49</td>\n",
       "      <td>(5.0)</td>\n",
       "      <td>5.0</td>\n",
       "      <td>checkin love love loved atmosphere every corne...</td>\n",
       "    </tr>\n",
       "    <tr>\n",
       "      <th>1</th>\n",
       "      <td>The Factory - Cafe With a Soul</td>\n",
       "      <td>listed date night austin ambiance austin beaut...</td>\n",
       "      <td>4.0</td>\n",
       "      <td>(listed, date, night, austin, ambiance, austin...</td>\n",
       "      <td>26</td>\n",
       "      <td>(4.0)</td>\n",
       "      <td>4.0</td>\n",
       "      <td>listed date night austin ambiance austin beaut...</td>\n",
       "    </tr>\n",
       "    <tr>\n",
       "      <th>2</th>\n",
       "      <td>The Factory - Cafe With a Soul</td>\n",
       "      <td>checkin listed brunch spots loved eclectic hom...</td>\n",
       "      <td>4.0</td>\n",
       "      <td>(checkin, listed, brunch, spots, loved, eclect...</td>\n",
       "      <td>118</td>\n",
       "      <td>(4.0)</td>\n",
       "      <td>4.0</td>\n",
       "      <td>checkin listed brunch spots loved eclectic hom...</td>\n",
       "    </tr>\n",
       "    <tr>\n",
       "      <th>3</th>\n",
       "      <td>The Factory - Cafe With a Soul</td>\n",
       "      <td>cool decor good drinks nice seating however ev...</td>\n",
       "      <td>2.0</td>\n",
       "      <td>(cool, decor, good, drinks, nice, seating, how...</td>\n",
       "      <td>39</td>\n",
       "      <td>(2.0)</td>\n",
       "      <td>2.0</td>\n",
       "      <td>cool decor good drinks nice seating however ev...</td>\n",
       "    </tr>\n",
       "    <tr>\n",
       "      <th>4</th>\n",
       "      <td>The Factory - Cafe With a Soul</td>\n",
       "      <td>checkin located within northcross mall shoppin...</td>\n",
       "      <td>4.0</td>\n",
       "      <td>(checkin, located, within, northcross, mall, s...</td>\n",
       "      <td>68</td>\n",
       "      <td>(4.0)</td>\n",
       "      <td>4.0</td>\n",
       "      <td>checkin located within northcross mall shoppin...</td>\n",
       "    </tr>\n",
       "  </tbody>\n",
       "</table>\n",
       "</div>"
      ],
      "text/plain": [
       "                  coffee_shop_name  \\\n",
       "0  The Factory - Cafe With a Soul    \n",
       "1  The Factory - Cafe With a Soul    \n",
       "2  The Factory - Cafe With a Soul    \n",
       "3  The Factory - Cafe With a Soul    \n",
       "4  The Factory - Cafe With a Soul    \n",
       "\n",
       "                                    full_review_text star_rating  \\\n",
       "0  checkin love love loved atmosphere every corne...         5.0   \n",
       "1  listed date night austin ambiance austin beaut...         4.0   \n",
       "2  checkin listed brunch spots loved eclectic hom...         4.0   \n",
       "3  cool decor good drinks nice seating however ev...         2.0   \n",
       "4  checkin located within northcross mall shoppin...         4.0   \n",
       "\n",
       "                                                 doc  n_tokens  \\\n",
       "0  (checkin, love, love, loved, atmosphere, every...        49   \n",
       "1  (listed, date, night, austin, ambiance, austin...        26   \n",
       "2  (checkin, listed, brunch, spots, loved, eclect...       118   \n",
       "3  (cool, decor, good, drinks, nice, seating, how...        39   \n",
       "4  (checkin, located, within, northcross, mall, s...        68   \n",
       "\n",
       "  ratings_tokenized  numeric_ratings  \\\n",
       "0             (5.0)              5.0   \n",
       "1             (4.0)              4.0   \n",
       "2             (4.0)              4.0   \n",
       "3             (2.0)              2.0   \n",
       "4             (4.0)              4.0   \n",
       "\n",
       "                                             doc_str  \n",
       "0  checkin love love loved atmosphere every corne...  \n",
       "1  listed date night austin ambiance austin beaut...  \n",
       "2  checkin listed brunch spots loved eclectic hom...  \n",
       "3  cool decor good drinks nice seating however ev...  \n",
       "4  checkin located within northcross mall shoppin...  "
      ]
     },
     "execution_count": 156,
     "metadata": {},
     "output_type": "execute_result"
    }
   ],
   "source": [
    "# check\n",
    "df1.head()"
   ]
  },
  {
   "cell_type": "code",
   "execution_count": 155,
   "metadata": {},
   "outputs": [
    {
     "data": {
      "text/plain": [
       "'checkin love love love atmosphere corner shop style swing order matcha latte muy fantastico order drink pretty streamlined order ipad include beverage selection range wine desire level sweetness checkout system latte minute hope typical heart feather latte find list possibility art idea '"
      ]
     },
     "execution_count": 155,
     "metadata": {},
     "output_type": "execute_result"
    }
   ],
   "source": [
    "# this is something\n",
    "get_lemmas(df1.doc_str.iloc[0])"
   ]
  },
  {
   "cell_type": "code",
   "execution_count": null,
   "metadata": {},
   "outputs": [],
   "source": [
    "# a for loop that applies the get_lemmas function to all the rows in df1.doc_str\n",
    "llist = []\n",
    "for i in df1.doc_str:\n",
    "    get_lemmas = llist\n",
    "    llist.append(df1.doc_str)\n",
    "    print(llist[0])"
   ]
  },
  {
   "cell_type": "markdown",
   "metadata": {},
   "source": [
    "## Using the code/methods from lecture."
   ]
  },
  {
   "cell_type": "code",
   "execution_count": 6,
   "metadata": {},
   "outputs": [],
   "source": [
    "# convert ratings to an integer\n",
    "df2['star_rating'] = df2['star_rating'].str.replace('[.].*', '').astype(int)\n",
    "\n",
    "# remove whitespace\n",
    "df2['coffee_shop_name'] = df2['coffee_shop_name'].str.strip()\n",
    "df2['full_review_text'] = df2['full_review_text'].str.strip()\n",
    "\n",
    "# remove dates\n",
    "df2['full_review_text'] = df2['full_review_text'].map(lambda x: re.sub(\"[^a-z\\s]\", \"\", x)).str.lower()\n",
    "\n",
    "# keep only letters or whitespace \n",
    "df2['full_review_text'] = df2['full_review_text'].str.replace('[^a-zA-Z\\s]', '').str.replace('\\s+', ' ')"
   ]
  },
  {
   "cell_type": "code",
   "execution_count": 20,
   "metadata": {},
   "outputs": [],
   "source": [
    "import spacy \n",
    "nlp = spacy.load('en_core_web_lg')\n",
    "\n",
    "# stop words for removal of redundant words\n",
    "stop_words = ['like', 'get', 'and', 'so', 'coffee', 'food', 'austin', 'work', 'try', 'would',\n",
    "              'come', 'spot', 'friend', 'time', 'shop', 'restaurant', 'tea', 'go', 'people',\n",
    "              'check', 'in'] \n",
    "\n",
    "STOP_WORDS = nlp.Defaults.stop_words.union(stop_words)\n",
    "\n",
    "# add lemma\n",
    "num_pattern = re.compile('\\d')\n",
    "emp_pattern = re.compile('^\\s*$')\n",
    "\n",
    "lemmas = []\n",
    "\n",
    "for i in nlp.pipe(df2['full_review_text'], batch_size=500):\n",
    "    doc_lemma = []\n",
    "    for token in i:\n",
    "        if (not token.is_stop # no stop words\n",
    "            and not token.is_punct # no punctuation\n",
    "            and token.pos_ != 'PRON' # no pronouns\n",
    "            and not num_pattern.match(token.text) # no empty strings\n",
    "            and not emp_pattern.search(token.text) # no words containing numerals\n",
    "            and len(token.lemma_) >= 3 # no 1-2 letter words\n",
    "            and token.lemma_ not in STOP_WORDS):\n",
    "                doc_lemma.append(token.lemma_)\n",
    "    lemmas.append(doc_lemma)\n",
    "\n",
    "assert len(lemmas) == df2.shape[0]"
   ]
  },
  {
   "cell_type": "code",
   "execution_count": 21,
   "metadata": {},
   "outputs": [
    {
     "data": {
      "text/html": [
       "<div>\n",
       "<style scoped>\n",
       "    .dataframe tbody tr th:only-of-type {\n",
       "        vertical-align: middle;\n",
       "    }\n",
       "\n",
       "    .dataframe tbody tr th {\n",
       "        vertical-align: top;\n",
       "    }\n",
       "\n",
       "    .dataframe thead th {\n",
       "        text-align: right;\n",
       "    }\n",
       "</style>\n",
       "<table border=\"1\" class=\"dataframe\">\n",
       "  <thead>\n",
       "    <tr style=\"text-align: right;\">\n",
       "      <th></th>\n",
       "      <th>coffee_shop_name</th>\n",
       "      <th>full_review_text</th>\n",
       "      <th>star_rating</th>\n",
       "      <th>lemmas</th>\n",
       "    </tr>\n",
       "  </thead>\n",
       "  <tbody>\n",
       "    <tr>\n",
       "      <th>0</th>\n",
       "      <td>The Factory - Cafe With a Soul</td>\n",
       "      <td>checkin ove love loved the atmosphere very co...</td>\n",
       "      <td>5</td>\n",
       "      <td>[checkin, ove, love, love, atmosphere, corner,...</td>\n",
       "    </tr>\n",
       "    <tr>\n",
       "      <th>1</th>\n",
       "      <td>The Factory - Cafe With a Soul</td>\n",
       "      <td>isted in ate ight ustin mbiance in ustin ove ...</td>\n",
       "      <td>4</td>\n",
       "      <td>[iste, eat, ight, ustin, mbiance, ustin, ove, ...</td>\n",
       "    </tr>\n",
       "    <tr>\n",
       "      <th>2</th>\n",
       "      <td>The Factory - Cafe With a Soul</td>\n",
       "      <td>checkin isted in runch pots loved the eclecti...</td>\n",
       "      <td>4</td>\n",
       "      <td>[checkin, iste, runch, pot, love, eclectic, ho...</td>\n",
       "    </tr>\n",
       "    <tr>\n",
       "      <th>3</th>\n",
       "      <td>The Factory - Cafe With a Soul</td>\n",
       "      <td>ery cool decor ood drinks ice seating owever ...</td>\n",
       "      <td>2</td>\n",
       "      <td>[ery, cool, decor, ood, drink, ice, seating, o...</td>\n",
       "    </tr>\n",
       "    <tr>\n",
       "      <th>4</th>\n",
       "      <td>The Factory - Cafe With a Soul</td>\n",
       "      <td>checkin hey are located within the orthcross ...</td>\n",
       "      <td>4</td>\n",
       "      <td>[checkin, hey, locate, orthcross, mall, shoppi...</td>\n",
       "    </tr>\n",
       "  </tbody>\n",
       "</table>\n",
       "</div>"
      ],
      "text/plain": [
       "                 coffee_shop_name  \\\n",
       "0  The Factory - Cafe With a Soul   \n",
       "1  The Factory - Cafe With a Soul   \n",
       "2  The Factory - Cafe With a Soul   \n",
       "3  The Factory - Cafe With a Soul   \n",
       "4  The Factory - Cafe With a Soul   \n",
       "\n",
       "                                    full_review_text  star_rating  \\\n",
       "0   checkin ove love loved the atmosphere very co...            5   \n",
       "1   isted in ate ight ustin mbiance in ustin ove ...            4   \n",
       "2   checkin isted in runch pots loved the eclecti...            4   \n",
       "3   ery cool decor ood drinks ice seating owever ...            2   \n",
       "4   checkin hey are located within the orthcross ...            4   \n",
       "\n",
       "                                              lemmas  \n",
       "0  [checkin, ove, love, love, atmosphere, corner,...  \n",
       "1  [iste, eat, ight, ustin, mbiance, ustin, ove, ...  \n",
       "2  [checkin, iste, runch, pot, love, eclectic, ho...  \n",
       "3  [ery, cool, decor, ood, drink, ice, seating, o...  \n",
       "4  [checkin, hey, locate, orthcross, mall, shoppi...  "
      ]
     },
     "execution_count": 21,
     "metadata": {},
     "output_type": "execute_result"
    }
   ],
   "source": [
    "# create columns with lemmas\n",
    "df2['lemmas'] = lemmas\n",
    "df2.head()"
   ]
  },
  {
   "cell_type": "code",
   "execution_count": 22,
   "metadata": {},
   "outputs": [],
   "source": [
    "# from lecture notebook\n",
    "from collections import Counter\n",
    "\n",
    "def count(docs):\n",
    "\n",
    "    word_counts = Counter()\n",
    "    appears_in = Counter()\n",
    "\n",
    "    total_docs = len(docs)\n",
    "\n",
    "    for doc in docs:\n",
    "        word_counts.update(doc)\n",
    "        appears_in.update(set(doc))\n",
    "\n",
    "    temp = zip(word_counts.keys(), word_counts.values())\n",
    "\n",
    "    wc = pd.DataFrame(temp, columns = ['word', 'count'])\n",
    "\n",
    "    wc['rank'] = wc['count'].rank(method='first', ascending=False)\n",
    "    total = wc['count'].sum()\n",
    "\n",
    "    wc['pct_total'] = wc['count'].apply(lambda x: x / total)\n",
    "\n",
    "    wc = wc.sort_values(by='rank')\n",
    "    wc['cul_pct_total'] = wc['pct_total'].cumsum()\n",
    "\n",
    "    t2 = zip(appears_in.keys(), appears_in.values())\n",
    "    ac = pd.DataFrame(t2, columns=['word', 'appears_in'])\n",
    "    wc = ac.merge(wc, on='word')\n",
    "\n",
    "    wc['appears_in_pct'] = wc['appears_in'].apply(lambda x: x / total_docs)\n",
    "\n",
    "    return wc.sort_values(by='rank')"
   ]
  },
  {
   "cell_type": "code",
   "execution_count": 23,
   "metadata": {},
   "outputs": [
    {
     "data": {
      "text/html": [
       "<div>\n",
       "<style scoped>\n",
       "    .dataframe tbody tr th:only-of-type {\n",
       "        vertical-align: middle;\n",
       "    }\n",
       "\n",
       "    .dataframe tbody tr th {\n",
       "        vertical-align: top;\n",
       "    }\n",
       "\n",
       "    .dataframe thead th {\n",
       "        text-align: right;\n",
       "    }\n",
       "</style>\n",
       "<table border=\"1\" class=\"dataframe\">\n",
       "  <thead>\n",
       "    <tr style=\"text-align: right;\">\n",
       "      <th></th>\n",
       "      <th>word</th>\n",
       "      <th>appears_in</th>\n",
       "      <th>count</th>\n",
       "      <th>rank</th>\n",
       "      <th>pct_total</th>\n",
       "      <th>cul_pct_total</th>\n",
       "      <th>appears_in_pct</th>\n",
       "    </tr>\n",
       "  </thead>\n",
       "  <tbody>\n",
       "    <tr>\n",
       "      <th>59</th>\n",
       "      <td>place</td>\n",
       "      <td>3855</td>\n",
       "      <td>5975</td>\n",
       "      <td>1.0</td>\n",
       "      <td>0.019217</td>\n",
       "      <td>0.019217</td>\n",
       "      <td>0.506171</td>\n",
       "    </tr>\n",
       "    <tr>\n",
       "      <th>225</th>\n",
       "      <td>good</td>\n",
       "      <td>3240</td>\n",
       "      <td>4723</td>\n",
       "      <td>2.0</td>\n",
       "      <td>0.015190</td>\n",
       "      <td>0.034408</td>\n",
       "      <td>0.425420</td>\n",
       "    </tr>\n",
       "    <tr>\n",
       "      <th>33</th>\n",
       "      <td>checkin</td>\n",
       "      <td>2980</td>\n",
       "      <td>2994</td>\n",
       "      <td>3.0</td>\n",
       "      <td>0.009630</td>\n",
       "      <td>0.044037</td>\n",
       "      <td>0.391282</td>\n",
       "    </tr>\n",
       "    <tr>\n",
       "      <th>75</th>\n",
       "      <td>great</td>\n",
       "      <td>2283</td>\n",
       "      <td>2985</td>\n",
       "      <td>4.0</td>\n",
       "      <td>0.009601</td>\n",
       "      <td>0.053638</td>\n",
       "      <td>0.299764</td>\n",
       "    </tr>\n",
       "    <tr>\n",
       "      <th>11</th>\n",
       "      <td>drink</td>\n",
       "      <td>1581</td>\n",
       "      <td>2244</td>\n",
       "      <td>5.0</td>\n",
       "      <td>0.007217</td>\n",
       "      <td>0.060855</td>\n",
       "      <td>0.207589</td>\n",
       "    </tr>\n",
       "    <tr>\n",
       "      <th>38</th>\n",
       "      <td>ustin</td>\n",
       "      <td>1744</td>\n",
       "      <td>2200</td>\n",
       "      <td>6.0</td>\n",
       "      <td>0.007076</td>\n",
       "      <td>0.067931</td>\n",
       "      <td>0.228992</td>\n",
       "    </tr>\n",
       "    <tr>\n",
       "      <th>187</th>\n",
       "      <td>hey</td>\n",
       "      <td>1628</td>\n",
       "      <td>2152</td>\n",
       "      <td>7.0</td>\n",
       "      <td>0.006921</td>\n",
       "      <td>0.074852</td>\n",
       "      <td>0.213761</td>\n",
       "    </tr>\n",
       "    <tr>\n",
       "      <th>21</th>\n",
       "      <td>order</td>\n",
       "      <td>1386</td>\n",
       "      <td>2037</td>\n",
       "      <td>8.0</td>\n",
       "      <td>0.006552</td>\n",
       "      <td>0.081404</td>\n",
       "      <td>0.181985</td>\n",
       "    </tr>\n",
       "    <tr>\n",
       "      <th>32</th>\n",
       "      <td>love</td>\n",
       "      <td>1451</td>\n",
       "      <td>1832</td>\n",
       "      <td>9.0</td>\n",
       "      <td>0.005892</td>\n",
       "      <td>0.087296</td>\n",
       "      <td>0.190520</td>\n",
       "    </tr>\n",
       "    <tr>\n",
       "      <th>16</th>\n",
       "      <td>latte</td>\n",
       "      <td>1135</td>\n",
       "      <td>1613</td>\n",
       "      <td>10.0</td>\n",
       "      <td>0.005188</td>\n",
       "      <td>0.092484</td>\n",
       "      <td>0.149028</td>\n",
       "    </tr>\n",
       "    <tr>\n",
       "      <th>51</th>\n",
       "      <td>nice</td>\n",
       "      <td>1354</td>\n",
       "      <td>1587</td>\n",
       "      <td>11.0</td>\n",
       "      <td>0.005104</td>\n",
       "      <td>0.097588</td>\n",
       "      <td>0.177784</td>\n",
       "    </tr>\n",
       "    <tr>\n",
       "      <th>195</th>\n",
       "      <td>friendly</td>\n",
       "      <td>1470</td>\n",
       "      <td>1545</td>\n",
       "      <td>12.0</td>\n",
       "      <td>0.004969</td>\n",
       "      <td>0.102557</td>\n",
       "      <td>0.193015</td>\n",
       "    </tr>\n",
       "    <tr>\n",
       "      <th>569</th>\n",
       "      <td>little</td>\n",
       "      <td>1224</td>\n",
       "      <td>1480</td>\n",
       "      <td>13.0</td>\n",
       "      <td>0.004760</td>\n",
       "      <td>0.107317</td>\n",
       "      <td>0.160714</td>\n",
       "    </tr>\n",
       "    <tr>\n",
       "      <th>27</th>\n",
       "      <td>pretty</td>\n",
       "      <td>1007</td>\n",
       "      <td>1262</td>\n",
       "      <td>14.0</td>\n",
       "      <td>0.004059</td>\n",
       "      <td>0.111376</td>\n",
       "      <td>0.132222</td>\n",
       "    </tr>\n",
       "    <tr>\n",
       "      <th>735</th>\n",
       "      <td>delicious</td>\n",
       "      <td>1132</td>\n",
       "      <td>1236</td>\n",
       "      <td>15.0</td>\n",
       "      <td>0.003975</td>\n",
       "      <td>0.115352</td>\n",
       "      <td>0.148634</td>\n",
       "    </tr>\n",
       "    <tr>\n",
       "      <th>127</th>\n",
       "      <td>want</td>\n",
       "      <td>995</td>\n",
       "      <td>1201</td>\n",
       "      <td>16.0</td>\n",
       "      <td>0.003863</td>\n",
       "      <td>0.119214</td>\n",
       "      <td>0.130646</td>\n",
       "    </tr>\n",
       "    <tr>\n",
       "      <th>87</th>\n",
       "      <td>flavor</td>\n",
       "      <td>814</td>\n",
       "      <td>1190</td>\n",
       "      <td>17.0</td>\n",
       "      <td>0.003827</td>\n",
       "      <td>0.123042</td>\n",
       "      <td>0.106880</td>\n",
       "    </tr>\n",
       "    <tr>\n",
       "      <th>71</th>\n",
       "      <td>lot</td>\n",
       "      <td>998</td>\n",
       "      <td>1177</td>\n",
       "      <td>18.0</td>\n",
       "      <td>0.003786</td>\n",
       "      <td>0.126827</td>\n",
       "      <td>0.131040</td>\n",
       "    </tr>\n",
       "    <tr>\n",
       "      <th>330</th>\n",
       "      <td>service</td>\n",
       "      <td>1034</td>\n",
       "      <td>1174</td>\n",
       "      <td>19.0</td>\n",
       "      <td>0.003776</td>\n",
       "      <td>0.130603</td>\n",
       "      <td>0.135767</td>\n",
       "    </tr>\n",
       "    <tr>\n",
       "      <th>383</th>\n",
       "      <td>staff</td>\n",
       "      <td>1084</td>\n",
       "      <td>1171</td>\n",
       "      <td>20.0</td>\n",
       "      <td>0.003766</td>\n",
       "      <td>0.134369</td>\n",
       "      <td>0.142332</td>\n",
       "    </tr>\n",
       "  </tbody>\n",
       "</table>\n",
       "</div>"
      ],
      "text/plain": [
       "          word  appears_in  count  rank  pct_total  cul_pct_total  \\\n",
       "59       place        3855   5975   1.0   0.019217       0.019217   \n",
       "225       good        3240   4723   2.0   0.015190       0.034408   \n",
       "33     checkin        2980   2994   3.0   0.009630       0.044037   \n",
       "75       great        2283   2985   4.0   0.009601       0.053638   \n",
       "11       drink        1581   2244   5.0   0.007217       0.060855   \n",
       "38       ustin        1744   2200   6.0   0.007076       0.067931   \n",
       "187        hey        1628   2152   7.0   0.006921       0.074852   \n",
       "21       order        1386   2037   8.0   0.006552       0.081404   \n",
       "32        love        1451   1832   9.0   0.005892       0.087296   \n",
       "16       latte        1135   1613  10.0   0.005188       0.092484   \n",
       "51        nice        1354   1587  11.0   0.005104       0.097588   \n",
       "195   friendly        1470   1545  12.0   0.004969       0.102557   \n",
       "569     little        1224   1480  13.0   0.004760       0.107317   \n",
       "27      pretty        1007   1262  14.0   0.004059       0.111376   \n",
       "735  delicious        1132   1236  15.0   0.003975       0.115352   \n",
       "127       want         995   1201  16.0   0.003863       0.119214   \n",
       "87      flavor         814   1190  17.0   0.003827       0.123042   \n",
       "71         lot         998   1177  18.0   0.003786       0.126827   \n",
       "330    service        1034   1174  19.0   0.003776       0.130603   \n",
       "383      staff        1084   1171  20.0   0.003766       0.134369   \n",
       "\n",
       "     appears_in_pct  \n",
       "59         0.506171  \n",
       "225        0.425420  \n",
       "33         0.391282  \n",
       "75         0.299764  \n",
       "11         0.207589  \n",
       "38         0.228992  \n",
       "187        0.213761  \n",
       "21         0.181985  \n",
       "32         0.190520  \n",
       "16         0.149028  \n",
       "51         0.177784  \n",
       "195        0.193015  \n",
       "569        0.160714  \n",
       "27         0.132222  \n",
       "735        0.148634  \n",
       "127        0.130646  \n",
       "87         0.106880  \n",
       "71         0.131040  \n",
       "330        0.135767  \n",
       "383        0.142332  "
      ]
     },
     "execution_count": 23,
     "metadata": {},
     "output_type": "execute_result"
    }
   ],
   "source": [
    "# from lecture\n",
    "wc = count(df2['lemmas'])\n",
    "wc.head(20)"
   ]
  },
  {
   "cell_type": "code",
   "execution_count": 24,
   "metadata": {},
   "outputs": [
    {
     "data": {
      "image/png": "[encoded data removed]",
      "text/plain": [
       "<Figure size 432x288 with 1 Axes>"
      ]
     },
     "metadata": {
      "needs_background": "light"
     },
     "output_type": "display_data"
    }
   ],
   "source": [
    "# plots\n",
    "wc_top20 = wc[wc['rank'] <= 20]\n",
    "\n",
    "squarify.plot(sizes=wc_top20['pct_total'], label=wc_top20['word'], alpha=.8 )\n",
    "plt.axis('off')\n",
    "plt.show()"
   ]
  },
  {
   "cell_type": "code",
   "execution_count": 26,
   "metadata": {},
   "outputs": [
    {
     "data": {
      "text/html": [
       "<div>\n",
       "<style scoped>\n",
       "    .dataframe tbody tr th:only-of-type {\n",
       "        vertical-align: middle;\n",
       "    }\n",
       "\n",
       "    .dataframe tbody tr th {\n",
       "        vertical-align: top;\n",
       "    }\n",
       "\n",
       "    .dataframe thead th {\n",
       "        text-align: right;\n",
       "    }\n",
       "</style>\n",
       "<table border=\"1\" class=\"dataframe\">\n",
       "  <thead>\n",
       "    <tr style=\"text-align: right;\">\n",
       "      <th></th>\n",
       "      <th>coffee_shop_name</th>\n",
       "      <th>full_review_text</th>\n",
       "      <th>star_rating</th>\n",
       "      <th>lemmas</th>\n",
       "      <th>good</th>\n",
       "    </tr>\n",
       "  </thead>\n",
       "  <tbody>\n",
       "    <tr>\n",
       "      <th>0</th>\n",
       "      <td>The Factory - Cafe With a Soul</td>\n",
       "      <td>checkin ove love loved the atmosphere very co...</td>\n",
       "      <td>5</td>\n",
       "      <td>[checkin, ove, love, love, atmosphere, corner,...</td>\n",
       "      <td>True</td>\n",
       "    </tr>\n",
       "    <tr>\n",
       "      <th>1</th>\n",
       "      <td>The Factory - Cafe With a Soul</td>\n",
       "      <td>isted in ate ight ustin mbiance in ustin ove ...</td>\n",
       "      <td>4</td>\n",
       "      <td>[iste, eat, ight, ustin, mbiance, ustin, ove, ...</td>\n",
       "      <td>True</td>\n",
       "    </tr>\n",
       "    <tr>\n",
       "      <th>2</th>\n",
       "      <td>The Factory - Cafe With a Soul</td>\n",
       "      <td>checkin isted in runch pots loved the eclecti...</td>\n",
       "      <td>4</td>\n",
       "      <td>[checkin, iste, runch, pot, love, eclectic, ho...</td>\n",
       "      <td>True</td>\n",
       "    </tr>\n",
       "    <tr>\n",
       "      <th>3</th>\n",
       "      <td>The Factory - Cafe With a Soul</td>\n",
       "      <td>ery cool decor ood drinks ice seating owever ...</td>\n",
       "      <td>2</td>\n",
       "      <td>[ery, cool, decor, ood, drink, ice, seating, o...</td>\n",
       "      <td>False</td>\n",
       "    </tr>\n",
       "    <tr>\n",
       "      <th>4</th>\n",
       "      <td>The Factory - Cafe With a Soul</td>\n",
       "      <td>checkin hey are located within the orthcross ...</td>\n",
       "      <td>4</td>\n",
       "      <td>[checkin, hey, locate, orthcross, mall, shoppi...</td>\n",
       "      <td>True</td>\n",
       "    </tr>\n",
       "  </tbody>\n",
       "</table>\n",
       "</div>"
      ],
      "text/plain": [
       "                 coffee_shop_name  \\\n",
       "0  The Factory - Cafe With a Soul   \n",
       "1  The Factory - Cafe With a Soul   \n",
       "2  The Factory - Cafe With a Soul   \n",
       "3  The Factory - Cafe With a Soul   \n",
       "4  The Factory - Cafe With a Soul   \n",
       "\n",
       "                                    full_review_text  star_rating  \\\n",
       "0   checkin ove love loved the atmosphere very co...            5   \n",
       "1   isted in ate ight ustin mbiance in ustin ove ...            4   \n",
       "2   checkin isted in runch pots loved the eclecti...            4   \n",
       "3   ery cool decor ood drinks ice seating owever ...            2   \n",
       "4   checkin hey are located within the orthcross ...            4   \n",
       "\n",
       "                                              lemmas   good  \n",
       "0  [checkin, ove, love, love, atmosphere, corner,...   True  \n",
       "1  [iste, eat, ight, ustin, mbiance, ustin, ove, ...   True  \n",
       "2  [checkin, iste, runch, pot, love, eclectic, ho...   True  \n",
       "3  [ery, cool, decor, ood, drink, ice, seating, o...  False  \n",
       "4  [checkin, hey, locate, orthcross, mall, shoppi...   True  "
      ]
     },
     "execution_count": 26,
     "metadata": {},
     "output_type": "execute_result"
    }
   ],
   "source": [
    "# make a column with 'good' ratings\n",
    "df2['good'] = df2['star_rating'] >= 4\n",
    "\n",
    "# check \n",
    "df2.head(5)"
   ]
  },
  {
   "cell_type": "code",
   "execution_count": 29,
   "metadata": {},
   "outputs": [
    {
     "data": {
      "text/plain": [
       "((15580, 7), (7840, 7))"
      ]
     },
     "execution_count": 29,
     "metadata": {},
     "output_type": "execute_result"
    }
   ],
   "source": [
    "# set good and bad\n",
    "good = count(df2[df2['good']]['lemmas'])\n",
    "bad = count(df2[~df2['good']]['lemmas'])\n",
    "good.shape, bad.shape"
   ]
  },
  {
   "cell_type": "code",
   "execution_count": 30,
   "metadata": {},
   "outputs": [
    {
     "data": {
      "text/html": [
       "<div>\n",
       "<style scoped>\n",
       "    .dataframe tbody tr th:only-of-type {\n",
       "        vertical-align: middle;\n",
       "    }\n",
       "\n",
       "    .dataframe tbody tr th {\n",
       "        vertical-align: top;\n",
       "    }\n",
       "\n",
       "    .dataframe thead th {\n",
       "        text-align: right;\n",
       "    }\n",
       "</style>\n",
       "<table border=\"1\" class=\"dataframe\">\n",
       "  <thead>\n",
       "    <tr style=\"text-align: right;\">\n",
       "      <th></th>\n",
       "      <th>word</th>\n",
       "      <th>appears_in</th>\n",
       "      <th>count</th>\n",
       "      <th>rank</th>\n",
       "      <th>pct_total</th>\n",
       "      <th>cul_pct_total</th>\n",
       "      <th>appears_in_pct</th>\n",
       "    </tr>\n",
       "  </thead>\n",
       "  <tbody>\n",
       "    <tr>\n",
       "      <th>59</th>\n",
       "      <td>place</td>\n",
       "      <td>3107</td>\n",
       "      <td>4758</td>\n",
       "      <td>1.0</td>\n",
       "      <td>0.019511</td>\n",
       "      <td>0.019511</td>\n",
       "      <td>0.506026</td>\n",
       "    </tr>\n",
       "    <tr>\n",
       "      <th>196</th>\n",
       "      <td>good</td>\n",
       "      <td>2634</td>\n",
       "      <td>3797</td>\n",
       "      <td>2.0</td>\n",
       "      <td>0.015570</td>\n",
       "      <td>0.035081</td>\n",
       "      <td>0.428990</td>\n",
       "    </tr>\n",
       "    <tr>\n",
       "      <th>75</th>\n",
       "      <td>great</td>\n",
       "      <td>1966</td>\n",
       "      <td>2574</td>\n",
       "      <td>3.0</td>\n",
       "      <td>0.010555</td>\n",
       "      <td>0.045636</td>\n",
       "      <td>0.320195</td>\n",
       "    </tr>\n",
       "    <tr>\n",
       "      <th>33</th>\n",
       "      <td>checkin</td>\n",
       "      <td>2522</td>\n",
       "      <td>2533</td>\n",
       "      <td>4.0</td>\n",
       "      <td>0.010387</td>\n",
       "      <td>0.056022</td>\n",
       "      <td>0.410749</td>\n",
       "    </tr>\n",
       "    <tr>\n",
       "      <th>38</th>\n",
       "      <td>ustin</td>\n",
       "      <td>1510</td>\n",
       "      <td>1924</td>\n",
       "      <td>5.0</td>\n",
       "      <td>0.007890</td>\n",
       "      <td>0.063912</td>\n",
       "      <td>0.245928</td>\n",
       "    </tr>\n",
       "  </tbody>\n",
       "</table>\n",
       "</div>"
      ],
      "text/plain": [
       "        word  appears_in  count  rank  pct_total  cul_pct_total  \\\n",
       "59     place        3107   4758   1.0   0.019511       0.019511   \n",
       "196     good        2634   3797   2.0   0.015570       0.035081   \n",
       "75     great        1966   2574   3.0   0.010555       0.045636   \n",
       "33   checkin        2522   2533   4.0   0.010387       0.056022   \n",
       "38     ustin        1510   1924   5.0   0.007890       0.063912   \n",
       "\n",
       "     appears_in_pct  \n",
       "59         0.506026  \n",
       "196        0.428990  \n",
       "75         0.320195  \n",
       "33         0.410749  \n",
       "38         0.245928  "
      ]
     },
     "execution_count": 30,
     "metadata": {},
     "output_type": "execute_result"
    }
   ],
   "source": [
    "good.head()"
   ]
  },
  {
   "cell_type": "code",
   "execution_count": 31,
   "metadata": {},
   "outputs": [
    {
     "data": {
      "text/html": [
       "<div>\n",
       "<style scoped>\n",
       "    .dataframe tbody tr th:only-of-type {\n",
       "        vertical-align: middle;\n",
       "    }\n",
       "\n",
       "    .dataframe tbody tr th {\n",
       "        vertical-align: top;\n",
       "    }\n",
       "\n",
       "    .dataframe thead th {\n",
       "        text-align: right;\n",
       "    }\n",
       "</style>\n",
       "<table border=\"1\" class=\"dataframe\">\n",
       "  <thead>\n",
       "    <tr style=\"text-align: right;\">\n",
       "      <th></th>\n",
       "      <th>word</th>\n",
       "      <th>appears_in</th>\n",
       "      <th>count</th>\n",
       "      <th>rank</th>\n",
       "      <th>pct_total</th>\n",
       "      <th>cul_pct_total</th>\n",
       "      <th>appears_in_pct</th>\n",
       "    </tr>\n",
       "  </thead>\n",
       "  <tbody>\n",
       "    <tr>\n",
       "      <th>11</th>\n",
       "      <td>place</td>\n",
       "      <td>748</td>\n",
       "      <td>1217</td>\n",
       "      <td>1.0</td>\n",
       "      <td>0.018150</td>\n",
       "      <td>0.018150</td>\n",
       "      <td>0.506775</td>\n",
       "    </tr>\n",
       "    <tr>\n",
       "      <th>62</th>\n",
       "      <td>good</td>\n",
       "      <td>606</td>\n",
       "      <td>926</td>\n",
       "      <td>2.0</td>\n",
       "      <td>0.013810</td>\n",
       "      <td>0.031960</td>\n",
       "      <td>0.410569</td>\n",
       "    </tr>\n",
       "    <tr>\n",
       "      <th>107</th>\n",
       "      <td>order</td>\n",
       "      <td>409</td>\n",
       "      <td>726</td>\n",
       "      <td>3.0</td>\n",
       "      <td>0.010827</td>\n",
       "      <td>0.042788</td>\n",
       "      <td>0.277100</td>\n",
       "    </tr>\n",
       "    <tr>\n",
       "      <th>10</th>\n",
       "      <td>drink</td>\n",
       "      <td>349</td>\n",
       "      <td>587</td>\n",
       "      <td>4.0</td>\n",
       "      <td>0.008754</td>\n",
       "      <td>0.051542</td>\n",
       "      <td>0.236450</td>\n",
       "    </tr>\n",
       "    <tr>\n",
       "      <th>66</th>\n",
       "      <td>checkin</td>\n",
       "      <td>458</td>\n",
       "      <td>461</td>\n",
       "      <td>5.0</td>\n",
       "      <td>0.006875</td>\n",
       "      <td>0.058417</td>\n",
       "      <td>0.310298</td>\n",
       "    </tr>\n",
       "  </tbody>\n",
       "</table>\n",
       "</div>"
      ],
      "text/plain": [
       "        word  appears_in  count  rank  pct_total  cul_pct_total  \\\n",
       "11     place         748   1217   1.0   0.018150       0.018150   \n",
       "62      good         606    926   2.0   0.013810       0.031960   \n",
       "107    order         409    726   3.0   0.010827       0.042788   \n",
       "10     drink         349    587   4.0   0.008754       0.051542   \n",
       "66   checkin         458    461   5.0   0.006875       0.058417   \n",
       "\n",
       "     appears_in_pct  \n",
       "11         0.506775  \n",
       "62         0.410569  \n",
       "107        0.277100  \n",
       "10         0.236450  \n",
       "66         0.310298  "
      ]
     },
     "execution_count": 31,
     "metadata": {},
     "output_type": "execute_result"
    }
   ],
   "source": [
    "bad.head()"
   ]
  },
  {
   "cell_type": "code",
   "execution_count": 32,
   "metadata": {},
   "outputs": [
    {
     "data": {
      "image/png": "[encoded data removed]",
      "text/plain": [
       "<Figure size 432x288 with 1 Axes>"
      ]
     },
     "metadata": {
      "needs_background": "light"
     },
     "output_type": "display_data"
    }
   ],
   "source": [
    "# most common good words\n",
    "only_good = good[~good['word'].isin(bad['word'])]\n",
    "\n",
    "top20_good = only_good[:20]\n",
    "\n",
    "squarify.plot(sizes=top20_good['pct_total'], label=top20_good['word'], alpha=.8 )\n",
    "plt.axis('off')\n",
    "plt.show()"
   ]
  },
  {
   "cell_type": "code",
   "execution_count": 33,
   "metadata": {},
   "outputs": [
    {
     "data": {
      "image/png": "[encoded data removed]",
      "text/plain": [
       "<Figure size 432x288 with 1 Axes>"
      ]
     },
     "metadata": {
      "needs_background": "light"
     },
     "output_type": "display_data"
    }
   ],
   "source": [
    "# most common bad words\n",
    "only_bad = bad[~bad['word'].isin(good['word'])]\n",
    "\n",
    "top20_bad = only_bad[:20]\n",
    "\n",
    "squarify.plot(sizes=top20_bad['pct_total'], label=top20_bad['word'], alpha=.8 )\n",
    "plt.axis('off')\n",
    "plt.show()"
   ]
  },
  {
   "cell_type": "code",
   "execution_count": 34,
   "metadata": {},
   "outputs": [
    {
     "data": {
      "image/png": "[encoded data removed]",
      "text/plain": [
       "<Figure size 432x288 with 1 Axes>"
      ]
     },
     "metadata": {
      "needs_background": "light"
     },
     "output_type": "display_data"
    }
   ],
   "source": [
    "# words common in both\n",
    "words_only_in_both = good[good['word'].isin(bad['word'])]\n",
    "\n",
    "top20_both = words_only_in_both[:20]\n",
    "\n",
    "squarify.plot(sizes=top20_both['pct_total'], label=top20_both['word'], alpha=.8 )\n",
    "plt.axis('off')\n",
    "plt.show()"
   ]
  },
  {
   "cell_type": "code",
   "execution_count": 35,
   "metadata": {},
   "outputs": [
    {
     "name": "stdout",
     "output_type": "stream",
     "text": [
      "place: appears 4758 times in reviews of good places, and 1217 in reviews of bad places.\n",
      "good: appears 3797 times in reviews of good places, and 926 in reviews of bad places.\n",
      "great: appears 2574 times in reviews of good places, and 411 in reviews of bad places.\n",
      "checkin: appears 2533 times in reviews of good places, and 461 in reviews of bad places.\n",
      "ustin: appears 1924 times in reviews of good places, and 276 in reviews of bad places.\n",
      "hey: appears 1840 times in reviews of good places, and 312 in reviews of bad places.\n",
      "drink: appears 1657 times in reviews of good places, and 587 in reviews of bad places.\n",
      "love: appears 1611 times in reviews of good places, and 221 in reviews of bad places.\n",
      "friendly: appears 1350 times in reviews of good places, and 195 in reviews of bad places.\n",
      "order: appears 1311 times in reviews of good places, and 726 in reviews of bad places.\n",
      "latte: appears 1306 times in reviews of good places, and 307 in reviews of bad places.\n",
      "nice: appears 1261 times in reviews of good places, and 326 in reviews of bad places.\n",
      "little: appears 1228 times in reviews of good places, and 252 in reviews of bad places.\n",
      "delicious: appears 1153 times in reviews of good places, and 83 in reviews of bad places.\n",
      "flavor: appears 981 times in reviews of good places, and 209 in reviews of bad places.\n",
      "staff: appears 963 times in reviews of good places, and 208 in reviews of bad places.\n",
      "lot: appears 958 times in reviews of good places, and 219 in reviews of bad places.\n",
      "pretty: appears 927 times in reviews of good places, and 335 in reviews of bad places.\n",
      "find: appears 911 times in reviews of good places, and 221 in reviews of bad places.\n",
      "day: appears 895 times in reviews of good places, and 205 in reviews of bad places.\n"
     ]
    }
   ],
   "source": [
    "# further illustration of the previous graph\n",
    "for word in top20_both['word']:\n",
    "    good_count = good[good['word']==word]['count'].values[0]\n",
    "    bad_count = bad[bad['word']==word]['count'].values[0]\n",
    "    print(f'{word}: appears {good_count} times in reviews of good places, and {bad_count} in reviews of bad places.')"
   ]
  },
  {
   "cell_type": "markdown",
   "metadata": {
    "colab_type": "text",
    "id": "1dCb1q8XphcP",
    "toc-hr-collapsed": true
   },
   "source": [
    "## Stretch Goals\n",
    "\n",
    "* Analyze another corpus of documents - such as Indeed.com job listings ;).\n",
    "* Play with the Spacy API to\n",
    " - Extract Named Entities\n",
    " - Extracting 'noun chunks'\n",
    " - Attempt Document Classification with just Spacy\n",
    " - *Note:* This [course](https://course.spacy.io/) will be of interesting in helping you with these stretch goals. \n",
    "* Try to build a plotly dash app with your text data \n",
    "\n"
   ]
  }
 ],
 "metadata": {
  "colab": {
   "collapsed_sections": [],
   "name": "LS_DS_421_Text_Data_Assignment.ipynb",
   "provenance": [],
   "version": "0.3.2"
  },
  "kernelspec": {
   "display_name": "U4-S1-NLP (Python3)",
   "language": "python",
   "name": "u4-s1-nlp"
  },
  "language_info": {
   "codemirror_mode": {
    "name": "ipython",
    "version": 3
   },
   "file_extension": ".py",
   "mimetype": "text/x-python",
   "name": "python",
   "nbconvert_exporter": "python",
   "pygments_lexer": "ipython3",
   "version": "3.7.0"
  },
  "toc-autonumbering": false
 },
 "nbformat": 4,
 "nbformat_minor": 4
}
